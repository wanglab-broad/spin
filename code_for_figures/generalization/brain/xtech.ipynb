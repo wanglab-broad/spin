{
 "cells": [
  {
   "cell_type": "code",
   "execution_count": null,
   "metadata": {},
   "outputs": [],
   "source": [
    "import scanpy as sc\n",
    "import numpy as np\n",
    "import seaborn as sns\n",
    "import squidpy as sq\n",
    "import matplotlib.pyplot as plt\n",
    "import os\n",
    "from matplotlib.patches import Rectangle"
   ]
  },
  {
   "cell_type": "code",
   "execution_count": null,
   "metadata": {},
   "outputs": [],
   "source": [
    "basepath = '/stanley/WangLab/kamal/code/remote_notebooks/mpfc_xtech/figures/'\n",
    "dpi = 300\n",
    "region_cmap = {str(i):sc.pl.palettes.default_102[i] for i in range(40)}\n",
    "techs = ['starmap', 'slideseq', 'visium']\n",
    "figsizes = [(5,6), (6,6), (5,6)]\n",
    "ss = {'starmap':15, 'slideseq':12, 'visium':100}"
   ]
  },
  {
   "cell_type": "code",
   "execution_count": null,
   "metadata": {},
   "outputs": [],
   "source": [
    "adata = sc.read_h5ad('/stanley/WangLab/kamal/code/remote_notebooks/mpfc_xtech/adata_xtech_spin_recolored.h5ad')"
   ]
  },
  {
   "cell_type": "code",
   "execution_count": null,
   "metadata": {},
   "outputs": [],
   "source": [
    "adata.obs['region']"
   ]
  },
  {
   "cell_type": "code",
   "execution_count": null,
   "metadata": {},
   "outputs": [],
   "source": [
    "sc.set_figure_params(figsize=(5,6))\n",
    "sc.pl.embedding(adata[adata.obs['tech']=='starmap'], basis='spatial', color='region', s=10)"
   ]
  },
  {
   "cell_type": "code",
   "execution_count": null,
   "metadata": {},
   "outputs": [],
   "source": [
    "sc.set_figure_params(figsize=(5,6))\n",
    "sc.pl.embedding(adata[adata.obs['tech']=='starmap'], basis='spatial', color='region', s=10, groups='FC')"
   ]
  },
  {
   "cell_type": "code",
   "execution_count": null,
   "metadata": {},
   "outputs": [],
   "source": [
    "sc.set_figure_params(figsize=(5,5))\n",
    "sc.pl.embedding(adata[adata.obs['tech']=='slideseq'], basis='spatial', color='region', s=10, groups='FC')"
   ]
  },
  {
   "cell_type": "code",
   "execution_count": null,
   "metadata": {},
   "outputs": [],
   "source": [
    "sc.set_figure_params(figsize=(5,6))\n",
    "sc.pl.embedding(adata[adata.obs['tech']=='visium'], basis='spatial', color='region', s=50, groups='FC')"
   ]
  },
  {
   "cell_type": "code",
   "execution_count": null,
   "metadata": {},
   "outputs": [],
   "source": [
    "sc.tl.rank_genes_groups(adata, groupby='region')\n",
    "sc.pl.rank_genes_groups_dotplot(adata, groupby='region', groups=['FC'], n_genes=5)"
   ]
  },
  {
   "attachments": {},
   "cell_type": "markdown",
   "metadata": {},
   "source": [
    "# Preprocess again"
   ]
  },
  {
   "attachments": {},
   "cell_type": "markdown",
   "metadata": {},
   "source": [
    "## Remove bad STARmap genes"
   ]
  },
  {
   "cell_type": "code",
   "execution_count": null,
   "metadata": {},
   "outputs": [],
   "source": [
    "adata1 = sc.read_h5ad('/stanley/WangLab/kamal/data/marmoset/mpfc/mpfc.h5ad')\n",
    "bad_genes = {'CALB1', 'OXTR', 'FOXP2', 'FIGN', 'SORCS1', 'SPP1', 'RGS4'}\n",
    "all_genes = {gene for gene in adata1.var_names}\n",
    "good_genes = list(all_genes - bad_genes)\n",
    "adata1 = adata1[:,good_genes]\n",
    "adata1.obsm['spatial'] = adata1.obs[['x','y']].values\n",
    "adata1.var_names = [var[0].upper()+var[1:].lower() for var in adata1.var_names]\n",
    "adata1.raw = adata1.copy()"
   ]
  },
  {
   "attachments": {},
   "cell_type": "markdown",
   "metadata": {},
   "source": [
    "## Combine into one dataset and normalize"
   ]
  },
  {
   "cell_type": "code",
   "execution_count": null,
   "metadata": {},
   "outputs": [],
   "source": [
    "adata2 = sq.datasets.visium_hne_adata()\n",
    "adata2.obsm['spatial'][:,1] = -adata2.obsm['spatial'][:,1]\n",
    "adata2.X = np.array(adata2.raw[:,adata2.var_names].X.todense()) # start from raw to guarantee same pp"
   ]
  },
  {
   "cell_type": "code",
   "execution_count": null,
   "metadata": {},
   "outputs": [],
   "source": [
    "adata1.obs['species'] = ['marmoset' for _ in range(len(adata1))]\n",
    "adata2.obs['species'] = ['mouse' for _ in range(len(adata2))]\n",
    "adata = sc.concat([adata1, adata2])"
   ]
  },
  {
   "cell_type": "code",
   "execution_count": null,
   "metadata": {},
   "outputs": [],
   "source": [
    "sc.pp.normalize_total(adata)\n",
    "sc.pp.log1p(adata)\n",
    "sc.pp.scale(adata)"
   ]
  },
  {
   "cell_type": "code",
   "execution_count": null,
   "metadata": {},
   "outputs": [],
   "source": [
    "adata.write('/stanley/WangLab/kamal/code/remote_notebooks/mpfc_xtech/mpfc_marmoset_mouse.h5ad')"
   ]
  },
  {
   "cell_type": "code",
   "execution_count": null,
   "metadata": {},
   "outputs": [],
   "source": [
    "X = adata[:,marker].X.copy()\n",
    "vmin = X.min()\n",
    "vmax = X.max()\n",
    "species = ['marmoset', 'mouse']\n",
    "sc.set_figure_params(figsize=(5,6))\n",
    "ss = [10, 80]\n",
    "marker = 'Lamp5'\n",
    "print(marker)\n",
    "for i in range(len(species)):\n",
    "    subdata = adata[adata.obs['species']==species[i]]\n",
    "    sc.pl.embedding(subdata, basis='spatial', color=marker, cmap='plasma_r', s=ss[i], title='', colorbar_loc=None, return_fig=True, vmin=vmin, vmax=vmax)\n",
    "    plt.axis('off')"
   ]
  },
  {
   "attachments": {},
   "cell_type": "markdown",
   "metadata": {},
   "source": [
    "# Preprocess data"
   ]
  },
  {
   "cell_type": "code",
   "execution_count": null,
   "metadata": {},
   "outputs": [],
   "source": [
    "adata_starmap = sc.read_h5ad('/stanley/WangLab/kamal/data/mouse/hpc/hpc_preprocessed.h5ad')\n",
    "adata_starmap.obsm['spatial'] = adata_starmap.obs[['x','y']].values\n",
    "adata_starmap.var_names = [name[0]+name[1:].lower() for name in adata_starmap.var_names]\n",
    "\n",
    "adata_slideseq = sq.datasets.slideseqv2()\n",
    "adata_slideseq.obsm['spatial'][:,1] = -adata_slideseq.obsm['spatial'][:,1]\n",
    "adata_slideseq.X = np.array(adata_slideseq.raw[:,adata_slideseq.var_names].X.todense()) # start from raw to guarantee same pp\n",
    "sc.pp.normalize_total(adata_slideseq)\n",
    "sc.pp.log1p(adata_slideseq)\n",
    "sc.pp.scale(adata_slideseq)\n",
    "\n",
    "adata_visium = sq.datasets.visium_hne_adata()\n",
    "adata_visium.obsm['spatial'][:,1] = -adata_visium.obsm['spatial'][:,1]\n",
    "adata_visium.X = np.array(adata_visium.raw[:,adata_visium.var_names].X.todense()) # start from raw to guarantee same pp\n",
    "sc.pp.normalize_total(adata_visium)\n",
    "sc.pp.log1p(adata_visium)\n",
    "sc.pp.scale(adata_visium)\n",
    "\n",
    "adatas = [adata_starmap, adata_slideseq, adata_visium]"
   ]
  },
  {
   "cell_type": "code",
   "execution_count": null,
   "metadata": {},
   "outputs": [],
   "source": [
    "sc.set_figure_params(figsize=(6,6))\n",
    "for i in range(len(adatas)):\n",
    "    sc.pl.embedding(adatas[i], basis='spatial', color='Lamp5', s=ss[techs[i]])"
   ]
  },
  {
   "cell_type": "code",
   "execution_count": null,
   "metadata": {},
   "outputs": [],
   "source": [
    "for i in range(len(adatas)):\n",
    "    adatas[i].write(f'/stanley/WangLab/kamal/code/remote_notebooks/mpfc_xtech/adata_{techs[i]}.h5ad')"
   ]
  },
  {
   "cell_type": "code",
   "execution_count": null,
   "metadata": {},
   "outputs": [],
   "source": [
    "for i in range(len(techs)):\n",
    "    adata = sc.read_h5ad(f'/stanley/WangLab/kamal/code/remote_notebooks/mpfc_xtech/adata_{techs[i]}.h5ad')\n",
    "    print(adata)"
   ]
  },
  {
   "attachments": {},
   "cell_type": "markdown",
   "metadata": {},
   "source": [
    "Pass to SPIN on cluster"
   ]
  },
  {
   "attachments": {},
   "cell_type": "markdown",
   "metadata": {},
   "source": [
    "# Tissue and latent colored by region"
   ]
  },
  {
   "cell_type": "code",
   "execution_count": null,
   "metadata": {},
   "outputs": [],
   "source": [
    "pooldata = sc.read_h5ad('/stanley/WangLab/kamal/code/remote_notebooks/mpfc_xtech/adata_xtech_spin_num_nbrs_array_30_400_10.h5ad')"
   ]
  },
  {
   "cell_type": "code",
   "execution_count": null,
   "metadata": {},
   "outputs": [],
   "source": [
    "pooldata"
   ]
  },
  {
   "cell_type": "code",
   "execution_count": null,
   "metadata": {},
   "outputs": [],
   "source": [
    "res = 0.45\n",
    "sc.tl.leiden(pooldata, resolution=res, neighbors_key='region', key_added='region')"
   ]
  },
  {
   "cell_type": "code",
   "execution_count": null,
   "metadata": {},
   "outputs": [],
   "source": [
    "pooldata.obs['region']"
   ]
  },
  {
   "cell_type": "code",
   "execution_count": null,
   "metadata": {},
   "outputs": [],
   "source": [
    "for i in range(len(techs)):\n",
    "    sc.set_figure_params(figsize=figsizes[i])\n",
    "    subdata = pooldata[pooldata.obs['tech']==techs[i]]\n",
    "    sc.pl.embedding(subdata, basis='spatial', color='region', palette=region_cmap, s=ss[techs[i]], title='', legend_loc=None, return_fig=True)\n",
    "    plt.axis('off')\n",
    "    # figname = f'{techs[i]}_tissue_colored_by_region.png'\n",
    "    # savepath = os.path.join(basepath, figname)\n",
    "    # plt.savefig(savepath, bbox_inches='tight', transparent=True, dpi=dpi)"
   ]
  },
  {
   "cell_type": "code",
   "execution_count": null,
   "metadata": {},
   "outputs": [],
   "source": [
    "for i in range(len(techs)):\n",
    "    subdata = pooldata[pooldata.obs['tech']==techs[i]]\n",
    "    sc.set_figure_params(figsize=(5,5))\n",
    "    sc.pl.embedding(subdata, basis='X_umap_spin', color='region', palette=region_cmap, s=8, title='', legend_loc=None, return_fig=True)\n",
    "    plt.axis('off')\n",
    "    # figname = f'{techs[i]}_latent_colored_by_region.png'\n",
    "    # savepath = os.path.join(basepath, figname)\n",
    "    # plt.savefig(savepath, bbox_inches='tight', transparent=True, dpi=dpi)"
   ]
  },
  {
   "cell_type": "code",
   "execution_count": null,
   "metadata": {},
   "outputs": [],
   "source": [
    "# pooldata.write('/stanley/WangLab/kamal/code/remote_notebooks/mpfc_xtech/adata_xtech_spin_num_nbrs_array_30_200_20_res1.h5ad')"
   ]
  },
  {
   "cell_type": "markdown",
   "metadata": {},
   "source": [
    "# Recolor"
   ]
  },
  {
   "cell_type": "code",
   "execution_count": null,
   "metadata": {},
   "outputs": [],
   "source": [
    "adata = pooldata[pooldata.obs['tech']=='starmap']\n",
    "sc.pl.embedding(adata, basis='spatial', color='region', s=20, legend_loc='on data', title='', palette=region_cmap)"
   ]
  },
  {
   "cell_type": "code",
   "execution_count": null,
   "metadata": {},
   "outputs": [],
   "source": [
    "sc.pl.embedding(adata, basis='spatial', groups=['23'], color='region', s=20, legend_loc='on data', title='', palette=region_cmap)"
   ]
  },
  {
   "cell_type": "code",
   "execution_count": null,
   "metadata": {},
   "outputs": [],
   "source": [
    "adata = pooldata[pooldata.obs['tech']=='slideseq']\n",
    "sc.pl.embedding(adata, basis='spatial', groups=['23'], color='region', s=20, legend_loc='on data', title='', palette=region_cmap)"
   ]
  },
  {
   "cell_type": "code",
   "execution_count": null,
   "metadata": {},
   "outputs": [],
   "source": [
    "leiden2region = {\n",
    "    '0': 'TH1',\n",
    "    '1': 'fiber tract',\n",
    "    '2': 'L6',\n",
    "    '3': 'L2/3',\n",
    "    '4': 'DG',\n",
    "    '5': 'HY',\n",
    "    '6': 'CA1',\n",
    "    '7': 'L5',\n",
    "    '8': 'RSP',\n",
    "    '9': 'CP/BLA',\n",
    "    '10': 'L4',\n",
    "    '11': 'MEA/COA',\n",
    "    '12': 'CA2/3',\n",
    "    '13': 'meninges/L1',\n",
    "    '14': 'HPFmo',\n",
    "    '15': 'PIR',\n",
    "    '16': 'TH2',\n",
    "    '17': 'MHb',\n",
    "    '18': 'L6b',\n",
    "    '19': 'chpl',\n",
    "    '20': 'LHb',\n",
    "    '21': 'RT',\n",
    "    '22': 'VL',\n",
    "    '23': 'FC',\n",
    "\n",
    "}\n",
    "pooldata.obs['leiden'] = pooldata.obs['region'].copy()\n",
    "pooldata.obs['region'] = pooldata.obs['leiden'].map(leiden2region)\n",
    "pooldata.obs['region'] = pooldata.obs['region'].astype('category')"
   ]
  },
  {
   "cell_type": "markdown",
   "metadata": {},
   "source": [
    "## Use prior cmap"
   ]
  },
  {
   "cell_type": "code",
   "execution_count": null,
   "metadata": {},
   "outputs": [],
   "source": [
    "olddata = sc.read_h5ad('/stanley/WangLab/kamal/code/remote_notebooks/spatial_autocorrelation/adata_all_techniques.h5ad')\n",
    "old_regions = olddata.obs['region_smooth_subsampled'].unique()\n",
    "palette = sc.pl.palettes.default_102\n",
    "old_cmap = {old_regions[i]:palette[i] for i in range(len(old_regions))}"
   ]
  },
  {
   "cell_type": "code",
   "execution_count": null,
   "metadata": {},
   "outputs": [],
   "source": [
    "old_regions = set(old_regions)\n",
    "new_regions = set(pooldata.obs['region'].unique())\n",
    "shared_regions = old_regions.intersection(new_regions)\n",
    "all_regions = old_regions.union(new_regions)\n",
    "\n",
    "new_cmap = dict()\n",
    "for region in shared_regions:\n",
    "    new_cmap[region] = old_cmap[region]\n",
    "\n",
    "print(all_regions-shared_regions)"
   ]
  },
  {
   "cell_type": "code",
   "execution_count": null,
   "metadata": {},
   "outputs": [],
   "source": [
    "old_regions = set(old_regions)\n",
    "new_regions = set(pooldata.obs['region'].unique())\n",
    "shared_regions = old_regions.intersection(new_regions)\n",
    "all_regions = old_regions.union(new_regions)\n",
    "\n",
    "new_cmap = dict()\n",
    "for region in shared_regions:\n",
    "    new_cmap[region] = old_cmap[region]\n",
    "\n",
    "print(all_regions-shared_regions)"
   ]
  },
  {
   "cell_type": "code",
   "execution_count": null,
   "metadata": {},
   "outputs": [],
   "source": [
    "new_cmap['TH1'] = old_cmap['TH']\n",
    "new_cmap['chpl'] = old_cmap['chpl1']\n",
    "new_cmap['L6b'] = old_cmap['BLA']\n",
    "new_cmap['FC'] = palette[len(new_regions)]\n",
    "new_cmap['TH2'] = old_cmap['chpl2']\n",
    "new_cmap['CP/BLA'] = old_cmap['CP']"
   ]
  },
  {
   "cell_type": "code",
   "execution_count": null,
   "metadata": {},
   "outputs": [],
   "source": [
    "# Verify uniqueness of colors\n",
    "len(new_cmap.values()) == len(set(new_cmap.values()))"
   ]
  },
  {
   "cell_type": "code",
   "execution_count": null,
   "metadata": {},
   "outputs": [],
   "source": [
    "region_cmap = new_cmap"
   ]
  },
  {
   "cell_type": "code",
   "execution_count": null,
   "metadata": {},
   "outputs": [],
   "source": [
    "ss = {'starmap':20, 'slideseq':20, 'visium':120}"
   ]
  },
  {
   "cell_type": "code",
   "execution_count": null,
   "metadata": {},
   "outputs": [],
   "source": [
    "for i in range(len(techs)):\n",
    "    sc.set_figure_params(figsize=figsizes[i])\n",
    "    subdata = pooldata[pooldata.obs['tech']==techs[i]]\n",
    "    sc.pl.embedding(subdata, basis='spatial', color='region', palette=region_cmap, s=ss[techs[i]], title='', legend_loc=None, return_fig=True)\n",
    "    plt.axis('off')\n",
    "    figname = f'{techs[i]}_tissue_colored_by_region.png'\n",
    "    savepath = os.path.join(basepath, figname)\n",
    "    plt.savefig(savepath, bbox_inches='tight', transparent=True, dpi=dpi)"
   ]
  },
  {
   "cell_type": "code",
   "execution_count": null,
   "metadata": {},
   "outputs": [],
   "source": [
    "for i in range(len(techs)):\n",
    "    subdata = pooldata[pooldata.obs['tech']==techs[i]]\n",
    "    sc.set_figure_params(figsize=(5,5))\n",
    "    sc.pl.embedding(subdata, basis='X_umap_spin', color='region', palette=region_cmap, s=8, title='', legend_loc=None, return_fig=True)\n",
    "    plt.axis('off')\n",
    "    figname = f'{techs[i]}_latent_colored_by_region.png'\n",
    "    savepath = os.path.join(basepath, figname)\n",
    "    plt.savefig(savepath, bbox_inches='tight', transparent=True, dpi=dpi)"
   ]
  },
  {
   "cell_type": "code",
   "execution_count": null,
   "metadata": {},
   "outputs": [],
   "source": [
    "sc.set_figure_params(figsize=(5,5))\n",
    "sc.pl.embedding(pooldata, basis='X_umap_spin', color='region', palette=region_cmap, s=8, title='', legend_loc=None, return_fig=True)\n",
    "plt.axis('off')\n",
    "figname = 'all_latent_colored_by_region.png'\n",
    "savepath = os.path.join(basepath, figname)\n",
    "plt.savefig(savepath, bbox_inches='tight', transparent=True, dpi=dpi)"
   ]
  },
  {
   "cell_type": "code",
   "execution_count": null,
   "metadata": {},
   "outputs": [],
   "source": [
    "sc.set_figure_params(figsize=(5,5))\n",
    "sc.pl.embedding(pooldata, basis='X_umap_spin', color='tech', s=15, title='', legend_loc=None, return_fig=True)\n",
    "plt.axis('off')\n",
    "figname = 'all_latent_colored_by_tech.png'\n",
    "savepath = os.path.join(basepath, figname)\n",
    "plt.savefig(savepath, bbox_inches='tight', transparent=True, dpi=dpi)"
   ]
  },
  {
   "cell_type": "code",
   "execution_count": null,
   "metadata": {},
   "outputs": [],
   "source": [
    "# Non-shuffled (above) actually looks better\n",
    "sc.set_figure_params(figsize=(5,5))\n",
    "random_idxs = np.random.choice(np.arange(len(adata)), size=len(adata), replace=False)\n",
    "sc.pl.embedding(pooldata[random_idxs], basis='X_umap_spin', color='tech', s=10, title='', legend_loc=None, return_fig=True)\n",
    "plt.axis('off')\n",
    "# figname = 'all_latent_colored_by_tech.png'\n",
    "# savepath = os.path.join(basepath, figname)\n",
    "# plt.savefig(savepath, bbox_inches='tight', transparent=True, dpi=dpi)"
   ]
  },
  {
   "cell_type": "code",
   "execution_count": null,
   "metadata": {},
   "outputs": [],
   "source": [
    "adata = pooldata[pooldata.obs['tech']=='starmap']\n",
    "sc.pl.embedding(adata, basis='X_umap_spin', color='region', s=20, legend_loc='on data', title='', palette=region_cmap)"
   ]
  },
  {
   "cell_type": "code",
   "execution_count": null,
   "metadata": {},
   "outputs": [],
   "source": [
    "pooldata.write('/stanley/WangLab/kamal/code/remote_notebooks/mpfc_xtech/adata_xtech_spin_recolored.h5ad')"
   ]
  },
  {
   "attachments": {},
   "cell_type": "markdown",
   "metadata": {},
   "source": [
    "# Tissue zooms colored by region"
   ]
  },
  {
   "cell_type": "code",
   "execution_count": null,
   "metadata": {},
   "outputs": [],
   "source": [
    "def get_zoom(adata, x, y, width, height):\n",
    "    zoomdata = adata[adata.obsm['spatial'][:,0]>x]\n",
    "    zoomdata = zoomdata[zoomdata.obsm['spatial'][:,0]<x+width]\n",
    "    zoomdata = zoomdata[zoomdata.obsm['spatial'][:,1]>y]\n",
    "    zoomdata = zoomdata[zoomdata.obsm['spatial'][:,1]<y+height]\n",
    "    return zoomdata"
   ]
  },
  {
   "cell_type": "code",
   "execution_count": null,
   "metadata": {},
   "outputs": [],
   "source": [
    "zoomdata_starmap = get_zoom(pooldata[pooldata.obs['tech']=='starmap'], 11000, 17500, 5000, 8500)\n",
    "zoomdata_visium = get_zoom(pooldata[pooldata.obs['tech']=='visium'], 5000, -7000, 2000, 3000)"
   ]
  },
  {
   "cell_type": "code",
   "execution_count": null,
   "metadata": {},
   "outputs": [],
   "source": [
    "sc.set_figure_params(figsize=(5,6))\n",
    "zoomtechs = ['starmap', 'visium']\n",
    "zoomdatas = [zoomdata_starmap, zoomdata_visium]\n",
    "zoomss = [150, 700]\n",
    "for i in range(len(zoomtechs)):\n",
    "    sc.pl.embedding(zoomdatas[i], basis='spatial', color='region', palette=region_cmap, s=zoomss[i], return_fig=True, frameon=False, title='', legend_loc=None, edgecolor=None)\n",
    "    figname = f'zoom_tissue_{zoomtechs[i]}_colored_by_region.png'\n",
    "    savepath = os.path.join(basepath, figname)\n",
    "    plt.savefig(savepath, bbox_inches='tight', transparent=True, dpi=dpi)\n",
    "    plt.show()"
   ]
  },
  {
   "cell_type": "markdown",
   "metadata": {},
   "source": [
    "# Cross-species analysis"
   ]
  },
  {
   "attachments": {},
   "cell_type": "markdown",
   "metadata": {},
   "source": [
    "## Full mouse slice"
   ]
  },
  {
   "cell_type": "markdown",
   "metadata": {},
   "source": [
    "Load output from SPIN on the cluster"
   ]
  },
  {
   "cell_type": "code",
   "execution_count": null,
   "metadata": {},
   "outputs": [],
   "source": [
    "species = ['marmoset', 'mouse']\n",
    "figsizes = [(2,6), (5,6)]\n",
    "ss = [5, 80]"
   ]
  },
  {
   "cell_type": "code",
   "execution_count": null,
   "metadata": {},
   "outputs": [],
   "source": [
    "adata = sc.read_h5ad('/stanley/WangLab/kamal/data/integrated/spatial/marmoset_mouse/marmoset_mouse_xtech_spin_goodgenes_batchcorr_20pcs.h5ad')"
   ]
  },
  {
   "cell_type": "code",
   "execution_count": null,
   "metadata": {},
   "outputs": [],
   "source": [
    "sc.tl.leiden(adata, neighbors_key='region', key_added='region', resolution=0.3)"
   ]
  },
  {
   "cell_type": "code",
   "execution_count": null,
   "metadata": {},
   "outputs": [],
   "source": [
    "for i in range(len(species)):\n",
    "    subdata = adata[adata.obs['species']==species[i]]\n",
    "    sc.set_figure_params(figsize=figsizes[i])\n",
    "    sc.pl.embedding(subdata, basis='spatial', color='region', s=ss[i], return_fig=True, frameon=False, title='', edgecolor=None)\n",
    "    # figname = f'tissue_{species[i]}_colored_by_region.png'\n",
    "    # savepath = os.path.join(basepath, figname)\n",
    "    # plt.savefig(savepath, bbox_inches='tight', transparent=True, dpi=dpi)\n",
    "    plt.show()"
   ]
  },
  {
   "cell_type": "code",
   "execution_count": null,
   "metadata": {},
   "outputs": [],
   "source": [
    "for i in range(len(species)):\n",
    "    subdata = adata[adata.obs['species']==species[i]]\n",
    "    sc.set_figure_params(figsize=(5,5))\n",
    "    sc.pl.embedding(subdata, basis='X_umap_spin', color='region', s=10, return_fig=True, frameon=False, title='', legend_loc=None, edgecolor=None)\n",
    "    # figname = f'tissue_{species[i]}_colored_by_region.png'\n",
    "    # savepath = os.path.join(basepath, figname)\n",
    "    # plt.savefig(savepath, bbox_inches='tight', transparent=True, dpi=dpi)\n",
    "    plt.show()"
   ]
  },
  {
   "cell_type": "code",
   "execution_count": null,
   "metadata": {},
   "outputs": [],
   "source": [
    "sc.set_figure_params(figsize=(5,5))\n",
    "sc.pl.embedding(adata, basis='X_umap_spin', color='region', s=10, return_fig=True, frameon=False, title='', legend_loc=None, edgecolor=None)\n",
    "# figname = f'tissue_{species[i]}_colored_by_region.png'\n",
    "# savepath = os.path.join(basepath, figname)\n",
    "# plt.savefig(savepath, bbox_inches='tight', transparent=True, dpi=dpi)\n",
    "plt.show()"
   ]
  },
  {
   "cell_type": "code",
   "execution_count": null,
   "metadata": {},
   "outputs": [],
   "source": [
    "sc.set_figure_params(figsize=(5,5))\n",
    "sc.pl.embedding(adata, basis='X_umap_spin', color='species', s=10, return_fig=True, frameon=False, title='', legend_loc=None, edgecolor=None)\n",
    "# figname = f'tissue_{species[i]}_colored_by_region.png'\n",
    "# savepath = os.path.join(basepath, figname)\n",
    "# plt.savefig(savepath, bbox_inches='tight', transparent=True, dpi=dpi)\n",
    "plt.show()"
   ]
  },
  {
   "attachments": {},
   "cell_type": "markdown",
   "metadata": {},
   "source": [
    "## Mouse cortex only"
   ]
  },
  {
   "attachments": {},
   "cell_type": "markdown",
   "metadata": {},
   "source": [
    "### Load output from cross tech analysis on cluster"
   ]
  },
  {
   "cell_type": "code",
   "execution_count": null,
   "metadata": {},
   "outputs": [],
   "source": [
    "adata = sc.read_h5ad('/stanley/WangLab/kamal/code/remote_notebooks/mpfc_xtech/adata_xtech_spin_recolored.h5ad')"
   ]
  },
  {
   "cell_type": "code",
   "execution_count": null,
   "metadata": {},
   "outputs": [],
   "source": [
    "adata = adata[adata.obs['tech']=='visium']"
   ]
  },
  {
   "cell_type": "code",
   "execution_count": null,
   "metadata": {},
   "outputs": [],
   "source": [
    "sc.pl.embedding(adata, basis='spatial', color='region', palette=sc.pl.palettes.default_102, s=100)"
   ]
  },
  {
   "cell_type": "code",
   "execution_count": null,
   "metadata": {},
   "outputs": [],
   "source": [
    "# ctx_regions = ['L2/3', 'L4', 'L5', 'L6', 'L6b', 'fiber tract']\n",
    "ctx_regions = ['L2/3', 'L4', 'L5', 'L6', 'L6b']\n",
    "sc.pl.embedding(adata, basis='spatial', color='region', groups=ctx_regions, palette=sc.pl.palettes.default_102)"
   ]
  },
  {
   "cell_type": "code",
   "execution_count": null,
   "metadata": {},
   "outputs": [],
   "source": [
    "adata = adata[np.isin(adata.obs['region'],ctx_regions)]"
   ]
  },
  {
   "cell_type": "code",
   "execution_count": null,
   "metadata": {},
   "outputs": [],
   "source": [
    "adata.obs"
   ]
  },
  {
   "cell_type": "code",
   "execution_count": null,
   "metadata": {},
   "outputs": [],
   "source": [
    "adata.write('/stanley/WangLab/kamal/code/remote_notebooks/mpfc_xtech/adata_visium_ctx.h5ad')"
   ]
  },
  {
   "cell_type": "code",
   "execution_count": null,
   "metadata": {},
   "outputs": [],
   "source": [
    "fulldata = sc.read_h5ad('/stanley/WangLab/kamal/code/remote_notebooks/mpfc_xtech/adata_visium.h5ad')"
   ]
  },
  {
   "cell_type": "code",
   "execution_count": null,
   "metadata": {},
   "outputs": [],
   "source": [
    "fulldata"
   ]
  },
  {
   "cell_type": "code",
   "execution_count": null,
   "metadata": {},
   "outputs": [],
   "source": [
    "ctxidxs = list(adata.obs.index)\n",
    "fullidxs = list(fulldata.obs.index)"
   ]
  },
  {
   "cell_type": "code",
   "execution_count": null,
   "metadata": {},
   "outputs": [],
   "source": [
    "idxs = [fullidxs.index(ctxidxs[i]) for i in range(len(ctxidxs))]"
   ]
  },
  {
   "cell_type": "code",
   "execution_count": null,
   "metadata": {},
   "outputs": [],
   "source": [
    "newdata = fulldata[idxs]"
   ]
  },
  {
   "cell_type": "code",
   "execution_count": null,
   "metadata": {},
   "outputs": [],
   "source": [
    "sc.pl.embedding(newdata, basis='spatial', s=100)"
   ]
  },
  {
   "cell_type": "code",
   "execution_count": null,
   "metadata": {},
   "outputs": [],
   "source": [
    "newdata.X"
   ]
  },
  {
   "cell_type": "code",
   "execution_count": null,
   "metadata": {},
   "outputs": [],
   "source": [
    "newdata"
   ]
  },
  {
   "cell_type": "code",
   "execution_count": null,
   "metadata": {},
   "outputs": [],
   "source": [
    "adata"
   ]
  },
  {
   "cell_type": "code",
   "execution_count": null,
   "metadata": {},
   "outputs": [],
   "source": [
    "newdata.var"
   ]
  },
  {
   "cell_type": "code",
   "execution_count": null,
   "metadata": {},
   "outputs": [],
   "source": [
    "sc.pp.filter_genes(newdata, min_cells=10)"
   ]
  },
  {
   "cell_type": "code",
   "execution_count": null,
   "metadata": {},
   "outputs": [],
   "source": [
    "newdata"
   ]
  },
  {
   "cell_type": "code",
   "execution_count": null,
   "metadata": {},
   "outputs": [],
   "source": [
    "newdata.write('/stanley/WangLab/kamal/code/remote_notebooks/mpfc_xtech/adata_visium_ctx.h5ad')"
   ]
  },
  {
   "attachments": {},
   "cell_type": "markdown",
   "metadata": {},
   "source": [
    "### Run SPIN on cluster to integrate the above ctx portion of visium w starmap marmoset"
   ]
  },
  {
   "cell_type": "code",
   "execution_count": null,
   "metadata": {},
   "outputs": [],
   "source": [
    "adata = sc.read_h5ad('/stanley/WangLab/kamal/data/integrated/spatial/marmoset_mouse/marmoset_mouse_xtech_spin_goodgenes_batchcorr_10pcs_ctx.h5ad')"
   ]
  },
  {
   "cell_type": "code",
   "execution_count": null,
   "metadata": {},
   "outputs": [],
   "source": [
    "adata"
   ]
  },
  {
   "cell_type": "code",
   "execution_count": null,
   "metadata": {},
   "outputs": [],
   "source": [
    "sc.tl.leiden(adata, neighbors_key='region', key_added='region', resolution=0.42)"
   ]
  },
  {
   "cell_type": "code",
   "execution_count": null,
   "metadata": {},
   "outputs": [],
   "source": [
    "subdata = adata[adata.obs['species']=='marmoset']\n",
    "sc.set_figure_params(figsize=(2,6))\n",
    "sc.pl.embedding(subdata, basis='spatial', color='region', s=5, return_fig=True, frameon=False, title='', edgecolor=None)\n",
    "plt.show()"
   ]
  },
  {
   "cell_type": "code",
   "execution_count": null,
   "metadata": {},
   "outputs": [],
   "source": [
    "subdata = adata[adata.obs['species']=='mouse']\n",
    "sc.set_figure_params(figsize=(6,6))\n",
    "sc.pl.embedding(subdata, basis='spatial', color='region', s=100, return_fig=True, frameon=False, title='', edgecolor=None)\n",
    "plt.show()"
   ]
  },
  {
   "cell_type": "code",
   "execution_count": null,
   "metadata": {},
   "outputs": [],
   "source": [
    "adata_full = sc.read_h5ad('/stanley/WangLab/kamal/code/remote_notebooks/mpfc_xtech/adata_xtech_spin_num_nbrs_array_30_200_20_res1.h5ad')\n",
    "adata_full = adata_full[adata_full.obs['tech']=='visium']"
   ]
  },
  {
   "cell_type": "code",
   "execution_count": null,
   "metadata": {},
   "outputs": [],
   "source": [
    "plt.figure(figsize=(5,6))\n",
    "plt.scatter(*adata_full.obsm['spatial'].T, color=[0.5]*3, s=30)\n",
    "\n",
    "subdata = adata[adata.obs['species']=='mouse']\n",
    "sc.set_figure_params(figsize=(5,6))\n",
    "sc.pl.embedding(subdata, basis='spatial', color='region', s=80, frameon=False, title='', edgecolor=None, ax=plt.gca())\n",
    "plt.show()"
   ]
  },
  {
   "cell_type": "code",
   "execution_count": null,
   "metadata": {},
   "outputs": [],
   "source": [
    "adata[adata.obs['species']=='marmoset'].obs['region'].value_counts()"
   ]
  },
  {
   "cell_type": "code",
   "execution_count": null,
   "metadata": {},
   "outputs": [],
   "source": [
    "# Filter out regions with fewer than 500 cells in marmoset\n",
    "adata = adata[adata.obs['region']!='6']"
   ]
  },
  {
   "cell_type": "code",
   "execution_count": null,
   "metadata": {},
   "outputs": [],
   "source": [
    "leiden2region = {\n",
    "    '0': 'L2/3',\n",
    "    '1': 'L5',\n",
    "    '2': 'L4',\n",
    "    '3': 'L6',\n",
    "    '4': 'fiber tract',\n",
    "    '5': 'meninges/L1',\n",
    "    '6': 'L6b',\n",
    "}\n",
    "adata.obs['leiden'] = adata.obs['region'].copy()\n",
    "adata.obs['region'] = adata.obs['leiden'].map(leiden2region)\n",
    "adata.obs['region'] = adata.obs['region'].astype('category')"
   ]
  },
  {
   "cell_type": "code",
   "execution_count": null,
   "metadata": {},
   "outputs": [],
   "source": [
    "olddata = sc.read_h5ad('/stanley/WangLab/kamal/code/remote_notebooks/spatial_autocorrelation/adata_all_techniques.h5ad')\n",
    "old_regions = olddata.obs['region_smooth_subsampled'].unique()\n",
    "palette = sc.pl.palettes.default_102\n",
    "old_cmap = {old_regions[i]:palette[i] for i in range(len(old_regions))}"
   ]
  },
  {
   "cell_type": "code",
   "execution_count": null,
   "metadata": {},
   "outputs": [],
   "source": [
    "old_cmap['L6b'] = sc.pl.palettes.default_102[7]"
   ]
  },
  {
   "cell_type": "code",
   "execution_count": null,
   "metadata": {},
   "outputs": [],
   "source": [
    "subdata = adata[adata.obs['species']=='marmoset']\n",
    "sc.set_figure_params(figsize=(2.4,6))\n",
    "sc.pl.embedding(subdata, basis='spatial', color='region', palette=old_cmap, s=5, return_fig=True, frameon=False, title='', edgecolor=None, legend_loc=None)\n",
    "figname = f'tissue_marmoset_colored_by_region.png'\n",
    "savepath = os.path.join(basepath, figname)\n",
    "plt.savefig(savepath, bbox_inches='tight', transparent=True, dpi=dpi)\n",
    "plt.show()"
   ]
  },
  {
   "cell_type": "code",
   "execution_count": null,
   "metadata": {},
   "outputs": [],
   "source": [
    "subdata = adata[adata.obs['species']=='mouse']\n",
    "\n",
    "plt.figure(figsize=(5,6))\n",
    "plt.scatter(*adata_full.obsm['spatial'].T, color=[0.7]*3, s=30)\n",
    "plt.scatter(*subdata.obsm['spatial'].T, c=[old_cmap[region] for region in subdata.obs['region']], s=30)\n",
    "plt.axis('off')\n",
    "\n",
    "# sc.set_figure_params(figsize=(5,6))\n",
    "# sc.pl.embedding(subdata, basis='spatial', color='region', palette=old_cmap, s=80, frameon=False, title='', edgecolor=None, ax=plt.gca(), legend_loc=None)\n",
    "figname = f'tissue_mouse_colored_by_region.png'\n",
    "savepath = os.path.join(basepath, figname)\n",
    "plt.savefig(savepath, bbox_inches='tight', transparent=True, dpi=dpi)\n",
    "plt.show()"
   ]
  },
  {
   "cell_type": "code",
   "execution_count": null,
   "metadata": {},
   "outputs": [],
   "source": [
    "species = ['marmoset', 'mouse']\n",
    "for i in range(len(species)):\n",
    "    subdata = adata[adata.obs['species']==species[i]]\n",
    "    sc.set_figure_params(figsize=(5,5))\n",
    "    sc.pl.embedding(subdata, basis='X_umap_spin', color='region', palette=old_cmap, s=10, return_fig=True, frameon=False, title='', legend_loc=None, edgecolor=None)\n",
    "    plt.show()"
   ]
  },
  {
   "cell_type": "code",
   "execution_count": null,
   "metadata": {},
   "outputs": [],
   "source": [
    "sc.set_figure_params(figsize=(5,5))\n",
    "sc.pl.embedding(adata, basis='X_umap_spin', color='region', palette=old_cmap, s=10, return_fig=True, frameon=False, title='', legend_loc=None, edgecolor=None)\n",
    "figname = f'latent_colored_by_region_xspecies.png'\n",
    "savepath = os.path.join(basepath, figname)\n",
    "plt.savefig(savepath, bbox_inches='tight', transparent=True, dpi=dpi)\n",
    "plt.show()"
   ]
  },
  {
   "cell_type": "code",
   "execution_count": null,
   "metadata": {},
   "outputs": [],
   "source": [
    "sc.set_figure_params(figsize=(5,5))\n",
    "sc.pl.embedding(adata, basis='X_umap_spin', color='species', s=20, return_fig=True, frameon=False, title='', legend_loc=None, edgecolor=None)\n",
    "figname = f'latent_colored_by_species.png'\n",
    "savepath = os.path.join(basepath, figname)\n",
    "plt.savefig(savepath, bbox_inches='tight', transparent=True, dpi=dpi)\n",
    "plt.show()"
   ]
  },
  {
   "attachments": {},
   "cell_type": "markdown",
   "metadata": {},
   "source": [
    "# Markers"
   ]
  },
  {
   "cell_type": "markdown",
   "metadata": {},
   "source": [
    "## L2/3, shared"
   ]
  },
  {
   "cell_type": "code",
   "execution_count": null,
   "metadata": {},
   "outputs": [],
   "source": [
    "region = 'L2/3'"
   ]
  },
  {
   "cell_type": "code",
   "execution_count": null,
   "metadata": {},
   "outputs": [],
   "source": [
    "adata.layers['scaled'] = adata.X.copy()"
   ]
  },
  {
   "cell_type": "code",
   "execution_count": null,
   "metadata": {},
   "outputs": [],
   "source": [
    "sc.tl.rank_genes_groups(adata, groupby='region')\n",
    "marker_df = sc.get.rank_genes_groups_df(adata, group=region)\n",
    "shared_marker = marker_df['names'][0]"
   ]
  },
  {
   "cell_type": "code",
   "execution_count": null,
   "metadata": {},
   "outputs": [],
   "source": [
    "plt.figure(figsize=(5,2))\n",
    "plt.hist(marker_df['scores'], bins=30, color=old_cmap['L2/3'], linewidth=1, edgecolor='k')\n",
    "plt.grid(None)\n",
    "plt.axis('off')\n",
    "figname = f'region_deg_score_hist_xspecies.png'\n",
    "savepath = os.path.join(basepath, figname)\n",
    "plt.savefig(savepath, bbox_inches='tight', transparent=True, dpi=dpi)\n",
    "plt.show()"
   ]
  },
  {
   "cell_type": "code",
   "execution_count": null,
   "metadata": {},
   "outputs": [],
   "source": [
    "plt.figure(figsize=(5,2))\n",
    "plt.hist(marker_df['scores'], bins=30, color=old_cmap['L2/3'], linewidth=1, edgecolor='k')\n",
    "plt.grid(None)\n",
    "plt.show()"
   ]
  },
  {
   "cell_type": "code",
   "execution_count": null,
   "metadata": {},
   "outputs": [],
   "source": [
    "marker_df['scores']"
   ]
  },
  {
   "cell_type": "code",
   "execution_count": null,
   "metadata": {},
   "outputs": [],
   "source": [
    "marker_df['names'][:10]"
   ]
  },
  {
   "cell_type": "code",
   "execution_count": null,
   "metadata": {},
   "outputs": [],
   "source": [
    "marker_df['scores'][5]"
   ]
  },
  {
   "cell_type": "code",
   "execution_count": null,
   "metadata": {},
   "outputs": [],
   "source": [
    "xdata = adata[adata.obs['region']==region]\n",
    "sc.tl.rank_genes_groups(xdata, groupby='species')\n",
    "marker_df = sc.get.rank_genes_groups_df(xdata, group='mouse')\n",
    "mouse_markers = marker_df['names']\n",
    "mouse_marker = mouse_markers[0]"
   ]
  },
  {
   "cell_type": "code",
   "execution_count": null,
   "metadata": {},
   "outputs": [],
   "source": [
    "marker_df['scores']"
   ]
  },
  {
   "cell_type": "code",
   "execution_count": null,
   "metadata": {},
   "outputs": [],
   "source": [
    "marker_df['names']"
   ]
  },
  {
   "cell_type": "code",
   "execution_count": null,
   "metadata": {},
   "outputs": [],
   "source": [
    "plt.figure(figsize=(5,2))\n",
    "plt.hist(marker_df['scores'], bins=30, color=old_cmap['L2/3'], linewidth=1, edgecolor='k')\n",
    "plt.grid(None)\n",
    "plt.axis('off')\n",
    "figname = f'L23_deg_score_hist_xspecies.png'\n",
    "savepath = os.path.join(basepath, figname)\n",
    "plt.savefig(savepath, bbox_inches='tight', transparent=True, dpi=dpi)\n",
    "plt.show()"
   ]
  },
  {
   "cell_type": "code",
   "execution_count": null,
   "metadata": {},
   "outputs": [],
   "source": [
    "plt.figure(figsize=(5,2))\n",
    "plt.hist(marker_df['scores'], bins=30, color=old_cmap['L2/3'], linewidth=1, edgecolor='k')\n",
    "plt.grid(None)\n",
    "plt.show()"
   ]
  },
  {
   "attachments": {},
   "cell_type": "markdown",
   "metadata": {},
   "source": [
    "### Zooms"
   ]
  },
  {
   "cell_type": "code",
   "execution_count": null,
   "metadata": {},
   "outputs": [],
   "source": [
    "def get_zoom(adata, x, y, width, height):\n",
    "    zoomdata = adata[adata.obsm['spatial'][:,0]>x]\n",
    "    zoomdata = zoomdata[zoomdata.obsm['spatial'][:,0]<x+width]\n",
    "    zoomdata = zoomdata[zoomdata.obsm['spatial'][:,1]>y]\n",
    "    zoomdata = zoomdata[zoomdata.obsm['spatial'][:,1]<y+height]\n",
    "    return zoomdata"
   ]
  },
  {
   "cell_type": "code",
   "execution_count": null,
   "metadata": {},
   "outputs": [],
   "source": [
    "# marmoset_box = (-4400, 10800, 1400, 4200)\n",
    "marmoset_box = (2200, 10200, 1600, 4800)\n",
    "subdata = adata[adata.obs['species']=='marmoset']\n",
    "\n",
    "plt.figure(figsize=(1.5,4))\n",
    "plt.scatter(*subdata.obsm['spatial'].T, s=1)\n",
    "rect = Rectangle(marmoset_box[:2], marmoset_box[2], marmoset_box[3], fill=False, edgecolor='k')\n",
    "plt.gca().add_patch(rect)\n",
    "plt.axis('off')\n",
    "plt.show()"
   ]
  },
  {
   "cell_type": "code",
   "execution_count": null,
   "metadata": {},
   "outputs": [],
   "source": [
    "# mouse_box = (2600, 8200, 2050, 6150)\n",
    "mouse_box = (5300, -3650, 700, 2100)\n",
    "subdata = adata[adata.obs['species']=='mouse']\n",
    "\n",
    "plt.figure(figsize=(4,4))\n",
    "plt.scatter(*subdata.obsm['spatial'].T, s=20, c=[old_cmap[region] for region in subdata.obs['region']])\n",
    "rect = Rectangle(mouse_box[:2], mouse_box[2], mouse_box[3], fill=False, edgecolor='k')\n",
    "plt.gca().add_patch(rect)\n",
    "plt.axis('off')\n",
    "plt.show()"
   ]
  },
  {
   "cell_type": "code",
   "execution_count": null,
   "metadata": {},
   "outputs": [],
   "source": [
    "# ctxdata = adata[adata.obs['region']!='meninges/L1']\n",
    "# ctxdata = ctxdata[ctxdata.obs['region']!='fiber tract']\n",
    "ctxdata = adata"
   ]
  },
  {
   "cell_type": "code",
   "execution_count": null,
   "metadata": {},
   "outputs": [],
   "source": [
    "zoomdata_marmoset = get_zoom(ctxdata[ctxdata.obs['species']=='marmoset'], *marmoset_box)\n",
    "zoomdata_mouse = get_zoom(ctxdata[ctxdata.obs['species']=='mouse'], *mouse_box)"
   ]
  },
  {
   "cell_type": "code",
   "execution_count": null,
   "metadata": {},
   "outputs": [],
   "source": [
    "linewidths = [0.05, 0.5]"
   ]
  },
  {
   "cell_type": "code",
   "execution_count": null,
   "metadata": {},
   "outputs": [],
   "source": [
    "sc.set_figure_params(figsize=(2,6))\n",
    "species = ['marmoset', 'mouse']\n",
    "zoomdatas = [zoomdata_marmoset, zoomdata_mouse]\n",
    "ss = [80, 2000]\n",
    "for i in range(len(species)):\n",
    "    sc.pl.embedding(zoomdatas[i], basis='spatial', color='region', palette=old_cmap, s=ss[i], return_fig=True, frameon=False, title='', legend_loc=None, edgecolor='k', linewidth=linewidths[i])\n",
    "    figname = f'zoom_tissue_{species[i]}_colored_by_regions.png'\n",
    "    savepath = os.path.join(basepath, figname)\n",
    "    plt.savefig(savepath, bbox_inches='tight', transparent=True, dpi=dpi)\n",
    "    plt.show()"
   ]
  },
  {
   "cell_type": "code",
   "execution_count": null,
   "metadata": {},
   "outputs": [],
   "source": [
    "# X = sc.concat((zoomdata_marmoset, zoomdata_mouse))[:,[shared_marker]].X\n",
    "# vmax = X.max()\n",
    "# vmin = X.min()\n",
    "cmaps = ['Blues', 'Oranges']"
   ]
  },
  {
   "cell_type": "code",
   "execution_count": null,
   "metadata": {},
   "outputs": [],
   "source": [
    "subdata_marmoset = ctxdata[ctxdata.obs['species']=='marmoset']\n",
    "subdata_mouse = ctxdata[ctxdata.obs['species']=='mouse']"
   ]
  },
  {
   "cell_type": "code",
   "execution_count": null,
   "metadata": {},
   "outputs": [],
   "source": [
    "sc.set_figure_params(figsize=(2,6))\n",
    "species = ['marmoset', 'mouse']\n",
    "subdatas = [subdata_marmoset, subdata_mouse]\n",
    "ss = [50, 200]\n",
    "for i in range(len(species)):\n",
    "    sc.pl.embedding(subdatas[i], basis='spatial', color=shared_marker, s=ss[i], cmap=cmaps[i],\n",
    "    return_fig=True, frameon=False, title='', colorbar_loc=None, edgecolor='k', linewidth=0.05,\n",
    "    )# vmin=vmin, vmax=vmax)\n",
    "    # sc.pl.embedding(subdatas[i], basis='spatial', color=shared_marker, s=100, cmap='inferno_r', return_fig=True, frameon=False, title='', colorbar_loc=None, edgecolor=None)\n",
    "    # figname = f'zoom_tissue_{species[i]}_colored_by_{shared_marker}.png'\n",
    "    # savepath = os.path.join(basepath, figname)\n",
    "    # plt.savefig(savepath, bbox_inches='tight', transparent=True, dpi=dpi)\n",
    "    plt.show()"
   ]
  },
  {
   "cell_type": "code",
   "execution_count": null,
   "metadata": {},
   "outputs": [],
   "source": [
    "sc.set_figure_params(figsize=(2,6))\n",
    "species = ['marmoset', 'mouse']\n",
    "subdatas = [subdata_marmoset, subdata_mouse]\n",
    "ss = [50, 200]\n",
    "for i in range(len(species)):\n",
    "    sc.pl.embedding(subdatas[i], basis='spatial', color=mouse_marker, s=ss[i], cmap=cmaps[i],\n",
    "    return_fig=True, frameon=False, title='', colorbar_loc=None, edgecolor='k', linewidth=0.05,\n",
    "    )# vmin=vmin, vmax=vmax)\n",
    "    # sc.pl.embedding(subdatas[i], basis='spatial', color=mouse_marker, s=100, cmap='inferno_r', return_fig=True, frameon=False, title='', colorbar_loc=None, edgecolor=None)\n",
    "    # figname = f'zoom_tissue_{species[i]}_colored_by_{mouse_marker}.png'\n",
    "    # savepath = os.path.join(basepath, figname)\n",
    "    # plt.savefig(savepath, bbox_inches='tight', transparent=True, dpi=dpi)\n",
    "    plt.show()"
   ]
  },
  {
   "cell_type": "code",
   "execution_count": null,
   "metadata": {},
   "outputs": [],
   "source": [
    "ss = [80, 2000]"
   ]
  },
  {
   "cell_type": "code",
   "execution_count": null,
   "metadata": {},
   "outputs": [],
   "source": [
    "sc.set_figure_params(figsize=(2,6))\n",
    "species = ['marmoset', 'mouse']\n",
    "zoomdatas = [zoomdata_marmoset, zoomdata_mouse]\n",
    "for i in range(len(species)):\n",
    "    sc.pl.embedding(zoomdatas[i], basis='spatial', color=shared_marker, s=ss[i], cmap=cmaps[i],\n",
    "    return_fig=True, frameon=False, title='', colorbar_loc=None, edgecolor='k', linewidth=linewidths[i],\n",
    "    )# vmin=vmin, vmax=vmax)\n",
    "    # sc.pl.embedding(zoomdatas[i], basis='spatial', color=shared_marker, s=100, cmap='inferno_r', return_fig=True, frameon=False, title='', colorbar_loc=None, edgecolor=None)\n",
    "    figname = f'zoom_tissue_{species[i]}_colored_by_{shared_marker}.png'\n",
    "    savepath = os.path.join(basepath, figname)\n",
    "    plt.savefig(savepath, bbox_inches='tight', transparent=True, dpi=dpi)\n",
    "    plt.show()"
   ]
  },
  {
   "cell_type": "code",
   "execution_count": null,
   "metadata": {},
   "outputs": [],
   "source": [
    "sc.set_figure_params(figsize=(2,6))\n",
    "species = ['marmoset', 'mouse']\n",
    "zoomdatas = [zoomdata_marmoset, zoomdata_mouse]\n",
    "for i in range(len(species)):\n",
    "    sc.pl.embedding(zoomdatas[i], basis='spatial', color=mouse_marker, s=ss[i], cmap=cmaps[i],\n",
    "    return_fig=True, frameon=False, title='', colorbar_loc=None, edgecolor='k', linewidth=linewidths[i],\n",
    "    )# vmin=vmin, vmax=vmax)\n",
    "    # sc.pl.embedding(zoomdatas[i], basis='spatial', color=mouse_marker, s=100, cmap='inferno_r', return_fig=True, frameon=False, title='', colorbar_loc=None, edgecolor=None)\n",
    "    figname = f'zoom_tissue_{species[i]}_colored_by_{mouse_marker}.png'\n",
    "    savepath = os.path.join(basepath, figname)\n",
    "    plt.savefig(savepath, bbox_inches='tight', transparent=True, dpi=dpi)\n",
    "    plt.show()"
   ]
  },
  {
   "cell_type": "markdown",
   "metadata": {},
   "source": [
    "## L2/3, unique"
   ]
  },
  {
   "cell_type": "markdown",
   "metadata": {},
   "source": [
    "### STARmap PLUS"
   ]
  },
  {
   "cell_type": "code",
   "execution_count": null,
   "metadata": {},
   "outputs": [],
   "source": [
    "xdata = pooldata[pooldata.obs['region']==region]\n",
    "sc.tl.rank_genes_groups(xdata, groupby='tech')\n",
    "marker_df = sc.get.rank_genes_groups_df(xdata, group='starmap')\n",
    "starmap_markers = marker_df['names']\n",
    "starmap_marker = visium_markers[0]"
   ]
  },
  {
   "cell_type": "code",
   "execution_count": null,
   "metadata": {},
   "outputs": [],
   "source": [
    "marker_df['scores']"
   ]
  },
  {
   "cell_type": "code",
   "execution_count": null,
   "metadata": {},
   "outputs": [],
   "source": [
    "marker_df['names']"
   ]
  },
  {
   "cell_type": "code",
   "execution_count": null,
   "metadata": {},
   "outputs": [],
   "source": [
    "marker = marker_df['names'][0]\n",
    "print(marker)\n",
    "for i in range(len(techs)):\n",
    "    sc.set_figure_params(figsize=figsizes[i])\n",
    "    subdata = pooldata[pooldata.obs['tech']==techs[i]]\n",
    "    sc.pl.embedding(subdata, basis='spatial', color=marker, cmap='plasma_r', s=ss[techs[i]], title='', colorbar_loc=None, return_fig=True, layer='scaled')\n",
    "    plt.axis('off')\n",
    "    figname = f'{techs[i]}_tissue_colored_by_{marker}.png'\n",
    "    savepath = os.path.join(basepath, figname)\n",
    "    plt.savefig(savepath, bbox_inches='tight', transparent=True, dpi=dpi)"
   ]
  },
  {
   "cell_type": "markdown",
   "metadata": {},
   "source": [
    "### Slide-seqV2"
   ]
  },
  {
   "cell_type": "code",
   "execution_count": null,
   "metadata": {},
   "outputs": [],
   "source": [
    "xdata = pooldata[pooldata.obs['region']==region]\n",
    "sc.tl.rank_genes_groups(xdata, groupby='tech')\n",
    "marker_df = sc.get.rank_genes_groups_df(xdata, group='slideseq')\n",
    "slideseq_markers = marker_df['names']\n",
    "slideseq_marker = slideseq_markers[0]"
   ]
  },
  {
   "cell_type": "code",
   "execution_count": null,
   "metadata": {},
   "outputs": [],
   "source": [
    "marker_df['scores']"
   ]
  },
  {
   "cell_type": "code",
   "execution_count": null,
   "metadata": {},
   "outputs": [],
   "source": [
    "marker_df['names']"
   ]
  },
  {
   "cell_type": "code",
   "execution_count": null,
   "metadata": {},
   "outputs": [],
   "source": [
    "marker = marker_df['names'][0]\n",
    "print(marker)\n",
    "for i in range(len(techs)):\n",
    "    sc.set_figure_params(figsize=figsizes[i])\n",
    "    subdata = pooldata[pooldata.obs['tech']==techs[i]]\n",
    "    sc.pl.embedding(subdata, basis='spatial', color=marker, cmap='plasma_r', s=ss[techs[i]], title='', colorbar_loc=None, return_fig=True, layer='scaled')\n",
    "    plt.axis('off')\n",
    "    figname = f'{techs[i]}_tissue_colored_by_{marker}.png'\n",
    "    savepath = os.path.join(basepath, figname)\n",
    "    plt.savefig(savepath, bbox_inches='tight', transparent=True, dpi=dpi)"
   ]
  },
  {
   "cell_type": "markdown",
   "metadata": {},
   "source": [
    "### Visium"
   ]
  },
  {
   "cell_type": "code",
   "execution_count": null,
   "metadata": {},
   "outputs": [],
   "source": [
    "xdata = pooldata[pooldata.obs['region']==region]\n",
    "sc.tl.rank_genes_groups(xdata, groupby='tech')\n",
    "marker_df = sc.get.rank_genes_groups_df(xdata, group='visium')\n",
    "visium_markers = marker_df['names']\n",
    "visium_marker = visium_markers[0]"
   ]
  },
  {
   "cell_type": "code",
   "execution_count": null,
   "metadata": {},
   "outputs": [],
   "source": [
    "marker_df['scores']"
   ]
  },
  {
   "cell_type": "code",
   "execution_count": null,
   "metadata": {},
   "outputs": [],
   "source": [
    "marker_df['names']"
   ]
  },
  {
   "cell_type": "code",
   "execution_count": null,
   "metadata": {},
   "outputs": [],
   "source": [
    "marker = marker_df['names'][520]\n",
    "print(marker)\n",
    "for i in range(len(techs)):\n",
    "    sc.set_figure_params(figsize=figsizes[i])\n",
    "    subdata = pooldata[pooldata.obs['tech']==techs[i]]\n",
    "    sc.pl.embedding(subdata, basis='spatial', color=marker, cmap='plasma_r', s=ss[techs[i]], title='', colorbar_loc=None, return_fig=True)\n",
    "    plt.axis('off')\n",
    "    figname = f'{techs[i]}_tissue_colored_by_{marker}.png'\n",
    "    savepath = os.path.join(basepath, figname)\n",
    "    plt.savefig(savepath, bbox_inches='tight', transparent=True, dpi=dpi)"
   ]
  },
  {
   "cell_type": "markdown",
   "metadata": {},
   "source": [
    "## Thalamus"
   ]
  },
  {
   "cell_type": "code",
   "execution_count": null,
   "metadata": {},
   "outputs": [],
   "source": [
    "adata_starmap = pooldata[pooldata.obs['tech']=='starmap']\n",
    "adata_slideseq = pooldata[pooldata.obs['tech']=='slideseq']\n",
    "adata_visium = pooldata[pooldata.obs['tech']=='visium']\n",
    "adatas = [adata_starmap, adata_slideseq, adata_visium]\n",
    "\n",
    "rawdatas = [sc.read_h5ad(f'/stanley/WangLab/kamal/code/remote_notebooks/mpfc_xtech/adata_{tech}.h5ad') for tech in techs]"
   ]
  },
  {
   "cell_type": "code",
   "execution_count": null,
   "metadata": {},
   "outputs": [],
   "source": [
    "genes_starmap = set(rawdatas[0].var_names)\n",
    "genes_slideseq = set(rawdatas[1].var_names)\n",
    "genes_visium = set(rawdatas[2].var_names)\n",
    "\n",
    "unique_genes_starmap = list(genes_starmap - (genes_slideseq|genes_visium))\n",
    "udata_starmap = rawdatas[0][:,unique_genes_starmap]\n",
    "udata_starmap.obs['region'] = adata_starmap.obs['region']\n",
    "\n",
    "unique_genes_slideseq = list(genes_slideseq - (genes_starmap|genes_visium))\n",
    "udata_slideseq = rawdatas[1][:,unique_genes_slideseq]\n",
    "udata_slideseq.obs['region'] = adata_slideseq.obs['region']\n",
    "del udata_slideseq.uns['log1p']\n",
    "\n",
    "unique_genes_visium = list(genes_visium - (genes_slideseq|genes_starmap))\n",
    "udata_visium = rawdatas[2][:,unique_genes_visium]\n",
    "udata_visium.obs['region'] = adata_visium.obs['region']\n",
    "del udata_visium.uns['log1p']\n",
    "\n",
    "udatas = [udata_starmap, udata_slideseq, udata_visium]"
   ]
  },
  {
   "cell_type": "code",
   "execution_count": null,
   "metadata": {},
   "outputs": [],
   "source": [
    "# Shared\n",
    "num_markers = 5\n",
    "unique_markers = dict()\n",
    "for i in range(len(udatas)):\n",
    "    udata = udatas[i]\n",
    "    sc.tl.rank_genes_groups(udata, groupby='region', use_raw=False)\n",
    "    marker_df = sc.get.rank_genes_groups_df(udata, group='0')\n",
    "    unique_markers[techs[i]] = marker_df['names'][:num_markers]"
   ]
  },
  {
   "cell_type": "code",
   "execution_count": null,
   "metadata": {},
   "outputs": [],
   "source": [
    "for i in range(len(techs)):\n",
    "    sc.set_figure_params(figsize=figsizes[i])\n",
    "    unique_marker = unique_markers[techs[i]][0]\n",
    "    print(unique_marker)\n",
    "    sc.pl.embedding(udatas[i], basis='spatial', color=unique_marker, s=ss[techs[i]], cmap='inferno_r', return_fig=True, frameon=False, title='', colorbar_loc=None, edgecolor=None)\n",
    "    figname = f'tissue_{techs[i]}_colored_by_{unique_marker}.png'\n",
    "    savepath = os.path.join(basepath, figname)\n",
    "    plt.savefig(savepath, bbox_inches='tight', transparent=True, dpi=dpi)\n",
    "    plt.show()"
   ]
  },
  {
   "cell_type": "code",
   "execution_count": null,
   "metadata": {},
   "outputs": [],
   "source": [
    "fig = plt.figure()\n",
    "cax = plt.imshow(np.array([[0,1]]), cmap='plasma_r')\n",
    "plt.gca().set_visible(False)\n",
    "cbar = fig.colorbar(cax, ticks=[0, 1])\n",
    "cbar.ax.set_yticklabels(['', ''])\n",
    "figname = 'cbar.png'\n",
    "savepath = os.path.join(basepath, figname)\n",
    "plt.savefig(savepath, bbox_inches='tight')\n",
    "plt.show()"
   ]
  },
  {
   "attachments": {},
   "cell_type": "markdown",
   "metadata": {},
   "source": [
    "## Troubleshooting"
   ]
  },
  {
   "cell_type": "code",
   "execution_count": null,
   "metadata": {},
   "outputs": [],
   "source": [
    "region = '0'"
   ]
  },
  {
   "cell_type": "code",
   "execution_count": null,
   "metadata": {},
   "outputs": [],
   "source": [
    "sc.tl.rank_genes_groups(adata, groupby='region')\n",
    "marker_df = sc.get.rank_genes_groups_df(adata, group=region)\n",
    "shared_marker = marker_df['names'][0]"
   ]
  },
  {
   "cell_type": "code",
   "execution_count": null,
   "metadata": {},
   "outputs": [],
   "source": [
    "marker_df['scores']"
   ]
  },
  {
   "cell_type": "code",
   "execution_count": null,
   "metadata": {},
   "outputs": [],
   "source": [
    "marker_df['names']"
   ]
  },
  {
   "cell_type": "code",
   "execution_count": null,
   "metadata": {},
   "outputs": [],
   "source": [
    "marker = marker_df['names'][0]\n",
    "print(marker)\n",
    "for i in range(len(species)):\n",
    "    sc.set_figure_params(figsize=figsizes[i])\n",
    "    subdata = adata[adata.obs['species']==species[i]]\n",
    "    sc.pl.embedding(subdata, basis='spatial', color=marker, cmap='plasma_r', s=ss[i], title='', colorbar_loc=None, return_fig=True)\n",
    "    plt.axis('off')"
   ]
  },
  {
   "cell_type": "code",
   "execution_count": null,
   "metadata": {},
   "outputs": [],
   "source": [
    "marker = marker_df['names'][1]\n",
    "print(marker)\n",
    "for i in range(len(species)):\n",
    "    sc.set_figure_params(figsize=figsizes[i])\n",
    "    subdata = adata[adata.obs['species']==species[i]]\n",
    "    sc.pl.embedding(subdata, basis='spatial', color=marker, cmap='plasma_r', s=ss[i], title='', colorbar_loc=None, return_fig=True)\n",
    "    plt.axis('off')"
   ]
  },
  {
   "cell_type": "code",
   "execution_count": null,
   "metadata": {},
   "outputs": [],
   "source": [
    "marker = marker_df['names'][2]\n",
    "print(marker)\n",
    "for i in range(len(species)):\n",
    "    sc.set_figure_params(figsize=figsizes[i])\n",
    "    subdata = adata[adata.obs['species']==species[i]]\n",
    "    sc.pl.embedding(subdata, basis='spatial', color=marker, cmap='plasma_r', s=ss[i], title='', colorbar_loc=None, return_fig=True)\n",
    "    plt.axis('off')"
   ]
  },
  {
   "cell_type": "code",
   "execution_count": null,
   "metadata": {},
   "outputs": [],
   "source": [
    "marker = marker_df['names'][3]\n",
    "print(marker)\n",
    "for i in range(len(species)):\n",
    "    sc.set_figure_params(figsize=figsizes[i])\n",
    "    subdata = adata[adata.obs['species']==species[i]]\n",
    "    sc.pl.embedding(subdata, basis='spatial', color=marker, cmap='plasma_r', s=ss[i], title='', colorbar_loc=None, return_fig=True)\n",
    "    plt.axis('off')"
   ]
  },
  {
   "cell_type": "code",
   "execution_count": null,
   "metadata": {},
   "outputs": [],
   "source": [
    "marker = marker_df['names'][4]\n",
    "print(marker)\n",
    "for i in range(len(species)):\n",
    "    sc.set_figure_params(figsize=figsizes[i])\n",
    "    subdata = adata[adata.obs['species']==species[i]]\n",
    "    sc.pl.embedding(subdata, basis='spatial', color=marker, cmap='plasma_r', s=ss[i], title='', colorbar_loc=None, return_fig=True)\n",
    "    plt.axis('off')"
   ]
  },
  {
   "cell_type": "code",
   "execution_count": null,
   "metadata": {},
   "outputs": [],
   "source": [
    "marker = marker_df['names'][5]\n",
    "print(marker)\n",
    "for i in range(len(species)):\n",
    "    sc.set_figure_params(figsize=figsizes[i])\n",
    "    subdata = adata[adata.obs['species']==species[i]]\n",
    "    sc.pl.embedding(subdata, basis='spatial', color=marker, cmap='plasma_r', s=ss[i], title='', colorbar_loc=None, return_fig=True)\n",
    "    plt.axis('off')"
   ]
  }
 ],
 "metadata": {
  "kernelspec": {
   "display_name": "Python 3 (ipykernel)",
   "language": "python",
   "name": "python3"
  },
  "orig_nbformat": 4,
  "vscode": {
   "interpreter": {
    "hash": "aee8b7b246df8f9039afb4144a1f6fd8d2ca17a180786b69acc140d282b71a49"
   }
  }
 },
 "nbformat": 4,
 "nbformat_minor": 2
}
