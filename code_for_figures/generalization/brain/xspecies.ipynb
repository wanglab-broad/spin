{
 "cells": [
  {
   "cell_type": "code",
   "execution_count": null,
   "metadata": {},
   "outputs": [],
   "source": [
    "import scanpy as sc\n",
    "import numpy as np\n",
    "import seaborn as sns\n",
    "import matplotlib.pyplot as plt\n",
    "from matplotlib.patches import Rectangle\n",
    "import os\n",
    "from scipy.stats import mannwhitneyu"
   ]
  },
  {
   "cell_type": "code",
   "execution_count": null,
   "metadata": {},
   "outputs": [],
   "source": [
    "basepath = '/stanley/WangLab/kamal/code/remote_notebooks/mpfc_xspecies/figures/'\n",
    "dpi = 300\n",
    "region_cmap = {str(i):sc.pl.palettes.default_102[i] for i in range(100)}"
   ]
  },
  {
   "cell_type": "code",
   "execution_count": null,
   "metadata": {},
   "outputs": [],
   "source": [
    "adata = sc.read_h5ad('/stanley/WangLab/kamal/code/remote_notebooks/mpfc_xspecies/marmoset_mouse_mpfc_spin_30nbrs_12samples.h5ad')"
   ]
  },
  {
   "cell_type": "code",
   "execution_count": null,
   "metadata": {},
   "outputs": [],
   "source": [
    "# cell types and regions\n",
    "adata = sc.read_h5ad('/stanley/WangLab/kamal/code/remote_notebooks/mpfc_xspecies/marmoset_mouse_mpfc_spin_30nbrs_12samples_ctyped_level2_region.h5ad')"
   ]
  },
  {
   "attachments": {},
   "cell_type": "markdown",
   "metadata": {},
   "source": [
    "# Cell typing"
   ]
  },
  {
   "cell_type": "code",
   "execution_count": null,
   "metadata": {},
   "outputs": [],
   "source": [
    "sc.pp.pca(adata, n_comps=50)\n",
    "sc.external.pp.harmony_integrate(adata, 'dataset')\n",
    "sc.pp.neighbors(adata, use_rep='X_pca_harmony')\n",
    "sc.tl.leiden(adata)\n",
    "sc.tl.umap(adata)"
   ]
  },
  {
   "cell_type": "code",
   "execution_count": null,
   "metadata": {},
   "outputs": [],
   "source": [
    "# sc.tl.leiden(adata, resolution=0.55)\n",
    "sc.tl.leiden(adata, resolution=0.45)"
   ]
  },
  {
   "cell_type": "code",
   "execution_count": null,
   "metadata": {},
   "outputs": [],
   "source": [
    "sc.set_figure_params(figsize=(7,5))\n",
    "sc.pl.embedding(adata, basis='spatial', color='leiden', s=10)\n",
    "sc.set_figure_params(figsize=(5,5))\n",
    "sc.pl.embedding(adata, basis='X_umap', color='leiden', s=10)\n",
    "sc.set_figure_params(figsize=(5,5))\n",
    "sc.pl.embedding(adata, basis='X_umap', color='dataset', s=10)"
   ]
  },
  {
   "cell_type": "code",
   "execution_count": null,
   "metadata": {},
   "outputs": [],
   "source": [
    "sc.tl.rank_genes_groups(adata, groupby='leiden')"
   ]
  },
  {
   "cell_type": "code",
   "execution_count": null,
   "metadata": {},
   "outputs": [],
   "source": [
    "# group = '0'\n",
    "# subdata = adata[adata.obs['leiden']==group]\n",
    "# sc.pl.rank_genes_groups_dotplot(subdata, groupby='leiden', n_genes=5)\n",
    "sc.pl.rank_genes_groups_dotplot(adata, groupby='leiden', n_genes=5, dendrogram=False)"
   ]
  },
  {
   "cell_type": "code",
   "execution_count": null,
   "metadata": {},
   "outputs": [],
   "source": [
    "leiden2ctype = {\n",
    "    '0': 'Exc1',\n",
    "    '1': 'Exc2',\n",
    "    '2': 'Oligo',\n",
    "    '3': 'Astro',\n",
    "    '4': 'Exc3',\n",
    "    '5': 'Peri',\n",
    "    '6': 'Inh1',\n",
    "    '7': 'Inh2',\n",
    "    '8': 'Endo',\n",
    "    '9': 'OPC',\n",
    "    '10': 'Exc4',\n",
    "}\n",
    "\n",
    "adata.obs['celltype'] = adata.obs['leiden'].map(leiden2ctype).astype('category')"
   ]
  },
  {
   "cell_type": "code",
   "execution_count": null,
   "metadata": {},
   "outputs": [],
   "source": [
    "# adata.write('/stanley/WangLab/kamal/code/remote_notebooks/mpfc_xspecies/marmoset_mouse_mpfc_spin_30nbrs_12samples_ctyped.h5ad')\n",
    "adata = sc.read_h5ad('/stanley/WangLab/kamal/code/remote_notebooks/mpfc_xspecies/marmoset_mouse_mpfc_spin_30nbrs_12samples_ctyped.h5ad')"
   ]
  },
  {
   "attachments": {},
   "cell_type": "markdown",
   "metadata": {},
   "source": [
    "# Cell typing 2 (subclustering)"
   ]
  },
  {
   "cell_type": "code",
   "execution_count": null,
   "metadata": {},
   "outputs": [],
   "source": [
    "basepath = '/stanley/WangLab/kamal/code/remote_notebooks/spin_supps/figures/'"
   ]
  },
  {
   "attachments": {},
   "cell_type": "markdown",
   "metadata": {},
   "source": [
    "## Level1"
   ]
  },
  {
   "cell_type": "code",
   "execution_count": null,
   "metadata": {},
   "outputs": [],
   "source": [
    "sc.pp.pca(adata, n_comps=20)\n",
    "sc.external.pp.harmony_integrate(adata, 'dataset', adjusted_basis='X_pca_harmony_level1')\n",
    "sc.pp.neighbors(adata, use_rep='X_pca_harmony_level1')\n",
    "sc.tl.umap(adata)\n",
    "adata.obsm['X_umap_level1'] = adata.obsm['X_umap']\n",
    "del adata.obsm['X_umap']"
   ]
  },
  {
   "cell_type": "code",
   "execution_count": null,
   "metadata": {},
   "outputs": [],
   "source": [
    "sc.tl.leiden(adata, resolution=0.1, key_added='level1')"
   ]
  },
  {
   "attachments": {},
   "cell_type": "markdown",
   "metadata": {},
   "source": [
    "### temp"
   ]
  },
  {
   "cell_type": "code",
   "execution_count": null,
   "metadata": {},
   "outputs": [],
   "source": [
    "sc.set_figure_params(figsize=(7,5))\n",
    "sc.pl.embedding(adata, basis='spatial', color='level1', s=10, title='', legend_loc=None, return_fig=True, palette=sc.pl.palettes.default_102)\n",
    "plt.axis('off')\n",
    "figname = f'tissue_colored_by_level1.png'\n",
    "savepath = os.path.join(basepath, figname)\n",
    "plt.savefig(savepath, bbox_inches='tight', transparent=True, dpi=dpi)"
   ]
  },
  {
   "cell_type": "code",
   "execution_count": null,
   "metadata": {},
   "outputs": [],
   "source": [
    "sc.set_figure_params(figsize=(5,5))\n",
    "sc.pl.embedding(adata, basis='X_umap_level1', color='level1', s=8, title='',palette=sc.pl.palettes.default_102, legend_loc=None, return_fig=True)\n",
    "plt.axis('off')\n",
    "figname = f'latent_colored_by_level1.png'\n",
    "savepath = os.path.join(basepath, figname)\n",
    "plt.savefig(savepath, bbox_inches='tight', transparent=True, dpi=dpi)"
   ]
  },
  {
   "attachments": {},
   "cell_type": "markdown",
   "metadata": {},
   "source": [
    "### temp"
   ]
  },
  {
   "cell_type": "code",
   "execution_count": null,
   "metadata": {},
   "outputs": [],
   "source": [
    "species_cmap = plt.cm.get_cmap('tab10').colors[:2][::-1]"
   ]
  },
  {
   "cell_type": "code",
   "execution_count": null,
   "metadata": {},
   "outputs": [],
   "source": [
    "sc.set_figure_params(figsize=(5,5))\n",
    "random_idxs = np.random.choice(np.arange(len(adata)), size=len(adata), replace=False)\n",
    "sc.pl.embedding(adata[random_idxs], basis='X_umap_level1', color='dataset', s=8, title='', palette=species_cmap, legend_loc=None, return_fig=True)\n",
    "plt.axis('off')\n",
    "figname = f'latent_level1_colored_by_dataset.png'\n",
    "savepath = os.path.join(basepath, figname)\n",
    "plt.savefig(savepath, bbox_inches='tight', transparent=True, dpi=dpi)"
   ]
  },
  {
   "cell_type": "code",
   "execution_count": null,
   "metadata": {},
   "outputs": [],
   "source": [
    "# Final as of 2023-06-29\n",
    "adata = sc.read_h5ad('/stanley/WangLab/kamal/code/remote_notebooks/mpfc_xspecies/marmoset_mouse_mpfc_spin_30nbrs_12samples_ctyped_level2_inh2.h5ad')"
   ]
  },
  {
   "cell_type": "code",
   "execution_count": null,
   "metadata": {},
   "outputs": [],
   "source": [
    "sc.tl.rank_genes_groups(adata, groupby='level1')"
   ]
  },
  {
   "cell_type": "code",
   "execution_count": null,
   "metadata": {},
   "outputs": [],
   "source": [
    "sc.pl.rank_genes_groups_dotplot(adata, groupby='level1', n_genes=3, dendrogram=False, show=False)\n",
    "figname = f'level1_markers.png'\n",
    "savepath = os.path.join(basepath, figname)\n",
    "plt.savefig(savepath, bbox_inches='tight', transparent=True, dpi=dpi)\n",
    "plt.show()"
   ]
  },
  {
   "cell_type": "code",
   "execution_count": null,
   "metadata": {},
   "outputs": [],
   "source": [
    "leiden2level1 = {\n",
    "    '0': 'Excitatory',\n",
    "    '1': 'Non-neuronal',\n",
    "    '2': 'Inhibitory',\n",
    "}\n",
    "\n",
    "adata.obs['level1'] = adata.obs['level1'].map(leiden2level1).astype('category')"
   ]
  },
  {
   "cell_type": "code",
   "execution_count": null,
   "metadata": {},
   "outputs": [],
   "source": [
    "sc.pl.rank_genes_groups_dotplot(adata, groupby='level1', n_genes=5, dendrogram=False, show=False)\n",
    "figname = f'level1_markers.png'\n",
    "savepath = os.path.join(basepath, figname)\n",
    "plt.savefig(savepath, bbox_inches='tight', transparent=True, dpi=dpi)\n",
    "plt.show()"
   ]
  },
  {
   "attachments": {},
   "cell_type": "markdown",
   "metadata": {},
   "source": [
    "## Level2"
   ]
  },
  {
   "attachments": {},
   "cell_type": "markdown",
   "metadata": {},
   "source": [
    "### Excitatory"
   ]
  },
  {
   "cell_type": "code",
   "execution_count": null,
   "metadata": {},
   "outputs": [],
   "source": [
    "subdata_exc = adata[adata.obs['level1']=='Excitatory']"
   ]
  },
  {
   "cell_type": "code",
   "execution_count": null,
   "metadata": {},
   "outputs": [],
   "source": [
    "sc.pp.pca(subdata_exc, n_comps=20)\n",
    "sc.external.pp.harmony_integrate(subdata_exc, 'dataset')\n",
    "sc.pp.neighbors(subdata_exc, use_rep='X_pca_harmony')\n",
    "sc.tl.umap(subdata_exc)\n",
    "subdata_exc.obsm['X_umap_level2'] = subdata_exc.obsm['X_umap']\n",
    "del subdata_exc.obsm['X_umap']"
   ]
  },
  {
   "cell_type": "code",
   "execution_count": null,
   "metadata": {},
   "outputs": [],
   "source": [
    "sc.tl.leiden(subdata_exc, resolution=0.15, key_added='level2')"
   ]
  },
  {
   "cell_type": "code",
   "execution_count": null,
   "metadata": {},
   "outputs": [],
   "source": [
    "sc.set_figure_params(figsize=(7,5))\n",
    "sc.pl.embedding(subdata_exc, basis='spatial', color='level2', s=10, title='', legend_loc=None, return_fig=True, palette=sc.pl.palettes.default_102)\n",
    "plt.axis('off')\n",
    "figname = f'tissue_colored_by_level2_exc.png'\n",
    "savepath = os.path.join(basepath, figname)\n",
    "plt.savefig(savepath, bbox_inches='tight', transparent=True, dpi=dpi)"
   ]
  },
  {
   "cell_type": "code",
   "execution_count": null,
   "metadata": {},
   "outputs": [],
   "source": [
    "sc.set_figure_params(figsize=(5,5))\n",
    "sc.pl.embedding(subdata_exc, basis='X_umap_level2', color='level2', s=8, title='',palette=sc.pl.palettes.default_102, legend_loc=None, return_fig=True)\n",
    "plt.axis('off')\n",
    "figname = f'latent_colored_by_level2_exc.png'\n",
    "savepath = os.path.join(basepath, figname)\n",
    "plt.savefig(savepath, bbox_inches='tight', transparent=True, dpi=dpi)"
   ]
  },
  {
   "cell_type": "code",
   "execution_count": null,
   "metadata": {},
   "outputs": [],
   "source": [
    "species_cmap = plt.cm.get_cmap('tab10').colors[:2][::-1]"
   ]
  },
  {
   "cell_type": "code",
   "execution_count": null,
   "metadata": {},
   "outputs": [],
   "source": [
    "sc.set_figure_params(figsize=(5,5))\n",
    "random_idxs = np.random.choice(np.arange(len(subdata_exc)), size=len(subdata_exc), replace=False)\n",
    "sc.pl.embedding(subdata_exc[random_idxs], basis='X_umap_level2', color='dataset', s=8, title='', palette=species_cmap, legend_loc=None, return_fig=True)\n",
    "plt.axis('off')\n",
    "figname = f'latent_level2_colored_by_dataset_exc.png'\n",
    "savepath = os.path.join(basepath, figname)\n",
    "plt.savefig(savepath, bbox_inches='tight', transparent=True, dpi=dpi)"
   ]
  },
  {
   "cell_type": "code",
   "execution_count": null,
   "metadata": {},
   "outputs": [],
   "source": [
    "# Final as of 2023-06-29\n",
    "adata = sc.read_h5ad('/stanley/WangLab/kamal/code/remote_notebooks/mpfc_xspecies/marmoset_mouse_mpfc_spin_30nbrs_12samples_ctyped_level2_inh2.h5ad')\n",
    "subdata_exc = adata[adata.obs['level1']=='Excitatory']\n",
    "subdata_exc"
   ]
  },
  {
   "cell_type": "code",
   "execution_count": null,
   "metadata": {},
   "outputs": [],
   "source": [
    "leiden2level2 = {\n",
    "    'IT': 'IT',\n",
    "    'ET': 'ET',\n",
    "    'OB': 'AON',\n",
    "}\n",
    "\n",
    "subdata_exc.obs['level2'] = subdata_exc.obs['level2'].map(leiden2level2).astype('category')"
   ]
  },
  {
   "cell_type": "code",
   "execution_count": null,
   "metadata": {},
   "outputs": [],
   "source": [
    "sc.tl.rank_genes_groups(subdata_exc, groupby='level2')"
   ]
  },
  {
   "cell_type": "code",
   "execution_count": null,
   "metadata": {},
   "outputs": [],
   "source": [
    "sc.pl.rank_genes_groups_dotplot(subdata_exc, groupby='level2', n_genes=3, dendrogram=False, show=False)\n",
    "figname = f'level2_markers_exc.png'\n",
    "savepath = os.path.join(basepath, figname)\n",
    "plt.savefig(savepath, bbox_inches='tight', transparent=True, dpi=dpi)\n",
    "plt.show()"
   ]
  },
  {
   "cell_type": "code",
   "execution_count": null,
   "metadata": {},
   "outputs": [],
   "source": [
    "leiden2level2 = {\n",
    "    '0': 'IT',\n",
    "    '1': 'ET',\n",
    "    '2': 'AON',\n",
    "}\n",
    "\n",
    "subdata_exc.obs['level2'] = subdata_exc.obs['level2'].map(leiden2level2).astype('category')"
   ]
  },
  {
   "cell_type": "code",
   "execution_count": null,
   "metadata": {},
   "outputs": [],
   "source": [
    "sc.pl.rank_genes_groups_dotplot(subdata_exc, groupby='level2', n_genes=5, dendrogram=False, show=False)\n",
    "figname = f'level2_markers_exc.png'\n",
    "savepath = os.path.join(basepath, figname)\n",
    "plt.savefig(savepath, bbox_inches='tight', transparent=True, dpi=dpi)\n",
    "plt.show()"
   ]
  },
  {
   "attachments": {},
   "cell_type": "markdown",
   "metadata": {},
   "source": [
    "### Inhibitory"
   ]
  },
  {
   "cell_type": "code",
   "execution_count": null,
   "metadata": {},
   "outputs": [],
   "source": [
    "adata = sc.read_h5ad('/stanley/WangLab/kamal/code/remote_notebooks/mpfc_xspecies/marmoset_mouse_mpfc_spin_30nbrs_12samples_ctyped_level2.h5ad')"
   ]
  },
  {
   "cell_type": "code",
   "execution_count": null,
   "metadata": {},
   "outputs": [],
   "source": [
    "subdata_inh = adata[adata.obs['level1']=='Inhibitory']"
   ]
  },
  {
   "cell_type": "code",
   "execution_count": null,
   "metadata": {},
   "outputs": [],
   "source": [
    "# sc.pp.pca(subdata_inh, n_comps=20)\n",
    "sc.pp.pca(subdata_inh, n_comps=10)\n",
    "sc.external.pp.harmony_integrate(subdata_inh, 'dataset')\n",
    "sc.pp.neighbors(subdata_inh, use_rep='X_pca_harmony')\n",
    "sc.tl.umap(subdata_inh)\n",
    "subdata_inh.obsm['X_umap_level2'] = subdata_inh.obsm['X_umap']\n",
    "del subdata_inh.obsm['X_umap']"
   ]
  },
  {
   "cell_type": "code",
   "execution_count": null,
   "metadata": {},
   "outputs": [],
   "source": [
    "# sc.tl.leiden(subdata_inh, resolution=0.06, key_added='level2')\n",
    "sc.tl.leiden(subdata_inh, resolution=0.1, key_added='level2')"
   ]
  },
  {
   "cell_type": "code",
   "execution_count": null,
   "metadata": {},
   "outputs": [],
   "source": [
    "sc.set_figure_params(figsize=(7,5))\n",
    "sc.pl.embedding(subdata_inh, basis='spatial', color='level2', s=10, title='', legend_loc=None, return_fig=True, palette=sc.pl.palettes.default_102)\n",
    "plt.axis('off')\n",
    "figname = f'tissue_colored_by_level2_inh.png'\n",
    "savepath = os.path.join(basepath, figname)\n",
    "plt.savefig(savepath, bbox_inches='tight', transparent=True, dpi=dpi)"
   ]
  },
  {
   "cell_type": "code",
   "execution_count": null,
   "metadata": {},
   "outputs": [],
   "source": [
    "sc.set_figure_params(figsize=(5,5))\n",
    "sc.pl.embedding(subdata_inh, basis='X_umap_level2', color='level2', s=8, title='',palette=sc.pl.palettes.default_102, legend_loc=None, return_fig=True)\n",
    "plt.axis('off')\n",
    "figname = f'latent_colored_by_level2_inh.png'\n",
    "savepath = os.path.join(basepath, figname)\n",
    "plt.savefig(savepath, bbox_inches='tight', transparent=True, dpi=dpi)"
   ]
  },
  {
   "cell_type": "code",
   "execution_count": null,
   "metadata": {},
   "outputs": [],
   "source": [
    "sc.set_figure_params(figsize=(5,5))\n",
    "sc.pl.embedding(subdata_inh, basis='X_umap_level2', color='level2', s=8, title='',palette=sc.pl.palettes.default_102, return_fig=True)\n",
    "plt.axis('off')\n",
    "figname = f'latent_colored_by_level2_inh.png'\n",
    "savepath = os.path.join(basepath, figname)\n",
    "# plt.savefig(savepath, bbox_inches='tight', transparent=True, dpi=dpi)"
   ]
  },
  {
   "cell_type": "code",
   "execution_count": null,
   "metadata": {},
   "outputs": [],
   "source": [
    "species_cmap = plt.cm.get_cmap('tab10').colors[:2][::-1]"
   ]
  },
  {
   "cell_type": "code",
   "execution_count": null,
   "metadata": {},
   "outputs": [],
   "source": [
    "sc.set_figure_params(figsize=(5,5))\n",
    "random_idxs = np.random.choice(np.arange(len(subdata_inh)), size=len(subdata_inh), replace=False)\n",
    "sc.pl.embedding(subdata_inh[random_idxs], basis='X_umap_level2', color='dataset', s=8, title='', palette=species_cmap, legend_loc=None, return_fig=True)\n",
    "plt.axis('off')\n",
    "figname = f'latent_level2_colored_by_dataset_inh.png'\n",
    "savepath = os.path.join(basepath, figname)\n",
    "plt.savefig(savepath, bbox_inches='tight', transparent=True, dpi=dpi)"
   ]
  },
  {
   "cell_type": "code",
   "execution_count": null,
   "metadata": {},
   "outputs": [],
   "source": [
    "# Final as of 2023-06-29\n",
    "adata = sc.read_h5ad('/stanley/WangLab/kamal/code/remote_notebooks/mpfc_xspecies/marmoset_mouse_mpfc_spin_30nbrs_12samples_ctyped_level2_inh2.h5ad')\n",
    "subdata_inh = adata[adata.obs['level1']=='Inhibitory']\n",
    "subdata_inh"
   ]
  },
  {
   "cell_type": "code",
   "execution_count": null,
   "metadata": {},
   "outputs": [],
   "source": [
    "sc.tl.rank_genes_groups(subdata_inh, groupby='level2')"
   ]
  },
  {
   "cell_type": "code",
   "execution_count": null,
   "metadata": {},
   "outputs": [],
   "source": [
    "sc.pl.rank_genes_groups_dotplot(subdata_inh, groupby='level2', n_genes=3, dendrogram=False, show=False)\n",
    "figname = f'level2_markers_inh.png'\n",
    "savepath = os.path.join(basepath, figname)\n",
    "plt.savefig(savepath, bbox_inches='tight', transparent=True, dpi=dpi)\n",
    "plt.show()"
   ]
  },
  {
   "cell_type": "code",
   "execution_count": null,
   "metadata": {},
   "outputs": [],
   "source": [
    "# leiden2level2 = {\n",
    "#     '0': 'Sst',\n",
    "#     '1': 'Kit',\n",
    "#     '2': 'Vip',\n",
    "#     '3': 'Calb2',\n",
    "#     '4': 'Pvalb',\n",
    "# }\n",
    "\n",
    "leiden2level2 = {\n",
    "    '0': 'Pvalb',\n",
    "    '1': 'Sst',\n",
    "    '2': 'Cxcl14',\n",
    "    '3': 'Vip',\n",
    "}\n",
    "subdata_inh.obs['level2'] = subdata_inh.obs['level2'].map(leiden2level2).astype('category')"
   ]
  },
  {
   "cell_type": "code",
   "execution_count": null,
   "metadata": {},
   "outputs": [],
   "source": [
    "sc.pl.rank_genes_groups_dotplot(subdata_inh, groupby='level2', n_genes=5, dendrogram=False, show=False)\n",
    "figname = f'level2_markers_inh.png'\n",
    "savepath = os.path.join(basepath, figname)\n",
    "plt.savefig(savepath, bbox_inches='tight', transparent=True, dpi=dpi)\n",
    "plt.show()"
   ]
  },
  {
   "cell_type": "code",
   "execution_count": null,
   "metadata": {},
   "outputs": [],
   "source": [
    "sc.set_figure_params(figsize=(5,5))\n",
    "sc.pl.embedding(subdata_inh, basis='X_umap_level2', color='level2', s=8, title='',palette=sc.pl.palettes.default_102, return_fig=True)\n",
    "plt.axis('off')\n",
    "figname = f'latent_colored_by_level2_inh.png'\n",
    "savepath = os.path.join(basepath, figname)\n",
    "# plt.savefig(savepath, bbox_inches='tight', transparent=True, dpi=dpi)"
   ]
  },
  {
   "cell_type": "code",
   "execution_count": null,
   "metadata": {},
   "outputs": [],
   "source": [
    "sc.set_figure_params(figsize=(7,5))\n",
    "sc.pl.embedding(subdata_inh, basis='spatial', color='level2', s=10, title='', return_fig=True, palette=sc.pl.palettes.default_102)\n",
    "plt.axis('off')\n",
    "figname = f'tissue_colored_by_level2_inh.png'\n",
    "savepath = os.path.join(basepath, figname)\n",
    "# plt.savefig(savepath, bbox_inches='tight', transparent=True, dpi=dpi)"
   ]
  },
  {
   "attachments": {},
   "cell_type": "markdown",
   "metadata": {},
   "source": [
    "#### Rename Kit to Lamp5"
   ]
  },
  {
   "cell_type": "code",
   "execution_count": null,
   "metadata": {},
   "outputs": [],
   "source": [
    "import scanpy as sc\n",
    "import os\n",
    "import matplotlib.pyplot as plt\n",
    "basepath = '/stanley/WangLab/kamal/code/remote_notebooks/mpfc_xspecies/figures/'\n",
    "dpi = 300\n",
    "\n",
    "adata = sc.read_h5ad('/stanley/WangLab/kamal/code/remote_notebooks/mpfc_xspecies/marmoset_mouse_mpfc_spin_30nbrs_12samples_ctyped_level2.h5ad')\n",
    "subdata_inh = adata[adata.obs['level1']=='Inhibitory']\n",
    "\n",
    "level22leiden = {\n",
    "    'Sst':'0',\n",
    "    'Kit':'1',\n",
    "    'Vip':'2',\n",
    "    'Calb2':'3',\n",
    "    'Pvalb':'4',\n",
    "}\n",
    "\n",
    "leiden2level2 = {\n",
    "    '0': 'Sst',\n",
    "    '1': 'Lamp5',\n",
    "    '2': 'Vip',\n",
    "    '3': 'Calb2',\n",
    "    '4': 'Pvalb',\n",
    "}\n",
    "\n",
    "subdata_inh.obs['level2'] = subdata_inh.obs['level2'].map(level22leiden)\n",
    "subdata_inh.obs['level2'] = subdata_inh.obs['level2'].cat.reorder_categories([str(i) for i in range(5)])\n",
    "\n",
    "sc.tl.rank_genes_groups(subdata_inh, groupby='level2')\n",
    "subdata_inh.obs['level2'] = subdata_inh.obs['level2'].map(leiden2level2).astype('category')\n",
    "sc.pl.rank_genes_groups_dotplot(subdata_inh, groupby='level2', n_genes=5, dendrogram=False, show=False)#, groups=[str(i) for i in range(5)])\n",
    "figname = f'level2_markers_inh.png'\n",
    "savepath = os.path.join(basepath, figname)\n",
    "plt.savefig(savepath, bbox_inches='tight', transparent=True, dpi=dpi)\n",
    "plt.show()"
   ]
  },
  {
   "attachments": {},
   "cell_type": "markdown",
   "metadata": {},
   "source": [
    "### Non-neuronal"
   ]
  },
  {
   "cell_type": "code",
   "execution_count": null,
   "metadata": {},
   "outputs": [],
   "source": [
    "subdata_nn = adata[adata.obs['level1']=='Non-neuronal']"
   ]
  },
  {
   "cell_type": "code",
   "execution_count": null,
   "metadata": {},
   "outputs": [],
   "source": [
    "sc.pp.pca(subdata_nn, n_comps=5)\n",
    "sc.external.pp.harmony_integrate(subdata_nn, 'dataset')\n",
    "sc.pp.neighbors(subdata_nn, use_rep='X_pca_harmony')\n",
    "sc.tl.umap(subdata_nn)\n",
    "subdata_nn.obsm['X_umap_level2'] = subdata_nn.obsm['X_umap']\n",
    "del subdata_nn.obsm['X_umap']"
   ]
  },
  {
   "cell_type": "code",
   "execution_count": null,
   "metadata": {},
   "outputs": [],
   "source": [
    "sc.tl.leiden(subdata_nn, resolution=0.15, key_added='level2')"
   ]
  },
  {
   "cell_type": "code",
   "execution_count": null,
   "metadata": {},
   "outputs": [],
   "source": [
    "sc.set_figure_params(figsize=(7,5))\n",
    "sc.pl.embedding(subdata_nn, basis='spatial', color='level2', s=10, title='', legend_loc=None, return_fig=True, palette=sc.pl.palettes.default_102)\n",
    "plt.axis('off')\n",
    "figname = f'tissue_colored_by_level2_nn.png'\n",
    "savepath = os.path.join(basepath, figname)\n",
    "plt.savefig(savepath, bbox_inches='tight', transparent=True, dpi=dpi)"
   ]
  },
  {
   "cell_type": "code",
   "execution_count": null,
   "metadata": {},
   "outputs": [],
   "source": [
    "sc.set_figure_params(figsize=(5,5))\n",
    "sc.pl.embedding(subdata_nn, basis='X_umap_level2', color='level2', s=8, title='',palette=sc.pl.palettes.default_102, legend_loc=None, return_fig=True)\n",
    "plt.axis('off')\n",
    "figname = f'latent_colored_by_level2_nn.png'\n",
    "savepath = os.path.join(basepath, figname)\n",
    "plt.savefig(savepath, bbox_inches='tight', transparent=True, dpi=dpi)"
   ]
  },
  {
   "cell_type": "code",
   "execution_count": null,
   "metadata": {},
   "outputs": [],
   "source": [
    "species_cmap = plt.cm.get_cmap('tab10').colors[:2][::-1]"
   ]
  },
  {
   "cell_type": "code",
   "execution_count": null,
   "metadata": {},
   "outputs": [],
   "source": [
    "sc.set_figure_params(figsize=(5,5))\n",
    "random_idxs = np.random.choice(np.arange(len(subdata_nn)), size=len(subdata_nn), replace=False)\n",
    "sc.pl.embedding(subdata_nn[random_idxs], basis='X_umap_level2', color='dataset', s=8, title='', palette=species_cmap, legend_loc=None, return_fig=True)\n",
    "plt.axis('off')\n",
    "figname = f'latent_level2_colored_by_dataset_nn.png'\n",
    "savepath = os.path.join(basepath, figname)\n",
    "plt.savefig(savepath, bbox_inches='tight', transparent=True, dpi=dpi)"
   ]
  },
  {
   "cell_type": "code",
   "execution_count": null,
   "metadata": {},
   "outputs": [],
   "source": [
    "# Final as of 2023-06-29\n",
    "adata = sc.read_h5ad('/stanley/WangLab/kamal/code/remote_notebooks/mpfc_xspecies/marmoset_mouse_mpfc_spin_30nbrs_12samples_ctyped_level2_inh2.h5ad')\n",
    "subdata_nn = adata[adata.obs['level1']=='Non-neuronal']\n",
    "subdata_nn"
   ]
  },
  {
   "cell_type": "code",
   "execution_count": null,
   "metadata": {},
   "outputs": [],
   "source": [
    "sc.tl.rank_genes_groups(subdata_nn, groupby='level2')"
   ]
  },
  {
   "cell_type": "code",
   "execution_count": null,
   "metadata": {},
   "outputs": [],
   "source": [
    "sc.pl.rank_genes_groups_dotplot(subdata_nn, groupby='level2', n_genes=3, dendrogram=False, show=False)\n",
    "figname = f'level2_markers_nn.png'\n",
    "savepath = os.path.join(basepath, figname)\n",
    "plt.savefig(savepath, bbox_inches='tight', transparent=True, dpi=dpi)\n",
    "plt.show()"
   ]
  },
  {
   "cell_type": "code",
   "execution_count": null,
   "metadata": {},
   "outputs": [],
   "source": [
    "leiden2level2 = {\n",
    "    '0': 'Astro',\n",
    "    '1': 'Oligo1',\n",
    "    '2': 'Endo',\n",
    "    '3': 'Oligo2',\n",
    "    '4': 'Peri',\n",
    "    '5': 'OPC',\n",
    "}\n",
    "\n",
    "subdata_nn.obs['level2'] = subdata_nn.obs['level2'].map(leiden2level2).astype('category')"
   ]
  },
  {
   "cell_type": "code",
   "execution_count": null,
   "metadata": {},
   "outputs": [],
   "source": [
    "sc.pl.rank_genes_groups_dotplot(subdata_nn, groupby='level2', n_genes=5, dendrogram=False, show=False)\n",
    "figname = f'level2_markers_nn.png'\n",
    "savepath = os.path.join(basepath, figname)\n",
    "plt.savefig(savepath, bbox_inches='tight', transparent=True, dpi=dpi)\n",
    "plt.show()"
   ]
  },
  {
   "cell_type": "code",
   "execution_count": null,
   "metadata": {},
   "outputs": [],
   "source": [
    "sc.set_figure_params(figsize=(5,5))\n",
    "sc.pl.embedding(subdata_nn, basis='X_umap_level2', color='level2', s=8, title='',palette=sc.pl.palettes.default_102, return_fig=True)\n",
    "plt.axis('off')\n",
    "figname = f'latent_colored_by_level2_nn.png'\n",
    "savepath = os.path.join(basepath, figname)\n",
    "# plt.savefig(savepath, bbox_inches='tight', transparent=True, dpi=dpi)"
   ]
  },
  {
   "attachments": {},
   "cell_type": "markdown",
   "metadata": {},
   "source": [
    "## Combine subclustering"
   ]
  },
  {
   "cell_type": "code",
   "execution_count": null,
   "metadata": {},
   "outputs": [],
   "source": [
    "# From first run\n",
    "adata_level2 = sc.concat([subdata_exc, subdata_inh, subdata_nn])"
   ]
  },
  {
   "cell_type": "code",
   "execution_count": null,
   "metadata": {},
   "outputs": [],
   "source": [
    "# From inh sub repeat above\n",
    "subdata_noninh = adata[adata.obs['level1']!='Inhibitory']\n",
    "adata_level2 = sc.concat((subdata_inh, subdata_noninh))"
   ]
  },
  {
   "cell_type": "code",
   "execution_count": null,
   "metadata": {},
   "outputs": [],
   "source": [
    "adata_level2"
   ]
  },
  {
   "cell_type": "code",
   "execution_count": null,
   "metadata": {},
   "outputs": [],
   "source": [
    "adata.obs['idx'] = list(range(len(adata)))\n",
    "idx = adata.obs['idx'][adata_level2.obs.index]\n",
    "# adata_level2.obs['level1'] = adata[idx].obs['level1']\n",
    "# adata_level2.obsm['X_pca_harmony_level1'] = adata[idx].obsm['X_pca_harmony_level1']\n",
    "# adata_level2.obsm['X_umap_level1'] = adata[idx].obsm['X_umap_level1']\n",
    "adata_level2.obsm['X_pca_spin'] = adata[idx].obsm['X_pca_spin']\n",
    "adata_level2.obsm['X_umap_spin'] = adata[idx].obsm['X_umap_spin']\n",
    "adata_level2.obsm['nbr_idxs'] = adata[idx].obsm['nbr_idxs']\n",
    "adata_level2.obsm['nbr_dists'] = adata[idx].obsm['nbr_dists']\n",
    "adata_level2.varm['X_pca_spin'] = adata[idx].varm['X_pca_spin']\n",
    "adata_level2.uns['n_nbrs'] = adata[idx].uns['num_nbrs']\n",
    "adata_level2.uns['n_samples'] = adata[idx].uns['num_samples']\n",
    "adata_level2.uns['region'] = adata[idx].uns['region']\n",
    "adata_level2.layers['smooth'] = adata[idx].layers['smooth']\n",
    "adata_level2.obsp['region_connectivities'] = adata[idx].obsp['region_connectivities']\n",
    "adata_level2.obsp['region_distances'] = adata[idx].obsp['region_distances']"
   ]
  },
  {
   "cell_type": "code",
   "execution_count": null,
   "metadata": {},
   "outputs": [],
   "source": [
    "adata_level2.write('/stanley/WangLab/kamal/code/remote_notebooks/mpfc_xspecies/marmoset_mouse_mpfc_spin_30nbrs_12samples_ctyped_level2_inh2.h5ad')"
   ]
  },
  {
   "cell_type": "code",
   "execution_count": null,
   "metadata": {},
   "outputs": [],
   "source": [
    "basepath = '/stanley/WangLab/kamal/code/remote_notebooks/mpfc_xspecies/figures/'"
   ]
  },
  {
   "cell_type": "code",
   "execution_count": null,
   "metadata": {},
   "outputs": [],
   "source": [
    "# Final as of 2023-06-29\n",
    "adata = sc.read_h5ad('/stanley/WangLab/kamal/code/remote_notebooks/mpfc_xspecies/marmoset_mouse_mpfc_spin_30nbrs_12samples_ctyped_level2_inh2.h5ad')"
   ]
  },
  {
   "cell_type": "code",
   "execution_count": null,
   "metadata": {},
   "outputs": [],
   "source": [
    "ctypes = adata.obs['level2'].value_counts().index\n",
    "ctype_cmap = {ctypes[i]:sc.pl.palettes.default_102[i] for i in range(len(ctypes))}"
   ]
  },
  {
   "cell_type": "code",
   "execution_count": null,
   "metadata": {},
   "outputs": [],
   "source": [
    "sc.set_figure_params(figsize=(7,5))\n",
    "sc.pl.embedding(adata, basis='spatial', color='level2', s=10, title='', legend_loc=None, return_fig=True, palette=ctype_cmap)\n",
    "plt.axis('off')\n",
    "figname = f'tissue_colored_by_level2_all.png'\n",
    "savepath = os.path.join(basepath, figname)\n",
    "plt.savefig(savepath, bbox_inches='tight', transparent=True, dpi=dpi)"
   ]
  },
  {
   "cell_type": "code",
   "execution_count": null,
   "metadata": {},
   "outputs": [],
   "source": [
    "sc.set_figure_params(figsize=(5,5))\n",
    "sc.pl.embedding(adata, basis='X_umap_level1', color='level2', s=8, title='',palette=ctype_cmap, legend_loc=None, return_fig=True)\n",
    "plt.axis('off')\n",
    "figname = f'latent_colored_by_level2_all.png'\n",
    "savepath = os.path.join(basepath, figname)\n",
    "plt.savefig(savepath, bbox_inches='tight', transparent=True, dpi=dpi)"
   ]
  },
  {
   "cell_type": "code",
   "execution_count": null,
   "metadata": {},
   "outputs": [],
   "source": [
    "sc.set_figure_params(figsize=(5,5))\n",
    "sc.pl.embedding(adata, basis='X_umap_level1', color='level2', s=8, title='',palette=ctype_cmap, return_fig=True)\n",
    "plt.axis('off')\n",
    "figname = f'latent_colored_by_level2_all.png'\n",
    "savepath = os.path.join(basepath, figname)\n",
    "# plt.savefig(savepath, bbox_inches='tight', transparent=True, dpi=dpi)"
   ]
  },
  {
   "cell_type": "code",
   "execution_count": null,
   "metadata": {},
   "outputs": [],
   "source": [
    "sc.set_figure_params(figsize=(5,5))\n",
    "sc.pl.embedding(adata, basis='X_umap_level1', color='level2', groups='Pvalb', s=8, title='',palette=ctype_cmap, return_fig=True)\n",
    "plt.axis('off')\n",
    "figname = f'latent_colored_by_level2_all.png'\n",
    "savepath = os.path.join(basepath, figname)\n",
    "# plt.savefig(savepath, bbox_inches='tight', transparent=True, dpi=dpi)"
   ]
  },
  {
   "cell_type": "code",
   "execution_count": null,
   "metadata": {},
   "outputs": [],
   "source": [
    "sc.set_figure_params(figsize=(5,5))\n",
    "random_idxs = np.random.choice(np.arange(len(adata)), size=len(adata), replace=False)\n",
    "sc.pl.embedding(adata[random_idxs], basis='X_umap_level1', color='dataset', s=8, title='', legend_loc=None, return_fig=True)\n",
    "plt.axis('off')\n",
    "figname = f'latent_colored_by_level2_species.png'\n",
    "savepath = os.path.join(basepath, figname)\n",
    "plt.savefig(savepath, bbox_inches='tight', transparent=True, dpi=dpi)"
   ]
  },
  {
   "attachments": {},
   "cell_type": "markdown",
   "metadata": {},
   "source": [
    "# Tissue and latent colored by cell type"
   ]
  },
  {
   "cell_type": "code",
   "execution_count": null,
   "metadata": {},
   "outputs": [],
   "source": [
    "# Modified below to roughly match region coloring\n",
    "# ctypes = adata.obs['celltype'].unique()\n",
    "ctypes = adata.obs['level2'].unique()\n",
    "ctype_cmap = {ctypes[i]:sc.pl.palettes.default_102[i] for i in range(len(ctypes))}"
   ]
  },
  {
   "cell_type": "code",
   "execution_count": null,
   "metadata": {},
   "outputs": [],
   "source": [
    "sc.set_figure_params(figsize=(7,5))\n",
    "sc.pl.embedding(adata, basis='spatial', color='level2', s=10, title='', legend_loc=None, return_fig=True, palette=ctype_cmap)\n",
    "plt.axis('off')\n",
    "figname = f'tissue_colored_by_celltype.png'\n",
    "savepath = os.path.join(basepath, figname)\n",
    "# plt.savefig(savepath, bbox_inches='tight', transparent=True, dpi=dpi)"
   ]
  },
  {
   "cell_type": "code",
   "execution_count": null,
   "metadata": {},
   "outputs": [],
   "source": [
    "sc.set_figure_params(figsize=(7,5))\n",
    "sc.pl.embedding(adata, basis='spatial', color='level2', s=10, title='', legend_loc=None, return_fig=True, palette=ctype_cmap)\n",
    "plt.axis('off')\n",
    "figname = f'tissue_colored_by_celltype.png'\n",
    "savepath = os.path.join(basepath, figname)\n",
    "plt.savefig(savepath, bbox_inches='tight', transparent=True, dpi=dpi)"
   ]
  },
  {
   "cell_type": "code",
   "execution_count": null,
   "metadata": {},
   "outputs": [],
   "source": [
    "sc.set_figure_params(figsize=(5,5))\n",
    "sc.pl.embedding(adata, basis='X_umap', color='level2', s=8, title='',palette=ctype_cmap, legend_loc=None, return_fig=True)\n",
    "plt.axis('off')\n",
    "figname = f'latent_colored_by_celltype.png'\n",
    "savepath = os.path.join(basepath, figname)\n",
    "plt.savefig(savepath, bbox_inches='tight', transparent=True, dpi=dpi)"
   ]
  },
  {
   "cell_type": "code",
   "execution_count": null,
   "metadata": {},
   "outputs": [],
   "source": [
    "sc.set_figure_params(figsize=(5,5))\n",
    "sc.pl.embedding(adata, basis='X_umap', color='level2', s=8, legend_loc='on data', palette=ctype_cmap)"
   ]
  },
  {
   "cell_type": "code",
   "execution_count": null,
   "metadata": {},
   "outputs": [],
   "source": [
    "sc.set_figure_params(figsize=(5,5))\n",
    "random_idxs = np.random.choice(np.arange(len(adata)), size=len(adata), replace=False)\n",
    "sc.pl.embedding(adata[random_idxs], basis='X_umap', color='dataset', s=5, title='', legend_loc=None, return_fig=True)\n",
    "plt.axis('off')\n",
    "figname = f'latent_colored_by_species_ctype.png'\n",
    "savepath = os.path.join(basepath, figname)\n",
    "plt.savefig(savepath, bbox_inches='tight', transparent=True, dpi=dpi)"
   ]
  },
  {
   "attachments": {},
   "cell_type": "markdown",
   "metadata": {},
   "source": [
    "### Assign colors"
   ]
  },
  {
   "cell_type": "code",
   "execution_count": null,
   "metadata": {},
   "outputs": [],
   "source": [
    "# sc.set_figure_params(figsize=(5,5))\n",
    "# for ctype in ctypes:\n",
    "#     sc.pl.embedding(adata, basis='X_umap', color='celltype', groups=ctype, s=3, title='', return_fig=True)\n",
    "#     plt.axis('off')"
   ]
  },
  {
   "cell_type": "code",
   "execution_count": null,
   "metadata": {},
   "outputs": [],
   "source": [
    "ctypes = adata.obs['celltype'].unique()\n",
    "ctype_cmap = {ctypes[i]:sc.pl.palettes.default_102[i] for i in range(len(ctypes))}"
   ]
  },
  {
   "cell_type": "code",
   "execution_count": null,
   "metadata": {},
   "outputs": [],
   "source": [
    "print(list(ctypes))"
   ]
  },
  {
   "cell_type": "code",
   "execution_count": null,
   "metadata": {},
   "outputs": [],
   "source": [
    "ctype_cmap[ctypes[4]] = ctype_cmap['L5 ET']\n",
    "ctype_cmap['L5 ET'] = sc.pl.palettes.default_102[4]"
   ]
  },
  {
   "cell_type": "code",
   "execution_count": null,
   "metadata": {},
   "outputs": [],
   "source": [
    "ctype_cmap[ctypes[6]] = ctype_cmap['L6 CT']\n",
    "ctype_cmap['L6 CT'] = sc.pl.palettes.default_102[6]"
   ]
  },
  {
   "cell_type": "code",
   "execution_count": null,
   "metadata": {},
   "outputs": [],
   "source": [
    "ctype_cmap[ctypes[1]] = ctype_cmap['Microglia/PVM']\n",
    "ctype_cmap['Microglia/PVM'] = sc.pl.palettes.default_102[1]"
   ]
  },
  {
   "cell_type": "code",
   "execution_count": null,
   "metadata": {},
   "outputs": [],
   "source": [
    "ctype_cmap[ctypes[9]] = ctype_cmap['Oligo']\n",
    "ctype_cmap['Oligo'] = sc.pl.palettes.default_102[9]"
   ]
  },
  {
   "cell_type": "code",
   "execution_count": null,
   "metadata": {},
   "outputs": [],
   "source": [
    "sc.set_figure_params(figsize=(3,3))\n",
    "for i in range(10):\n",
    "    sc.pl.embedding(adata, basis='X_umap_spin', color='region', groups=str(i), palette=region_cmap, s=3, title='', return_fig=True)\n",
    "    plt.axis('off')"
   ]
  },
  {
   "attachments": {},
   "cell_type": "markdown",
   "metadata": {},
   "source": [
    "# Tissue and latent colored by region"
   ]
  },
  {
   "cell_type": "code",
   "execution_count": null,
   "metadata": {},
   "outputs": [],
   "source": [
    "# res = 0.5\n",
    "# sc.tl.leiden(adata, resolution=res, neighbors_key='region', key_added='region')"
   ]
  },
  {
   "cell_type": "code",
   "execution_count": null,
   "metadata": {},
   "outputs": [],
   "source": [
    "sc.set_figure_params(figsize=(7,5))\n",
    "sc.pl.embedding(adata, basis='spatial', color='region', palette=region_cmap, s=10, title='', legend_loc=None, return_fig=True)\n",
    "plt.axis('off')\n",
    "# figname = f'tissue_colored_by_region.png'\n",
    "# savepath = os.path.join(basepath, figname)\n",
    "# plt.savefig(savepath, bbox_inches='tight', transparent=True, dpi=dpi)"
   ]
  },
  {
   "cell_type": "code",
   "execution_count": null,
   "metadata": {},
   "outputs": [],
   "source": [
    "sc.set_figure_params(figsize=(5,5))\n",
    "sc.pl.embedding(adata, basis='X_umap_spin', color='region', palette=region_cmap, s=8, title='', legend_loc=None, return_fig=True)\n",
    "plt.axis('off')\n",
    "# figname = f'latent_colored_by_region.png'\n",
    "# savepath = os.path.join(basepath, figname)\n",
    "# plt.savefig(savepath, bbox_inches='tight', transparent=True, dpi=dpi)"
   ]
  },
  {
   "cell_type": "code",
   "execution_count": null,
   "metadata": {},
   "outputs": [],
   "source": [
    "# Filter out regions with fewer than 500 cells\n",
    "good_regions = [str(i) for i in range(9)]\n",
    "adata = adata[np.isin(adata.obs['region'],good_regions)]"
   ]
  },
  {
   "cell_type": "code",
   "execution_count": null,
   "metadata": {},
   "outputs": [],
   "source": [
    "sc.set_figure_params(figsize=(5,5))\n",
    "sc.pl.embedding(adata, basis='X_umap_spin', color='dataset', s=8, title='', legend_loc=None, return_fig=True)\n",
    "plt.axis('off')\n",
    "figname = f'latent_colored_by_species.png'\n",
    "savepath = os.path.join(basepath, figname)\n",
    "plt.savefig(savepath, bbox_inches='tight', transparent=True, dpi=dpi)"
   ]
  },
  {
   "cell_type": "code",
   "execution_count": null,
   "metadata": {},
   "outputs": [],
   "source": [
    "sc.set_figure_params(figsize=(5,5))\n",
    "random_idxs = np.random.choice(np.arange(len(adata)), size=len(adata), replace=False)\n",
    "sc.pl.embedding(adata[random_idxs], basis='X_umap_spin', color='dataset', s=8, title='', legend_loc=None, return_fig=True)\n",
    "plt.axis('off')\n",
    "figname = f'latent_colored_by_species.png'\n",
    "savepath = os.path.join(basepath, figname)\n",
    "plt.savefig(savepath, bbox_inches='tight', transparent=True, dpi=dpi)"
   ]
  },
  {
   "attachments": {},
   "cell_type": "markdown",
   "metadata": {},
   "source": [
    "# Recolor"
   ]
  },
  {
   "cell_type": "code",
   "execution_count": null,
   "metadata": {},
   "outputs": [],
   "source": [
    "subdata = adata[adata.obs['dataset']=='marmoset']\n",
    "sc.set_figure_params(figsize=(3,8))\n",
    "sc.pl.embedding(subdata, basis='spatial', color='region', s=20, title='', palette=region_cmap)"
   ]
  },
  {
   "cell_type": "code",
   "execution_count": null,
   "metadata": {},
   "outputs": [],
   "source": [
    "leiden2region = {\n",
    "    '0': 'L5',\n",
    "    '1': 'L2/3',\n",
    "    '2': 'L4',\n",
    "    '3': 'L6',\n",
    "    '4': 'meninges/L1',\n",
    "    '5': 'fiber tract',\n",
    "    '6': 'PIR',\n",
    "    '7': 'TT',\n",
    "    '8': 'aco',\n",
    "}\n",
    "adata.obs['leiden'] = adata.obs['region'].copy()\n",
    "adata.obs['region'] = adata.obs['leiden'].map(leiden2region)\n",
    "adata.obs['region'] = adata.obs['region'].astype('category')"
   ]
  },
  {
   "attachments": {},
   "cell_type": "markdown",
   "metadata": {},
   "source": [
    "## Use prior cmap"
   ]
  },
  {
   "cell_type": "code",
   "execution_count": null,
   "metadata": {},
   "outputs": [],
   "source": [
    "olddata = sc.read_h5ad('/stanley/WangLab/kamal/code/remote_notebooks/spatial_autocorrelation/adata_all_techniques.h5ad')\n",
    "old_regions = olddata.obs['region_smooth_subsampled'].unique()\n",
    "palette = sc.pl.palettes.default_102\n",
    "old_cmap = {old_regions[i]:palette[i] for i in range(len(old_regions))}"
   ]
  },
  {
   "cell_type": "code",
   "execution_count": null,
   "metadata": {},
   "outputs": [],
   "source": [
    "old_regions = set(old_regions)\n",
    "new_regions = set(adata.obs['region'].unique())\n",
    "shared_regions = old_regions.intersection(new_regions)\n",
    "all_regions = old_regions.union(new_regions)\n",
    "\n",
    "new_cmap = dict()\n",
    "for region in shared_regions:\n",
    "    new_cmap[region] = old_cmap[region]\n",
    "\n",
    "print(all_regions-shared_regions)"
   ]
  },
  {
   "cell_type": "code",
   "execution_count": null,
   "metadata": {},
   "outputs": [],
   "source": [
    "new_cmap['aco'] = old_cmap['DG']\n",
    "new_cmap['TT'] = old_cmap['BLA']"
   ]
  },
  {
   "cell_type": "code",
   "execution_count": null,
   "metadata": {},
   "outputs": [],
   "source": [
    "# Verify uniqueness of colors\n",
    "len(new_cmap.values()) == len(set(new_cmap.values()))"
   ]
  },
  {
   "cell_type": "code",
   "execution_count": null,
   "metadata": {},
   "outputs": [],
   "source": [
    "region_cmap = new_cmap"
   ]
  },
  {
   "cell_type": "code",
   "execution_count": null,
   "metadata": {},
   "outputs": [],
   "source": [
    "sc.set_figure_params(figsize=(7,5))\n",
    "sc.pl.embedding(adata, basis='spatial', color='region', palette=region_cmap, s=10, title='', legend_loc=None, return_fig=True)\n",
    "plt.axis('off')\n",
    "figname = f'tissue_colored_by_region.png'\n",
    "savepath = os.path.join(basepath, figname)\n",
    "plt.savefig(savepath, bbox_inches='tight', transparent=True, dpi=dpi)"
   ]
  },
  {
   "cell_type": "code",
   "execution_count": null,
   "metadata": {},
   "outputs": [],
   "source": [
    "sc.set_figure_params(figsize=(5,5))\n",
    "sc.pl.embedding(adata, basis='X_umap_spin', color='region', palette=region_cmap, s=8, title='', legend_loc=None, return_fig=True)\n",
    "plt.axis('off')\n",
    "figname = f'latent_colored_by_region.png'\n",
    "savepath = os.path.join(basepath, figname)\n",
    "plt.savefig(savepath, bbox_inches='tight', transparent=True, dpi=dpi)"
   ]
  },
  {
   "attachments": {},
   "cell_type": "markdown",
   "metadata": {},
   "source": [
    "# Tissue zooms and latent colored by DiffMap"
   ]
  },
  {
   "cell_type": "code",
   "execution_count": null,
   "metadata": {},
   "outputs": [],
   "source": [
    "adata = sc.read_h5ad('/stanley/WangLab/kamal/code/remote_notebooks/mpfc_xspecies/marmoset_mouse_mpfc_spin_30nbrs_12samples_ctyped_level2.h5ad')"
   ]
  },
  {
   "cell_type": "code",
   "execution_count": null,
   "metadata": {},
   "outputs": [],
   "source": [
    "ctx_regions = ['L2/3', 'L4', 'L5', 'L6']\n",
    "adata = adata[np.isin(adata.obs['region'], ctx_regions)]"
   ]
  },
  {
   "cell_type": "code",
   "execution_count": null,
   "metadata": {},
   "outputs": [],
   "source": [
    "sc.tl.diffmap(adata, neighbors_key='region')\n",
    "adata.obs['depth'] = -adata.obsm['X_diffmap'][:,1]"
   ]
  },
  {
   "cell_type": "code",
   "execution_count": null,
   "metadata": {},
   "outputs": [],
   "source": [
    "def get_zoom(adata, x, y, width, height):\n",
    "    zoomdata = adata[adata.obsm['spatial'][:,0]>x]\n",
    "    zoomdata = zoomdata[zoomdata.obsm['spatial'][:,0]<x+width]\n",
    "    zoomdata = zoomdata[zoomdata.obsm['spatial'][:,1]>y]\n",
    "    zoomdata = zoomdata[zoomdata.obsm['spatial'][:,1]<y+height]\n",
    "    return zoomdata"
   ]
  },
  {
   "cell_type": "code",
   "execution_count": null,
   "metadata": {},
   "outputs": [],
   "source": [
    "# Original\n",
    "# zoomdata_marmoset = get_zoom(adata[adata.obs['dataset']=='marmoset'], -4400, 12500, 1000, 2400)\n",
    "# zoomdata_mouse = get_zoom(adata[adata.obs['dataset']=='mouse'], 2600, 10600, 1500, 3600)"
   ]
  },
  {
   "cell_type": "code",
   "execution_count": null,
   "metadata": {},
   "outputs": [],
   "source": [
    "1600*3"
   ]
  },
  {
   "cell_type": "code",
   "execution_count": null,
   "metadata": {},
   "outputs": [],
   "source": [
    "# marmoset_box = (-4400, 10800, 1400, 4200)\n",
    "marmoset_box = (-4400, 10200, 1600, 4800)\n",
    "subdata = adata[adata.obs['dataset']=='marmoset']\n",
    "\n",
    "plt.figure(figsize=(1.5,4))\n",
    "plt.scatter(*subdata.obsm['spatial'].T, s=1)\n",
    "rect = Rectangle(marmoset_box[:2], marmoset_box[2], marmoset_box[3], fill=False, edgecolor='k')\n",
    "plt.gca().add_patch(rect)\n",
    "plt.axis('off')\n",
    "plt.show()"
   ]
  },
  {
   "cell_type": "code",
   "execution_count": null,
   "metadata": {},
   "outputs": [],
   "source": [
    "1800 * 3"
   ]
  },
  {
   "cell_type": "code",
   "execution_count": null,
   "metadata": {},
   "outputs": [],
   "source": [
    "# mouse_box = (2600, 8200, 2050, 6150)\n",
    "mouse_box = (2600, 8900, 1800, 5400)\n",
    "subdata = adata[adata.obs['dataset']=='mouse']\n",
    "\n",
    "plt.figure(figsize=(4,4))\n",
    "plt.scatter(*subdata.obsm['spatial'].T, s=1)\n",
    "rect = Rectangle(mouse_box[:2], mouse_box[2], mouse_box[3], fill=False, edgecolor='k')\n",
    "plt.gca().add_patch(rect)\n",
    "plt.axis('off')\n",
    "plt.show()"
   ]
  },
  {
   "cell_type": "code",
   "execution_count": null,
   "metadata": {},
   "outputs": [],
   "source": [
    "zoomdata_marmoset = get_zoom(adata[adata.obs['dataset']=='marmoset'], *marmoset_box)\n",
    "zoomdata_mouse = get_zoom(adata[adata.obs['dataset']=='mouse'], *mouse_box)"
   ]
  },
  {
   "cell_type": "code",
   "execution_count": null,
   "metadata": {},
   "outputs": [],
   "source": [
    "vmax = adata.obs['depth'].max()\n",
    "vmin = adata.obs['depth'].min()\n",
    "sc.set_figure_params(figsize=(2,6))\n",
    "species = ['marmoset', 'mouse']\n",
    "zoomdatas = [zoomdata_marmoset, zoomdata_mouse]\n",
    "for i in range(len(species)):\n",
    "    sc.pl.embedding(zoomdatas[i], basis='spatial', color='depth', cmap='viridis', s=50, return_fig=True, frameon=False, title='', colorbar_loc=None, edgecolor=None, vmax=vmax, vmin=vmin)\n",
    "    figname = f'zoom_tissue_{species[i]}_colored_by_depth.png'\n",
    "    savepath = os.path.join(basepath, figname)\n",
    "    # plt.savefig(savepath, bbox_inches='tight', transparent=True, dpi=dpi)\n",
    "    plt.show()"
   ]
  },
  {
   "cell_type": "code",
   "execution_count": null,
   "metadata": {},
   "outputs": [],
   "source": [
    "adata_all = sc.read_h5ad('/stanley/WangLab/kamal/code/remote_notebooks/mpfc_xspecies/marmoset_mouse_mpfc_spin_30nbrs_12samples.h5ad')\n",
    "good_regions = [str(i) for i in range(9)]\n",
    "adata_all = adata_all[np.isin(adata_all.obs['region'],good_regions)]"
   ]
  },
  {
   "cell_type": "code",
   "execution_count": null,
   "metadata": {},
   "outputs": [],
   "source": [
    "sc.set_figure_params(figsize=(6,6))\n",
    "plt.scatter(*adata_all.obsm['X_umap_spin'].T, color=[0.7]*3, s=0.5)\n",
    "plt.scatter(*adata.obsm['X_umap_spin'].T, c=adata.obs['depth'], cmap='viridis', s=0.5)\n",
    "plt.axis('off')\n",
    "figname = f'latent_colored_by_depth.png'\n",
    "savepath = os.path.join(basepath, figname)\n",
    "plt.savefig(savepath, bbox_inches='tight', transparent=True, dpi=dpi)\n",
    "plt.show()"
   ]
  },
  {
   "cell_type": "code",
   "execution_count": null,
   "metadata": {},
   "outputs": [],
   "source": [
    "# colorbar only\n",
    "fig = plt.figure()\n",
    "cax = plt.imshow(np.array([[0,1]]), cmap='viridis')\n",
    "plt.gca().set_visible(False)\n",
    "cbar = fig.colorbar(cax, ticks=[0, 1])\n",
    "cbar.ax.set_yticklabels(['', ''])\n",
    "figname = 'cbar_color_by_expr.png'\n",
    "savepath = os.path.join(basepath, figname)\n",
    "plt.savefig(savepath)\n",
    "plt.show()"
   ]
  },
  {
   "attachments": {},
   "cell_type": "markdown",
   "metadata": {},
   "source": [
    "# Tissue zooms colored by region"
   ]
  },
  {
   "cell_type": "code",
   "execution_count": null,
   "metadata": {},
   "outputs": [],
   "source": [
    "adata = sc.read_h5ad('/stanley/WangLab/kamal/code/remote_notebooks/mpfc_xspecies/marmoset_mouse_mpfc_spin_30nbrs_12samples_ctyped_level2.h5ad')"
   ]
  },
  {
   "cell_type": "code",
   "execution_count": null,
   "metadata": {},
   "outputs": [],
   "source": [
    "adata.obs['region'].value_counts()"
   ]
  },
  {
   "cell_type": "code",
   "execution_count": null,
   "metadata": {},
   "outputs": [],
   "source": [
    "# Filter out regions with fewer than 100 cells\n",
    "good_regions = [str(i) for i in range(9)]\n",
    "adata = adata[np.isin(adata.obs['region'],good_regions)]"
   ]
  },
  {
   "cell_type": "code",
   "execution_count": null,
   "metadata": {},
   "outputs": [],
   "source": [
    "leiden2region = {\n",
    "    '0': 'L5',\n",
    "    '1': 'L2/3',\n",
    "    '2': 'L4',\n",
    "    '3': 'L6',\n",
    "    '4': 'meninges/L1',\n",
    "    '5': 'fiber tract',\n",
    "    '6': 'PIR',\n",
    "    '7': 'TT',\n",
    "    '8': 'aco',\n",
    "}\n",
    "adata.obs['leiden'] = adata.obs['region'].copy()\n",
    "adata.obs['region'] = adata.obs['leiden'].map(leiden2region)\n",
    "adata.obs['region'] = adata.obs['region'].astype('category')"
   ]
  },
  {
   "cell_type": "code",
   "execution_count": null,
   "metadata": {},
   "outputs": [],
   "source": [
    "sc.pl.embedding(adata, basis='spatial', color='region')"
   ]
  },
  {
   "cell_type": "code",
   "execution_count": null,
   "metadata": {},
   "outputs": [],
   "source": [
    "olddata = sc.read_h5ad('/stanley/WangLab/kamal/code/remote_notebooks/spatial_autocorrelation/adata_all_techniques.h5ad')\n",
    "old_regions = olddata.obs['region_smooth_subsampled'].unique()\n",
    "palette = sc.pl.palettes.default_102\n",
    "old_cmap = {old_regions[i]:palette[i] for i in range(len(old_regions))}"
   ]
  },
  {
   "cell_type": "code",
   "execution_count": null,
   "metadata": {},
   "outputs": [],
   "source": [
    "old_regions = set(old_regions)\n",
    "new_regions = set(adata.obs['region'].unique())\n",
    "shared_regions = old_regions.intersection(new_regions)\n",
    "all_regions = old_regions.union(new_regions)\n",
    "\n",
    "new_cmap = dict()\n",
    "for region in shared_regions:\n",
    "    new_cmap[region] = old_cmap[region]\n",
    "\n",
    "print(all_regions-shared_regions)"
   ]
  },
  {
   "cell_type": "code",
   "execution_count": null,
   "metadata": {},
   "outputs": [],
   "source": [
    "new_cmap['aco'] = old_cmap['DG']\n",
    "new_cmap['TT'] = old_cmap['BLA']"
   ]
  },
  {
   "cell_type": "code",
   "execution_count": null,
   "metadata": {},
   "outputs": [],
   "source": [
    "# Verify uniqueness of colors\n",
    "len(new_cmap.values()) == len(set(new_cmap.values()))"
   ]
  },
  {
   "cell_type": "code",
   "execution_count": null,
   "metadata": {},
   "outputs": [],
   "source": [
    "region_cmap = new_cmap"
   ]
  },
  {
   "cell_type": "code",
   "execution_count": null,
   "metadata": {},
   "outputs": [],
   "source": [
    "adata.write('/stanley/WangLab/kamal/code/remote_notebooks/mpfc_xspecies/marmoset_mouse_mpfc_spin_30nbrs_12samples_ctyped_level2_region.h5ad')"
   ]
  },
  {
   "cell_type": "code",
   "execution_count": null,
   "metadata": {},
   "outputs": [],
   "source": [
    "def get_zoom(adata, x, y, width, height):\n",
    "    zoomdata = adata[adata.obsm['spatial'][:,0]>x]\n",
    "    zoomdata = zoomdata[zoomdata.obsm['spatial'][:,0]<x+width]\n",
    "    zoomdata = zoomdata[zoomdata.obsm['spatial'][:,1]>y]\n",
    "    zoomdata = zoomdata[zoomdata.obsm['spatial'][:,1]<y+height]\n",
    "    return zoomdata"
   ]
  },
  {
   "cell_type": "code",
   "execution_count": null,
   "metadata": {},
   "outputs": [],
   "source": [
    "# marmoset_box = (-4400, 10800, 1400, 4200)\n",
    "marmoset_box = (-4400, 10200, 1600, 4800)\n",
    "subdata = adata[adata.obs['dataset']=='marmoset']\n",
    "\n",
    "plt.figure(figsize=(1.5,4))\n",
    "plt.scatter(*subdata.obsm['spatial'].T, s=1)\n",
    "rect = Rectangle(marmoset_box[:2], marmoset_box[2], marmoset_box[3], fill=False, edgecolor='k')\n",
    "plt.gca().add_patch(rect)\n",
    "plt.axis('off')\n",
    "plt.show()"
   ]
  },
  {
   "cell_type": "code",
   "execution_count": null,
   "metadata": {},
   "outputs": [],
   "source": [
    "# mouse_box = (2600, 8200, 2050, 6150)\n",
    "mouse_box = (2600, 8900, 1800, 5400)\n",
    "subdata = adata[adata.obs['dataset']=='mouse']\n",
    "\n",
    "plt.figure(figsize=(4,4))\n",
    "plt.scatter(*subdata.obsm['spatial'].T, s=1)\n",
    "rect = Rectangle(mouse_box[:2], mouse_box[2], mouse_box[3], fill=False, edgecolor='k')\n",
    "plt.gca().add_patch(rect)\n",
    "plt.axis('off')\n",
    "plt.show()"
   ]
  },
  {
   "cell_type": "code",
   "execution_count": null,
   "metadata": {},
   "outputs": [],
   "source": [
    "zoomdata_marmoset = get_zoom(adata[adata.obs['dataset']=='marmoset'], *marmoset_box)\n",
    "zoomdata_mouse = get_zoom(adata[adata.obs['dataset']=='mouse'], *mouse_box)"
   ]
  },
  {
   "cell_type": "code",
   "execution_count": null,
   "metadata": {},
   "outputs": [],
   "source": [
    "ctypes = adata.obs['level2'].value_counts().index\n",
    "ctype_cmap = {ctypes[i]:sc.pl.palettes.default_102[i] for i in range(len(ctypes))}"
   ]
  },
  {
   "cell_type": "code",
   "execution_count": null,
   "metadata": {},
   "outputs": [],
   "source": [
    "sc.set_figure_params(figsize=(2,6))\n",
    "species = ['marmoset', 'mouse']\n",
    "zoomdatas = [zoomdata_marmoset, zoomdata_mouse]\n",
    "for i in range(len(species)):\n",
    "    sc.pl.embedding(zoomdatas[i], basis='spatial', color='region', palette=region_cmap, s=50, return_fig=True, frameon=False, title='', legend_loc=None, edgecolor='k', linewidth=0.05)\n",
    "    figname = f'zoom_tissue_{species[i]}_colored_by_regions.png'\n",
    "    savepath = os.path.join(basepath, figname)\n",
    "    plt.savefig(savepath, bbox_inches='tight', transparent=True, dpi=dpi)\n",
    "    plt.show()"
   ]
  },
  {
   "attachments": {},
   "cell_type": "markdown",
   "metadata": {},
   "source": [
    "# Tissue zooms colored by ctype"
   ]
  },
  {
   "cell_type": "code",
   "execution_count": null,
   "metadata": {},
   "outputs": [],
   "source": [
    "adata = sc.read_h5ad('/stanley/WangLab/kamal/code/remote_notebooks/mpfc_xspecies/marmoset_mouse_mpfc_spin_30nbrs_12samples_ctyped_level2.h5ad')"
   ]
  },
  {
   "cell_type": "code",
   "execution_count": null,
   "metadata": {},
   "outputs": [],
   "source": [
    "def get_zoom(adata, x, y, width, height):\n",
    "    zoomdata = adata[adata.obsm['spatial'][:,0]>x]\n",
    "    zoomdata = zoomdata[zoomdata.obsm['spatial'][:,0]<x+width]\n",
    "    zoomdata = zoomdata[zoomdata.obsm['spatial'][:,1]>y]\n",
    "    zoomdata = zoomdata[zoomdata.obsm['spatial'][:,1]<y+height]\n",
    "    return zoomdata"
   ]
  },
  {
   "cell_type": "code",
   "execution_count": null,
   "metadata": {},
   "outputs": [],
   "source": [
    "# marmoset_box = (-4400, 10800, 1400, 4200)\n",
    "marmoset_box = (-4400, 10200, 1600, 4800)\n",
    "subdata = adata[adata.obs['dataset']=='marmoset']\n",
    "\n",
    "plt.figure(figsize=(1.5,4))\n",
    "plt.scatter(*subdata.obsm['spatial'].T, s=1)\n",
    "rect = Rectangle(marmoset_box[:2], marmoset_box[2], marmoset_box[3], fill=False, edgecolor='k')\n",
    "plt.gca().add_patch(rect)\n",
    "plt.axis('off')\n",
    "plt.show()"
   ]
  },
  {
   "cell_type": "code",
   "execution_count": null,
   "metadata": {},
   "outputs": [],
   "source": [
    "# mouse_box = (2600, 8200, 2050, 6150)\n",
    "mouse_box = (2600, 8900, 1800, 5400)\n",
    "subdata = adata[adata.obs['dataset']=='mouse']\n",
    "\n",
    "plt.figure(figsize=(4,4))\n",
    "plt.scatter(*subdata.obsm['spatial'].T, s=1)\n",
    "rect = Rectangle(mouse_box[:2], mouse_box[2], mouse_box[3], fill=False, edgecolor='k')\n",
    "plt.gca().add_patch(rect)\n",
    "plt.axis('off')\n",
    "plt.show()"
   ]
  },
  {
   "cell_type": "code",
   "execution_count": null,
   "metadata": {},
   "outputs": [],
   "source": [
    "zoomdata_marmoset = get_zoom(adata[adata.obs['dataset']=='marmoset'], *marmoset_box)\n",
    "zoomdata_mouse = get_zoom(adata[adata.obs['dataset']=='mouse'], *mouse_box)"
   ]
  },
  {
   "cell_type": "code",
   "execution_count": null,
   "metadata": {},
   "outputs": [],
   "source": [
    "ctypes = adata.obs['level2'].value_counts().index\n",
    "ctype_cmap = {ctypes[i]:sc.pl.palettes.default_102[i] for i in range(len(ctypes))}"
   ]
  },
  {
   "cell_type": "code",
   "execution_count": null,
   "metadata": {},
   "outputs": [],
   "source": [
    "sc.set_figure_params(figsize=(2,6))\n",
    "species = ['marmoset', 'mouse']\n",
    "zoomdatas = [zoomdata_marmoset, zoomdata_mouse]\n",
    "for i in range(len(species)):\n",
    "    sc.pl.embedding(zoomdatas[i], basis='spatial', color='level2', palette=ctype_cmap, s=50, return_fig=True, frameon=False, title='', legend_loc=None, edgecolor='k', linewidth=0.05)\n",
    "    figname = f'zoom_tissue_{species[i]}_colored_by_ctype.png'\n",
    "    savepath = os.path.join(basepath, figname)\n",
    "    # plt.savefig(savepath, bbox_inches='tight', transparent=True, dpi=dpi)\n",
    "    plt.show()"
   ]
  },
  {
   "attachments": {},
   "cell_type": "markdown",
   "metadata": {},
   "source": [
    "# Shared and species-specific region markers"
   ]
  },
  {
   "cell_type": "code",
   "execution_count": null,
   "metadata": {},
   "outputs": [],
   "source": [
    "region = 'L2/3'"
   ]
  },
  {
   "cell_type": "code",
   "execution_count": null,
   "metadata": {},
   "outputs": [],
   "source": [
    "# Shared\n",
    "sc.tl.rank_genes_groups(adata, groupby='region')#, layer='smooth')\n",
    "marker_df = sc.get.rank_genes_groups_df(adata, group=region)\n",
    "shared_marker = marker_df['names'][0]"
   ]
  },
  {
   "cell_type": "code",
   "execution_count": null,
   "metadata": {},
   "outputs": [],
   "source": [
    "plt.figure(figsize=(5,2))\n",
    "plt.hist(marker_df['scores'], bins=30, color=sc.pl.palettes.default_102[0], linewidth=1, edgecolor='k')\n",
    "# plt.hist(marker_df['scores'], bins=30, color=region_cmap['L2/3'], linewidth=1, edgecolor='k')\n",
    "plt.grid(None)\n",
    "plt.axis('off')\n",
    "figname = f'region_deg_score_hist.png'\n",
    "savepath = os.path.join(basepath, figname)\n",
    "plt.savefig(savepath, bbox_inches='tight', transparent=True, dpi=dpi)\n",
    "plt.show()"
   ]
  },
  {
   "cell_type": "code",
   "execution_count": null,
   "metadata": {},
   "outputs": [],
   "source": [
    "plt.figure(figsize=(5,2))\n",
    "plt.hist(marker_df['scores'], bins=30, color=sc.pl.palettes.default_102[0], linewidth=1, edgecolor='k')\n",
    "# plt.hist(marker_df['scores'], bins=30, color=region_cmap['L2/3'], linewidth=1, edgecolor='k')\n",
    "plt.grid(None)\n",
    "plt.yticks([30],[30])\n",
    "# plt.axis('off')\n",
    "# figname = f'region_deg_score_hist.png'\n",
    "# savepath = os.path.join(basepath, figname)\n",
    "# plt.savefig(savepath, bbox_inches='tight', transparent=True, dpi=dpi)\n",
    "plt.show()"
   ]
  },
  {
   "cell_type": "code",
   "execution_count": null,
   "metadata": {},
   "outputs": [],
   "source": [
    "marker_df['scores']"
   ]
  },
  {
   "cell_type": "code",
   "execution_count": null,
   "metadata": {},
   "outputs": [],
   "source": [
    "marker_df['names']"
   ]
  },
  {
   "cell_type": "code",
   "execution_count": null,
   "metadata": {},
   "outputs": [],
   "source": [
    "# Unique\n",
    "xdata = adata[adata.obs['region']==region]\n",
    "sc.tl.rank_genes_groups(xdata, groupby='dataset')#, layer='smooth')\n",
    "marker_df = sc.get.rank_genes_groups_df(xdata, group='mouse')\n",
    "mouse_markers = marker_df['names']\n",
    "mouse_marker = mouse_markers[0]"
   ]
  },
  {
   "cell_type": "code",
   "execution_count": null,
   "metadata": {},
   "outputs": [],
   "source": [
    "marker_df['scores']"
   ]
  },
  {
   "cell_type": "code",
   "execution_count": null,
   "metadata": {},
   "outputs": [],
   "source": [
    "marker_df['names']"
   ]
  },
  {
   "cell_type": "code",
   "execution_count": null,
   "metadata": {},
   "outputs": [],
   "source": [
    "plt.figure(figsize=(5,2))\n",
    "plt.hist(marker_df['scores'], bins=30, color=sc.pl.palettes.default_102[0], linewidth=1, edgecolor='k')\n",
    "# plt.hist(marker_df['scores'], bins=30, color=region_cmap['L2/3'], linewidth=1, edgecolor='k')\n",
    "plt.grid(None)\n",
    "plt.axis('off')\n",
    "figname = f'species_L23_deg_score_hist.png'\n",
    "savepath = os.path.join(basepath, figname)\n",
    "plt.savefig(savepath, bbox_inches='tight', transparent=True, dpi=dpi)\n",
    "plt.show()"
   ]
  },
  {
   "cell_type": "code",
   "execution_count": null,
   "metadata": {},
   "outputs": [],
   "source": [
    "plt.figure(figsize=(5,2))\n",
    "plt.hist(marker_df['scores'], bins=30, color=sc.pl.palettes.default_102[0], linewidth=1, edgecolor='k')\n",
    "# plt.hist(marker_df['scores'], bins=30, color=region_cmap['L2/3'], linewidth=1, edgecolor='k')\n",
    "plt.grid(None)\n",
    "# plt.yticks([30],[30])\n",
    "# plt.axis('off')\n",
    "# figname = f'region_deg_score_hist.png'\n",
    "# savepath = os.path.join(basepath, figname)\n",
    "# plt.savefig(savepath, bbox_inches='tight', transparent=True, dpi=dpi)\n",
    "plt.show()"
   ]
  },
  {
   "cell_type": "code",
   "execution_count": null,
   "metadata": {},
   "outputs": [],
   "source": [
    "# Unique\n",
    "xdata = adata[adata.obs['region']==region]\n",
    "sc.tl.rank_genes_groups(xdata, groupby='dataset')#, layer='smooth')\n",
    "marker_df = sc.get.rank_genes_groups_df(xdata, group='marmoset')\n",
    "marmoset_markers = marker_df['names']\n",
    "marmoset_marker = marmoset_markers[0]"
   ]
  },
  {
   "cell_type": "code",
   "execution_count": null,
   "metadata": {},
   "outputs": [],
   "source": [
    "marker_df['scores']"
   ]
  },
  {
   "cell_type": "code",
   "execution_count": null,
   "metadata": {},
   "outputs": [],
   "source": [
    "marker_df['names']"
   ]
  },
  {
   "cell_type": "code",
   "execution_count": null,
   "metadata": {},
   "outputs": [],
   "source": [
    "print(shared_marker, mouse_marker, marmoset_marker)"
   ]
  },
  {
   "cell_type": "code",
   "execution_count": null,
   "metadata": {},
   "outputs": [],
   "source": [
    "X = sc.concat((zoomdata_marmoset, zoomdata_mouse))[:,[shared_marker]].X\n",
    "vmax = X.max()\n",
    "vmin = X.min()\n",
    "cmaps = ['Blues', 'Oranges']"
   ]
  },
  {
   "cell_type": "code",
   "execution_count": null,
   "metadata": {},
   "outputs": [],
   "source": [
    "sc.set_figure_params(figsize=(2,6))\n",
    "species = ['marmoset', 'mouse']\n",
    "zoomdatas = [zoomdata_marmoset, zoomdata_mouse]\n",
    "for i in range(len(species)):\n",
    "    sc.pl.embedding(zoomdatas[i], basis='spatial', color=shared_marker, s=120, cmap=cmaps[i],\n",
    "    return_fig=True, frameon=False, title='', colorbar_loc=None, edgecolor='k', linewidth=0.05,\n",
    "    )# vmin=vmin, vmax=vmax)\n",
    "    # sc.pl.embedding(zoomdatas[i], basis='spatial', color=shared_marker, s=100, cmap='inferno_r', return_fig=True, frameon=False, title='', colorbar_loc=None, edgecolor=None)\n",
    "    figname = f'zoom_tissue_{species[i]}_colored_by_{shared_marker}.png'\n",
    "    savepath = os.path.join(basepath, figname)\n",
    "    plt.savefig(savepath, bbox_inches='tight', transparent=True, dpi=dpi)\n",
    "    plt.show()"
   ]
  },
  {
   "cell_type": "code",
   "execution_count": null,
   "metadata": {},
   "outputs": [],
   "source": [
    "X = sc.concat((zoomdata_marmoset, zoomdata_mouse))[:,mouse_marker].X\n",
    "vmax = X.max()\n",
    "vmin = X.min()\n",
    "cmaps = ['Blues', 'Oranges']"
   ]
  },
  {
   "cell_type": "code",
   "execution_count": null,
   "metadata": {},
   "outputs": [],
   "source": [
    "sc.set_figure_params(figsize=(2,6))\n",
    "species = ['marmoset', 'mouse']\n",
    "zoomdatas = [zoomdata_marmoset, zoomdata_mouse]\n",
    "for i in range(len(species)):\n",
    "    sc.pl.embedding(zoomdatas[i], basis='spatial', color=mouse_marker, s=120, cmap=cmaps[i],\n",
    "    return_fig=True, frameon=False, title='', colorbar_loc=None, edgecolor='k', linewidth=0.05,\n",
    "    )#vmin=vmin, vmax=vmax)\n",
    "    # sc.pl.embedding(zoomdatas[i], basis='spatial', color=mouse_marker, s=100, cmap='inferno_r', return_fig=True, frameon=False, title='', colorbar_loc=None, edgecolor=None)\n",
    "    figname = f'zoom_tissue_{species[i]}_colored_by_{mouse_marker}.png'\n",
    "    savepath = os.path.join(basepath, figname)\n",
    "    plt.savefig(savepath, bbox_inches='tight', transparent=True, dpi=dpi)\n",
    "    plt.show()"
   ]
  },
  {
   "cell_type": "code",
   "execution_count": null,
   "metadata": {},
   "outputs": [],
   "source": [
    "sc.set_figure_params(figsize=(2,6))\n",
    "species = ['marmoset', 'mouse']\n",
    "zoomdatas = [zoomdata_marmoset, zoomdata_mouse]\n",
    "for i in range(len(species)):\n",
    "    sc.pl.embedding(zoomdatas[i], basis='spatial', color=marmoset_marker, s=120, cmap=cmaps[i],\n",
    "    return_fig=True, frameon=False, title='', colorbar_loc=None, edgecolor='k', linewidth=0.05,\n",
    "    )#vmin=vmin, vmax=vmax)\n",
    "    # sc.pl.embedding(zoomdatas[i], basis='spatial', color=marmoset_marker, s=100, cmap='inferno_r', return_fig=True, frameon=False, title='', colorbar_loc=None, edgecolor=None)\n",
    "    figname = f'zoom_tissue_{species[i]}_colored_by_{marmoset_marker}.png'\n",
    "    savepath = os.path.join(basepath, figname)\n",
    "    plt.savefig(savepath, bbox_inches='tight', transparent=True, dpi=dpi)\n",
    "    plt.show()"
   ]
  },
  {
   "attachments": {},
   "cell_type": "markdown",
   "metadata": {},
   "source": [
    "## Full tissue plots of markers"
   ]
  },
  {
   "cell_type": "code",
   "execution_count": null,
   "metadata": {},
   "outputs": [],
   "source": [
    "markers = [shared_marker, mouse_marker, marmoset_marker]\n",
    "sc.set_figure_params(figsize=(7,5))\n",
    "for marker in markers:\n",
    "    for i in range(len(species)):\n",
    "        sc.pl.embedding(adata, basis='spatial', color=marker, s=10, title='', colorbar_loc=None, return_fig=True, cmap=cmaps[i])\n",
    "        plt.axis('off')\n",
    "        figname = f'tissue_colored_by_{marker}_cmap{i}.png'\n",
    "        savepath = os.path.join(basepath, figname)\n",
    "        plt.savefig(savepath, bbox_inches='tight', transparent=True, dpi=dpi)\n",
    "        plt.show()"
   ]
  },
  {
   "cell_type": "code",
   "execution_count": null,
   "metadata": {},
   "outputs": [],
   "source": [
    "sc.set_figure_params(figsize=(2,6))\n",
    "species = ['marmoset', 'mouse']\n",
    "zoomdatas = [zoomdata_marmoset, zoomdata_mouse]\n",
    "for i in range(len(species)):\n",
    "    sc.pl.embedding(zoomdatas[i], basis='spatial', color=marmoset_marker, s=120, cmap=cmaps[i],\n",
    "    return_fig=True, frameon=False, title='', colorbar_loc=None, edgecolor='k', linewidth=0.05,\n",
    "    )#vmin=vmin, vmax=vmax)\n",
    "    # sc.pl.embedding(zoomdatas[i], basis='spatial', color=marmoset_marker, s=100, cmap='inferno_r', return_fig=True, frameon=False, title='', colorbar_loc=None, edgecolor=None)\n",
    "    figname = f'zoom_tissue_{species[i]}_colored_by_{marmoset_marker}.png'\n",
    "    savepath = os.path.join(basepath, figname)\n",
    "    plt.savefig(savepath, bbox_inches='tight', transparent=True, dpi=dpi)\n",
    "    plt.show()"
   ]
  },
  {
   "attachments": {},
   "cell_type": "markdown",
   "metadata": {},
   "source": [
    "# Continuous depth vs gene"
   ]
  },
  {
   "cell_type": "code",
   "execution_count": null,
   "metadata": {},
   "outputs": [],
   "source": [
    "adata = sc.read_h5ad('/stanley/WangLab/kamal/code/remote_notebooks/mpfc_xspecies/marmoset_mouse_mpfc_spin_30nbrs_12samples_ctyped_level2_inh2.h5ad')"
   ]
  },
  {
   "cell_type": "code",
   "execution_count": null,
   "metadata": {},
   "outputs": [],
   "source": [
    "leiden2region = {\n",
    "    '0': 'L5',\n",
    "    '1': 'L2/3',\n",
    "    '2': 'L4',\n",
    "    '3': 'L6',\n",
    "    '4': 'meninges/L1',\n",
    "    '5': 'fiber tract',\n",
    "    '6': 'PIR',\n",
    "    '7': 'TT',\n",
    "    '8': 'aco',\n",
    "}\n",
    "adata.obs['region'] = adata.obs['region'].map(leiden2region)\n",
    "adata.obs['region'] = adata.obs['region'].astype('category')"
   ]
  },
  {
   "cell_type": "code",
   "execution_count": null,
   "metadata": {},
   "outputs": [],
   "source": [
    "sc.set_figure_params(figsize=(7,5))\n",
    "sc.pl.embedding(adata, basis='spatial', color='region', palette=sc.pl.palettes.default_102, s=10, title='', legend_loc=None, return_fig=True)\n",
    "plt.axis('off')\n",
    "figname = f'tissue_colored_by_region.png'\n",
    "savepath = os.path.join(basepath, figname)\n",
    "# plt.savefig(savepath, bbox_inches='tight', transparent=True, dpi=dpi)"
   ]
  },
  {
   "cell_type": "code",
   "execution_count": null,
   "metadata": {},
   "outputs": [],
   "source": [
    "sc.set_figure_params(figsize=(5,5))\n",
    "sc.pl.embedding(adata, basis='X_umap_spin', color='region', palette=sc.pl.palettes.default_102, s=8, title='', legend_loc=None, return_fig=True)\n",
    "plt.axis('off')\n",
    "figname = f'latent_colored_by_region.png'\n",
    "savepath = os.path.join(basepath, figname)\n",
    "# plt.savefig(savepath, bbox_inches='tight', transparent=True, dpi=dpi)"
   ]
  },
  {
   "cell_type": "code",
   "execution_count": null,
   "metadata": {},
   "outputs": [],
   "source": [
    "ctx_regions = ['L2/3', 'L4', 'L5', 'L6']\n",
    "adata = adata[np.isin(adata.obs['region'], ctx_regions)]"
   ]
  },
  {
   "cell_type": "code",
   "execution_count": null,
   "metadata": {},
   "outputs": [],
   "source": [
    "adata"
   ]
  },
  {
   "cell_type": "code",
   "execution_count": null,
   "metadata": {},
   "outputs": [],
   "source": [
    "sc.pp.neighbors(adata, use_rep='X_pca_spin', key_added='region')\n",
    "sc.tl.diffmap(adata, neighbors_key='region')\n",
    "adata.obs['depth'] = -adata.obsm['X_diffmap'][:,1]"
   ]
  },
  {
   "cell_type": "code",
   "execution_count": null,
   "metadata": {},
   "outputs": [],
   "source": [
    "sc.set_figure_params(figsize=(5,5))\n",
    "sc.pl.embedding(adata, basis='X_umap_spin', color='depth', s=8, title='', legend_loc=None, return_fig=True)\n",
    "plt.axis('off')\n",
    "plt.show()"
   ]
  },
  {
   "cell_type": "code",
   "execution_count": null,
   "metadata": {},
   "outputs": [],
   "source": [
    "adata.write('/stanley/WangLab/kamal/code/remote_notebooks/mpfc_xspecies/marmoset_mouse_mpfc_spin_30nbrs_12samples_ctyped_level2_inh2_depth_ctx.h5ad')"
   ]
  },
  {
   "cell_type": "code",
   "execution_count": null,
   "metadata": {},
   "outputs": [],
   "source": [
    "# Make bins\n",
    "num_bins = 50\n",
    "max_depth = adata.obs['depth'].max()\n",
    "min_depth = adata.obs['depth'].min()\n",
    "increments = (max_depth-min_depth)/num_bins\n",
    "bins = np.arange(min_depth, max_depth, increments)\n",
    "adata.obs['depth_bin'] = np.digitize(adata.obs['depth'], bins=bins) - 1 # account for idxs\n",
    "\n",
    "# Make expression nonnegative\n",
    "adata.X -= adata.X.min()\n",
    "adata.layers['smooth'] -= adata.layers['smooth'].min()\n",
    "\n",
    "# Separate species\n",
    "adata_marmoset = adata[adata.obs['dataset']=='marmoset']\n",
    "adata_mouse = adata[adata.obs['dataset']=='mouse']\n",
    "adatas = [adata_marmoset, adata_mouse]"
   ]
  },
  {
   "cell_type": "code",
   "execution_count": null,
   "metadata": {},
   "outputs": [],
   "source": [
    "def get_hists(adatas, gene, start_bin=None, end_bin=None):\n",
    "\n",
    "    hists = []\n",
    "    for subdata in adatas:\n",
    "\n",
    "        # Initialize a few vars\n",
    "        hist = np.zeros(num_bins)\n",
    "        depth = subdata.obs['depth_bin'].values\n",
    "        expr = subdata[:,gene].X.flatten()\n",
    "        # expr = subdata[:,gene].layers['smooth'].flatten()\n",
    "\n",
    "        # Wanted to just use np.histogram here to get counts, but it has known binning diffs from np.digitize\n",
    "        bin_counts = np.zeros(num_bins)\n",
    "        nonzero_counts = subdata.obs['depth_bin'].value_counts().sort_index()\n",
    "        for i in nonzero_counts.index:\n",
    "            bin_counts[i] = nonzero_counts.loc[i]\n",
    "\n",
    "        # Add each cell's expression into corresponding cell depth bin\n",
    "        for i in range(len(subdata)):\n",
    "            hist[depth[i]] += expr[i] / bin_counts[depth[i]]\n",
    "        \n",
    "        # Omit highest and lowest depths due to noise\n",
    "        if not start_bin and end_bin:\n",
    "            start_bin = num_bins // 10 # omit bottom 10% of depth\n",
    "            end_bin = num_bins // 10 * 9 # omit top 10% of depth\n",
    "        hist = hist[start_bin:end_bin]\n",
    "\n",
    "        # Normalize wrt given dataset\n",
    "        hist /= hist.sum()\n",
    "        hists.append(hist)\n",
    "    \n",
    "    return hists"
   ]
  },
  {
   "cell_type": "code",
   "execution_count": null,
   "metadata": {},
   "outputs": [],
   "source": [
    "start_bin = 5\n",
    "end_bin = 45"
   ]
  },
  {
   "cell_type": "code",
   "execution_count": null,
   "metadata": {},
   "outputs": [],
   "source": [
    "adata[:,'LAMP5'].X.flatten()"
   ]
  },
  {
   "cell_type": "code",
   "execution_count": null,
   "metadata": {},
   "outputs": [],
   "source": [
    "species = ['marmoset', 'mouse']\n",
    "\n",
    "for gene in ['LAMP5', 'CCK', 'SLC13A3', 'PLCH1']:\n",
    "    hists = get_hists(adatas, gene, start_bin=start_bin, end_bin=end_bin)\n",
    "    plt.figure(figsize=(10,3))\n",
    "    for i in range(len(hists)):\n",
    "        plt.plot(hists[i], label=species[i], linewidth=5)\n",
    "    plt.axis('off')\n",
    "    plt.ylim(0.015, 0.035)\n",
    "    figname = f'depth_curve_{gene}.png'\n",
    "    savepath = os.path.join(basepath, figname)\n",
    "    # plt.savefig(savepath, bbox_inches='tight', transparent=True, dpi=dpi)\n",
    "    plt.show()"
   ]
  },
  {
   "cell_type": "code",
   "execution_count": null,
   "metadata": {},
   "outputs": [],
   "source": [
    "species = ['marmoset', 'mouse']\n",
    "\n",
    "for gene in ['LAMP5', 'CCK']:\n",
    "    plt.figure(figsize=(10,3))\n",
    "    plt.plot(adata[:,gene].varm['marmoset_depth_dist'].flatten(), linewidth=5)\n",
    "    plt.plot(adata[:,gene].varm['mouse_depth_dist'].flatten(), linewidth=5)\n",
    "    plt.axis('off')\n",
    "    # figname = f'depth_curve_{gene}.png'\n",
    "    # savepath = os.path.join(basepath, figname)\n",
    "    # plt.savefig(savepath, bbox_inches='tight', transparent=True, dpi=dpi)\n",
    "    plt.show()"
   ]
  },
  {
   "cell_type": "code",
   "execution_count": null,
   "metadata": {},
   "outputs": [],
   "source": [
    "num_top_genes = 5\n",
    "most_similar_genes = adata.var['species_expr_diffs'].sort_values()[:num_top_genes].index\n",
    "most_different_genes = adata.var['species_expr_diffs'].sort_values()[-num_top_genes:][::-1].index"
   ]
  },
  {
   "cell_type": "code",
   "execution_count": null,
   "metadata": {},
   "outputs": [],
   "source": [
    "species = ['marmoset', 'mouse']\n",
    "\n",
    "for gene in most_similar_genes:\n",
    "    print(gene)\n",
    "    plt.figure(figsize=(10,3))\n",
    "    plt.plot(adata[:,gene].varm['marmoset_depth_dist'].flatten(), linewidth=5)\n",
    "    plt.plot(adata[:,gene].varm['mouse_depth_dist'].flatten(), linewidth=5)\n",
    "    plt.axis('off')\n",
    "    figname = f'depth_curve_{gene}.png'\n",
    "    savepath = os.path.join(basepath, figname)\n",
    "    plt.savefig(savepath, bbox_inches='tight', transparent=True, dpi=dpi)\n",
    "    plt.show()"
   ]
  },
  {
   "cell_type": "code",
   "execution_count": null,
   "metadata": {},
   "outputs": [],
   "source": [
    "species = ['marmoset', 'mouse']\n",
    "\n",
    "for gene in most_different_genes:\n",
    "    plt.figure(figsize=(10,3))\n",
    "    plt.title(gene)\n",
    "    plt.plot(adata[:,gene].varm['marmoset_depth_dist'].flatten(), linewidth=5)\n",
    "    plt.plot(adata[:,gene].varm['mouse_depth_dist'].flatten(), linewidth=5)\n",
    "    plt.axis('off')\n",
    "    # figname = f'depth_curve_{gene}.png'\n",
    "    # savepath = os.path.join(basepath, figname)\n",
    "    # plt.savefig(savepath, bbox_inches='tight', transparent=True, dpi=dpi)\n",
    "    plt.show()"
   ]
  },
  {
   "cell_type": "code",
   "execution_count": null,
   "metadata": {},
   "outputs": [],
   "source": [
    "gene = most_different_genes[1]\n",
    "print(gene)\n",
    "X = sc.concat((zoomdata_marmoset, zoomdata_mouse))[:,gene].X\n",
    "vmax = X.max()\n",
    "vmin = X.min()\n",
    "cmaps = ['Blues', 'Oranges']\n",
    "\n",
    "sc.set_figure_params(figsize=(2,6))\n",
    "species = ['marmoset', 'mouse']\n",
    "zoomdatas = [zoomdata_marmoset, zoomdata_mouse]\n",
    "for i in range(len(species)):\n",
    "    sc.pl.embedding(zoomdatas[i], basis='spatial', color=gene, s=100, cmap=cmaps[i], return_fig=True, frameon=False, title='', colorbar_loc=None, edgecolor=None)\n",
    "    figname = f'zoom_tissue_{species[i]}_colored_by_{gene}.png'\n",
    "    savepath = os.path.join(basepath, figname)\n",
    "    plt.savefig(savepath, bbox_inches='tight', transparent=True, dpi=dpi)\n",
    "    plt.show()"
   ]
  },
  {
   "cell_type": "code",
   "execution_count": null,
   "metadata": {},
   "outputs": [],
   "source": [
    "gene = most_similar_genes[0]\n",
    "print(gene)\n",
    "X = sc.concat((zoomdata_marmoset, zoomdata_mouse))[:,gene].X\n",
    "vmax = X.max()\n",
    "vmin = X.min()\n",
    "cmaps = ['Blues', 'Oranges']\n",
    "\n",
    "sc.set_figure_params(figsize=(2,6))\n",
    "species = ['marmoset', 'mouse']\n",
    "zoomdatas = [zoomdata_marmoset, zoomdata_mouse]\n",
    "for i in range(len(species)):\n",
    "    sc.pl.embedding(zoomdatas[i], basis='spatial', color=gene, s=100, cmap=cmaps[i], return_fig=True, frameon=False, title='', colorbar_loc=None, edgecolor=None)\n",
    "    figname = f'zoom_tissue_{species[i]}_colored_by_{gene}.png'\n",
    "    savepath = os.path.join(basepath, figname)\n",
    "    plt.savefig(savepath, bbox_inches='tight', transparent=True, dpi=dpi)\n",
    "    plt.show()"
   ]
  },
  {
   "attachments": {},
   "cell_type": "markdown",
   "metadata": {},
   "source": [
    "No ISH data from japanese marmoset site, but evidence in macaques in the following preprint:\n",
    "\n",
    "https://www.biorxiv.org/content/10.1101/2020.05.14.087601v2\n",
    "\n",
    "Extended Data Fig. 4"
   ]
  },
  {
   "cell_type": "code",
   "execution_count": null,
   "metadata": {},
   "outputs": [],
   "source": [
    "# colorbar only\n",
    "for i in range(2):\n",
    "    fig = plt.figure()\n",
    "    cax = plt.imshow(np.array([[0,1]]), cmap=cmaps[i])\n",
    "    plt.gca().set_visible(False)\n",
    "    cbar = fig.colorbar(cax, ticks=[0, 1])\n",
    "    cbar.ax.set_yticklabels(['', ''])\n",
    "    figname = f'cbar_colored_by_{cmaps[i]}.png'\n",
    "    savepath = os.path.join(basepath, figname)\n",
    "    plt.savefig(savepath)\n",
    "    plt.show()"
   ]
  },
  {
   "cell_type": "code",
   "execution_count": null,
   "metadata": {},
   "outputs": [],
   "source": [
    "plt.figure(figsize=(6,2))\n",
    "plt.hist(adata.var['species_expr_diffs'], bins=30)\n",
    "plt.xlabel('Species Difference')\n",
    "plt.ylabel('Count')\n",
    "plt.axis('off')\n",
    "figname = f'gene_depth_diffs_hist.png'\n",
    "savepath = os.path.join(basepath, figname)\n",
    "plt.savefig(savepath, bbox_inches='tight', transparent=True, dpi=dpi)\n",
    "plt.show()"
   ]
  },
  {
   "cell_type": "code",
   "execution_count": null,
   "metadata": {},
   "outputs": [],
   "source": [
    "plt.figure(figsize=(6,2))\n",
    "plt.hist(adata.var['species_expr_diffs'], bins=30)\n",
    "plt.xlabel('Species Difference')\n",
    "plt.ylabel('Count')\n",
    "plt.show()"
   ]
  },
  {
   "cell_type": "code",
   "execution_count": null,
   "metadata": {},
   "outputs": [],
   "source": [
    "adata.var['species_expr_diffs']['LAMP5']"
   ]
  },
  {
   "cell_type": "code",
   "execution_count": null,
   "metadata": {},
   "outputs": [],
   "source": [
    "# adata.write('/stanley/WangLab/kamal/code/remote_notebooks/mpfc_xspecies/marmoset_mouse_mpfc_spin_30nbrs_12samples_processed.h5ad')"
   ]
  },
  {
   "attachments": {},
   "cell_type": "markdown",
   "metadata": {},
   "source": [
    "# Cell type vs depth"
   ]
  },
  {
   "cell_type": "code",
   "execution_count": null,
   "metadata": {},
   "outputs": [],
   "source": [
    "adata = sc.read_h5ad('/stanley/WangLab/kamal/code/remote_notebooks/mpfc_xspecies/marmoset_mouse_mpfc_spin_30nbrs_12samples_ctyped_level2_inh2_depth_ctx.h5ad')\n",
    "\n",
    "# Don't include OB since looking at cortex\n",
    "ctype_key = 'level2'\n",
    "adata = adata[adata.obs[ctype_key]!='OB']"
   ]
  },
  {
   "cell_type": "code",
   "execution_count": null,
   "metadata": {},
   "outputs": [],
   "source": [
    "# Separate species\n",
    "adata_marmoset = adata[adata.obs['dataset']=='marmoset']\n",
    "adata_mouse = adata[adata.obs['dataset']=='mouse']\n",
    "adatas = [adata_marmoset, adata_mouse]"
   ]
  },
  {
   "cell_type": "code",
   "execution_count": null,
   "metadata": {},
   "outputs": [],
   "source": [
    "# Filter cell types by amount in each dataset\n",
    "ctypes = list(adata.obs[ctype_key].unique())\n",
    "ctypes_filtered = []\n",
    "for ctype in ctypes:\n",
    "    marmoset_counts = adata_marmoset.obs[ctype_key].value_counts()[ctype]\n",
    "    mouse_counts = adata_mouse.obs[ctype_key].value_counts()[ctype]\n",
    "    if (marmoset_counts > 100) and (mouse_counts > 100):\n",
    "        ctypes_filtered.append(ctype)"
   ]
  },
  {
   "cell_type": "code",
   "execution_count": null,
   "metadata": {},
   "outputs": [],
   "source": [
    "# Set up variables\n",
    "ctypes = adata.obs[ctype_key].unique()\n",
    "ns = dict()\n",
    "alphas = dict()\n",
    "significances = dict()\n",
    "\n",
    "# Set up p-values\n",
    "reject_p = 0.01\n",
    "corrected_reject_p = reject_p / len(ctypes) # Bonferroni correction\n",
    "\n",
    "# Get statistics\n",
    "for ctype in ctypes:\n",
    "    mouse = adata_mouse[adata_mouse.obs[ctype_key]==ctype].obs['depth']\n",
    "    marmoset = adata_marmoset[adata_marmoset.obs[ctype_key]==ctype].obs['depth']\n",
    "    alpha = mannwhitneyu(mouse, marmoset).pvalue\n",
    "    ns[ctype] = (len(mouse), len(marmoset))\n",
    "    alphas[ctype] = alpha\n",
    "    significances[ctype] = alpha < corrected_reject_p"
   ]
  },
  {
   "cell_type": "code",
   "execution_count": null,
   "metadata": {},
   "outputs": [],
   "source": [
    "species_cmap = plt.cm.get_cmap('tab10').colors[:2][::-1]"
   ]
  },
  {
   "cell_type": "code",
   "execution_count": null,
   "metadata": {},
   "outputs": [],
   "source": [
    "ctypes_filtered"
   ]
  },
  {
   "cell_type": "code",
   "execution_count": null,
   "metadata": {},
   "outputs": [],
   "source": [
    "adata = adata[np.isin(adata.obs[ctype_key], ctypes_filtered)]\n",
    "\n",
    "# Separate species\n",
    "adata_marmoset = adata[adata.obs['dataset']=='marmoset']\n",
    "adata_mouse = adata[adata.obs['dataset']=='mouse']\n",
    "adatas = [adata_marmoset, adata_mouse]"
   ]
  },
  {
   "cell_type": "code",
   "execution_count": null,
   "metadata": {},
   "outputs": [],
   "source": [
    "order = [\n",
    "    'Astro', 'Endo', 'OPC', 'Oligo', 'Micro/Oligo', # Non-neuronal\n",
    "    'IT', 'ET', # Excitatory\n",
    "    'Vip', 'Cxcl14', 'Sst', 'Pvalb', # Inhibitory\n",
    "]"
   ]
  },
  {
   "cell_type": "code",
   "execution_count": null,
   "metadata": {},
   "outputs": [],
   "source": [
    "set(order) == set(adata.obs[ctype_key].unique())"
   ]
  },
  {
   "cell_type": "code",
   "execution_count": null,
   "metadata": {},
   "outputs": [],
   "source": [
    "# Make main plot\n",
    "plt.figure(figsize=(12,3))\n",
    "sns.boxplot(\n",
    "    data=adata.obs,\n",
    "    x=ctype_key,\n",
    "    y='depth',\n",
    "    hue='dataset',\n",
    "    palette=species_cmap[::-1],\n",
    "    order=order\n",
    ")\n",
    "plt.gca().grid(False)\n",
    "# plt.legend(bbox_to_anchor=(1,1))\n",
    "plt.gca().get_legend().remove()\n",
    "\n",
    "# Add significance indicators\n",
    "max_depth = adata.obs['depth'].max()\n",
    "buffer = 0.001\n",
    "sns.despine()\n",
    "ticks, labels = plt.xticks()\n",
    "for i in range(len(ticks)):\n",
    "    label = labels[i].get_text().split(',')[0]\n",
    "    significant = significances[label]\n",
    "    if significant:\n",
    "        tick = ticks[i]\n",
    "        plt.text(tick, max_depth+buffer, '*', ha='center')\n",
    "        plt.plot([tick-0.3, tick+0.3], [max_depth+buffer, max_depth+buffer], color='k')\n",
    "\n",
    "# Modify xticks\n",
    "new_labels = []\n",
    "for i in range(len(ticks)):\n",
    "    label = labels[i].get_text().split(',')[0]\n",
    "    new_labels.append(f'{label}, n={ns[label]}')\n",
    "    # new_labels.append('')\n",
    "plt.xticks(ticks, new_labels, rotation=90)\n",
    "\n",
    "# Modify yticks\n",
    "vmax = adata.obs['depth'].max()\n",
    "vmin = adata.obs['depth'].min()\n",
    "plt.yticks([vmax, vmin], ['', ''])\n",
    "plt.gca().set_yticklabels('')\n",
    "plt.xlabel('')\n",
    "plt.ylabel('')\n",
    "\n",
    "# plt.title('Ileum', fontsize=18)\n",
    "figname = 'ctype_depth_boxplot.png'\n",
    "savepath = os.path.join(basepath, figname)\n",
    "# plt.savefig(savepath, bbox_inches='tight', transparent=True, dpi=dpi)\n",
    "plt.show()"
   ]
  },
  {
   "cell_type": "code",
   "execution_count": null,
   "metadata": {},
   "outputs": [],
   "source": [
    "# Make main plot\n",
    "plt.figure(figsize=(12,3))\n",
    "sns.boxplot(\n",
    "    data=adata.obs,\n",
    "    x=ctype_key,\n",
    "    y='depth',\n",
    "    hue='dataset',\n",
    "    palette=species_cmap[::-1],\n",
    "    order=order\n",
    ")\n",
    "plt.gca().grid(False)\n",
    "# plt.legend(bbox_to_anchor=(1,1))\n",
    "plt.gca().get_legend().remove()\n",
    "\n",
    "# Add significance indicators\n",
    "max_depth = adata.obs['depth'].max()\n",
    "buffer = 0.001\n",
    "sns.despine()\n",
    "ticks, labels = plt.xticks()\n",
    "for i in range(len(ticks)):\n",
    "    label = labels[i].get_text().split(',')[0]\n",
    "    significant = significances[label]\n",
    "    if significant:\n",
    "        tick = ticks[i]\n",
    "        plt.text(tick, max_depth+buffer, '*', ha='center')\n",
    "        plt.plot([tick-0.3, tick+0.3], [max_depth+buffer, max_depth+buffer], color='k')\n",
    "\n",
    "# Modify xticks\n",
    "new_labels = []\n",
    "for i in range(len(ticks)):\n",
    "    label = labels[i].get_text().split(',')[0]\n",
    "    # new_labels.append(f'{label}, n={ns[label]}')\n",
    "    new_labels.append('')\n",
    "plt.xticks(ticks, new_labels, rotation=90)\n",
    "\n",
    "# Modify yticks\n",
    "vmax = adata.obs['depth'].max()\n",
    "vmin = adata.obs['depth'].min()\n",
    "plt.yticks([vmax, vmin], ['', ''])\n",
    "plt.gca().set_yticklabels('')\n",
    "plt.xlabel('')\n",
    "plt.ylabel('')\n",
    "\n",
    "# plt.title('Ileum', fontsize=18)\n",
    "figname = 'ctype_depth_boxplot.png'\n",
    "savepath = os.path.join(basepath, figname)\n",
    "plt.savefig(savepath, bbox_inches='tight', transparent=True, dpi=dpi)\n",
    "plt.show()"
   ]
  },
  {
   "cell_type": "code",
   "execution_count": null,
   "metadata": {},
   "outputs": [],
   "source": [
    "def get_zoom(adata, x, y, width, height):\n",
    "    zoomdata = adata[adata.obsm['spatial'][:,0]>x]\n",
    "    zoomdata = zoomdata[zoomdata.obsm['spatial'][:,0]<x+width]\n",
    "    zoomdata = zoomdata[zoomdata.obsm['spatial'][:,1]>y]\n",
    "    zoomdata = zoomdata[zoomdata.obsm['spatial'][:,1]<y+height]\n",
    "    return zoomdata"
   ]
  },
  {
   "cell_type": "code",
   "execution_count": null,
   "metadata": {},
   "outputs": [],
   "source": [
    "# marmoset_box = (-4400, 10800, 1400, 4200)\n",
    "marmoset_box = (-4400, 10200, 1600, 4800)\n",
    "subdata = adata[adata.obs['dataset']=='marmoset']\n",
    "plt.figure(figsize=(1.5,4))\n",
    "plt.scatter(*subdata.obsm['spatial'].T, s=1)\n",
    "rect = Rectangle(marmoset_box[:2], marmoset_box[2], marmoset_box[3], fill=False, edgecolor='k')\n",
    "plt.gca().add_patch(rect)\n",
    "plt.axis('off')\n",
    "plt.show()\n",
    "\n",
    "# mouse_box = (2600, 8200, 2050, 6150)\n",
    "mouse_box = (2600, 8900, 1800, 5400)\n",
    "subdata = adata[adata.obs['dataset']=='mouse']\n",
    "plt.figure(figsize=(4,4))\n",
    "plt.scatter(*subdata.obsm['spatial'].T, s=1)\n",
    "rect = Rectangle(mouse_box[:2], mouse_box[2], mouse_box[3], fill=False, edgecolor='k')\n",
    "plt.gca().add_patch(rect)\n",
    "plt.axis('off')\n",
    "plt.show()\n",
    "\n",
    "\n",
    "zoomdata_marmoset = get_zoom(adata[adata.obs['dataset']=='marmoset'], *marmoset_box)\n",
    "zoomdata_mouse = get_zoom(adata[adata.obs['dataset']=='mouse'], *mouse_box)"
   ]
  },
  {
   "cell_type": "code",
   "execution_count": null,
   "metadata": {},
   "outputs": [],
   "source": [
    "ctype = 'Pvalb'\n",
    "sc.set_figure_params(figsize=(2,6))\n",
    "species = ['marmoset', 'mouse']\n",
    "zoomdatas = [zoomdata_marmoset, zoomdata_mouse]\n",
    "for i in range(len(species)):\n",
    "    sc.pl.embedding(zoomdatas[i], basis='spatial', color=ctype_key, groups=ctype, palette=[species_cmap[::-1][i]], s=100, return_fig=True, frameon=False, title='', legend_loc=None, edgecolor=None)\n",
    "    # sc.pl.embedding(zoomdatas[i], basis='spatial', color=ctype_key, groups=ctype, palette='k', s=100, return_fig=True, frameon=False, title='', legend_loc=None, edgecolor=None)\n",
    "    figname = f'zoom_{species[i]}_colored_by_{ctype}.png'\n",
    "    savepath = os.path.join(basepath, figname)\n",
    "    plt.savefig(savepath, bbox_inches='tight', transparent=True, dpi=dpi)\n",
    "    plt.show()"
   ]
  },
  {
   "attachments": {},
   "cell_type": "markdown",
   "metadata": {},
   "source": [
    "## Plot hist for physical depth in each slice"
   ]
  },
  {
   "cell_type": "code",
   "execution_count": null,
   "metadata": {},
   "outputs": [],
   "source": [
    "# Isolate a given cell type\n",
    "zoomdata_marmoset_ctype = zoomdata_marmoset[zoomdata_marmoset.obs[ctype_key]==ctype]\n",
    "zoomdata_mouse_ctype = zoomdata_mouse[zoomdata_mouse.obs[ctype_key]==ctype]"
   ]
  },
  {
   "cell_type": "code",
   "execution_count": null,
   "metadata": {},
   "outputs": [],
   "source": [
    "physdepth_marmoset = zoomdata_marmoset_ctype.obsm['spatial'][:,1].copy()\n",
    "physdepth_marmoset -= physdepth_marmoset.min()\n",
    "physdepth_marmoset /= physdepth_marmoset.ptp()\n",
    "plt.figure(figsize=(10,1))\n",
    "plt.hist(physdepth_marmoset, color=species_cmap[1])\n",
    "plt.axis('off')\n",
    "figname = f'hist_for_zoom_marmoset_{ctype}.png'\n",
    "savepath = os.path.join(basepath, figname)\n",
    "plt.savefig(savepath, bbox_inches='tight', transparent=True, dpi=dpi)\n",
    "plt.show()"
   ]
  },
  {
   "cell_type": "code",
   "execution_count": null,
   "metadata": {},
   "outputs": [],
   "source": [
    "physdepth_mouse = zoomdata_mouse_ctype.obsm['spatial'][:,1].copy()\n",
    "physdepth_mouse -= physdepth_mouse.min()\n",
    "physdepth_mouse /= physdepth_mouse.ptp()\n",
    "plt.figure(figsize=(10,1))\n",
    "plt.hist(physdepth_mouse, color=species_cmap[0])\n",
    "plt.axis('off')\n",
    "figname = f'hist_for_zoom_mouse_{ctype}.png'\n",
    "savepath = os.path.join(basepath, figname)\n",
    "plt.savefig(savepath, bbox_inches='tight', transparent=True, dpi=dpi)\n",
    "plt.show()"
   ]
  },
  {
   "attachments": {},
   "cell_type": "markdown",
   "metadata": {},
   "source": [
    "## Higher res cell types"
   ]
  },
  {
   "cell_type": "code",
   "execution_count": null,
   "metadata": {},
   "outputs": [],
   "source": [
    "# Set up variables\n",
    "ctype_key = 'celltype'\n",
    "ctypes = adata.obs[ctype_key].unique()\n",
    "ns = dict()\n",
    "alphas = dict()\n",
    "significances = dict()\n",
    "\n",
    "# Set up p-values\n",
    "reject_p = 0.01\n",
    "corrected_reject_p = 0.05 / len(ctypes) # Bonferroni correction\n",
    "\n",
    "# Get statistics\n",
    "for ctype in ctypes:\n",
    "    mouse = adata_mouse[adata_mouse.obs[ctype_key]==ctype].obs['depth']\n",
    "    marmoset = adata_marmoset[adata_marmoset.obs[ctype_key]==ctype].obs['depth']\n",
    "    alpha = mannwhitneyu(mouse, marmoset).pvalue\n",
    "    ns[ctype] = (len(mouse), len(marmoset))\n",
    "    alphas[ctype] = alpha\n",
    "    significances[ctype] = alpha < corrected_reject_p"
   ]
  },
  {
   "cell_type": "code",
   "execution_count": null,
   "metadata": {},
   "outputs": [],
   "source": [
    "# Make main plot\n",
    "plt.figure(figsize=(12,3))\n",
    "sns.boxplot(\n",
    "    data=adata.obs,\n",
    "    x=ctype_key,\n",
    "    y='depth',\n",
    "    hue='dataset',\n",
    "    palette=species_cmap[::-1]\n",
    ")\n",
    "plt.gca().grid(False)\n",
    "# plt.legend(bbox_to_anchor=(1,1))\n",
    "plt.gca().get_legend().remove()\n",
    "\n",
    "# Add significance indicators\n",
    "max_depth = adata.obs['depth'].max()\n",
    "buffer = 0.05\n",
    "sns.despine()\n",
    "ticks, labels = plt.xticks()\n",
    "for i in range(len(ticks)):\n",
    "    label = labels[i].get_text().split(',')[0]\n",
    "    significant = significances[label]\n",
    "    if significant:\n",
    "        tick = ticks[i]\n",
    "        plt.text(tick, max_depth+buffer, '*', ha='center')\n",
    "        plt.plot([tick-0.3, tick+0.3], [max_depth+buffer, max_depth+buffer], color='k')\n",
    "\n",
    "# Modify xticks\n",
    "new_labels = []\n",
    "for i in range(len(ticks)):\n",
    "    label = labels[i].get_text().split(',')[0]\n",
    "    # new_labels.append(f'{label}, n={ns[label]}')\n",
    "    new_labels.append('')\n",
    "plt.xticks(ticks, new_labels, rotation=90)\n",
    "\n",
    "# Modify yticks\n",
    "vmax = adata.obs['depth'].max()\n",
    "vmin = adata.obs['depth'].min()\n",
    "plt.yticks([vmax, vmin], ['', ''])\n",
    "plt.gca().set_yticklabels('')\n",
    "plt.xlabel('')\n",
    "plt.ylabel('')\n",
    "\n",
    "# plt.title('Ileum', fontsize=18)\n",
    "figname = 'ctype_depth_boxplot.png'\n",
    "savepath = os.path.join(basepath, figname)\n",
    "plt.savefig(savepath, bbox_inches='tight', transparent=True, dpi=dpi)\n",
    "plt.show()"
   ]
  },
  {
   "cell_type": "code",
   "execution_count": null,
   "metadata": {},
   "outputs": [],
   "source": [
    "ctype = 'Sncg'\n",
    "sc.set_figure_params(figsize=(2,6))\n",
    "species = ['marmoset', 'mouse']\n",
    "zoomdatas = [zoomdata_marmoset, zoomdata_mouse]\n",
    "for i in range(len(species)):\n",
    "    sc.pl.embedding(zoomdatas[i], basis='spatial', color=ctype_key, groups=ctype, palette=['k'], s=100, return_fig=True, frameon=False, title='', legend_loc=None, edgecolor=None)\n",
    "    figname = f'zoom_{species[i]}_colored_by_Sncg.png'\n",
    "    savepath = os.path.join(basepath, figname)\n",
    "    plt.savefig(savepath, bbox_inches='tight', transparent=True, dpi=dpi)\n",
    "    plt.show()"
   ]
  }
 ],
 "metadata": {
  "kernelspec": {
   "display_name": "Python 3 (ipykernel)",
   "language": "python",
   "name": "python3"
  },
  "language_info": {
   "codemirror_mode": {
    "name": "ipython",
    "version": 3
   },
   "file_extension": ".py",
   "mimetype": "text/x-python",
   "name": "python",
   "nbconvert_exporter": "python",
   "pygments_lexer": "ipython3",
   "version": "3.9.16"
  },
  "orig_nbformat": 4,
  "vscode": {
   "interpreter": {
    "hash": "82bb0412d89f405825370413446f3316c7244f5992b6559dbd43b71ad34b5e71"
   }
  }
 },
 "nbformat": 4,
 "nbformat_minor": 2
}
