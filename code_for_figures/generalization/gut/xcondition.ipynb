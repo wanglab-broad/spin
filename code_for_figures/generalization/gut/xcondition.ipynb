{
 "cells": [
  {
   "cell_type": "code",
   "execution_count": null,
   "metadata": {},
   "outputs": [],
   "source": [
    "import scanpy as sc\n",
    "import numpy as np\n",
    "from matplotlib.patches import Rectangle\n",
    "import seaborn as sns \n",
    "import matplotlib.pyplot as plt\n",
    "import os \n",
    "from scipy.stats import mannwhitneyu"
   ]
  },
  {
   "cell_type": "markdown",
   "metadata": {},
   "source": [
    "## Load data and set up params"
   ]
  },
  {
   "cell_type": "code",
   "execution_count": null,
   "metadata": {},
   "outputs": [],
   "source": [
    "adata = sc.read_h5ad('/stanley/WangLab/kamal/data/mouse/gut/ileum_spin_filtered.h5ad')\n",
    "basepath = '/stanley/WangLab/kamal/code/remote_notebooks/gut_xcondition/figures_kamal/'\n",
    "dpi = 300\n",
    "ctypes = adata.obs['general_annos'].unique()\n",
    "ctype_cmap = {ctypes[i]:sc.pl.palettes.default_102[i] for i in range(len(ctypes))}\n",
    "region_cmap = {str(i):sc.pl.palettes.default_102[i] for i in range(100)}\n",
    "figsize = (7,4.5)"
   ]
  },
  {
   "cell_type": "code",
   "execution_count": null,
   "metadata": {},
   "outputs": [],
   "source": [
    "adata"
   ]
  },
  {
   "cell_type": "code",
   "execution_count": null,
   "metadata": {},
   "outputs": [],
   "source": [
    "# Get vmin and vmax of gene expression across samples for colorbar normalization\n",
    "def getMinMax(adata, gene, layer='smooth'):\n",
    "    return (adata[:,gene].layers[layer].min(), adata[:,gene].layers[layer].max())"
   ]
  },
  {
   "attachments": {},
   "cell_type": "markdown",
   "metadata": {},
   "source": [
    "# Full tissue slices"
   ]
  },
  {
   "cell_type": "markdown",
   "metadata": {},
   "source": [
    "## Tissue and latent colored by cell type"
   ]
  },
  {
   "cell_type": "code",
   "execution_count": null,
   "metadata": {},
   "outputs": [],
   "source": [
    "sc.set_figure_params(figsize=figsize)\n",
    "sc.pl.embedding(adata, basis='spatial', color='general_annos', palette=ctype_cmap, s=3, title='', legend_loc=None, return_fig=True)\n",
    "plt.axis('off')\n",
    "figname = f'tissue_colored_by_celltype.png'\n",
    "savepath = os.path.join(basepath, figname)\n",
    "plt.savefig(savepath, bbox_inches='tight', transparent=True, dpi=dpi)"
   ]
  },
  {
   "cell_type": "code",
   "execution_count": null,
   "metadata": {},
   "outputs": [],
   "source": [
    "sc.set_figure_params(figsize=(5,5))\n",
    "sc.pl.embedding(adata, basis='X_umap', color='general_annos', palette=ctype_cmap, s=3, title='', legend_loc='', return_fig=True)\n",
    "plt.axis('off')\n",
    "figname = f'latent_colored_by_celltype.png'\n",
    "savepath = os.path.join(basepath, figname)\n",
    "plt.savefig(savepath, bbox_inches='tight', transparent=True, dpi=dpi)"
   ]
  },
  {
   "cell_type": "code",
   "execution_count": null,
   "metadata": {},
   "outputs": [],
   "source": [
    "sc.set_figure_params(figsize=(5,5))\n",
    "sc.pl.embedding(adata, basis='X_umap', color='sample', s=3, title='', legend_loc='', return_fig=True)\n",
    "plt.axis('off')\n",
    "figname = f'latent_colored_by_condition_celltype.png'\n",
    "savepath = os.path.join(basepath, figname)\n",
    "plt.savefig(savepath, bbox_inches='tight', transparent=True, dpi=dpi)"
   ]
  },
  {
   "cell_type": "code",
   "execution_count": null,
   "metadata": {},
   "outputs": [],
   "source": [
    "sc.set_figure_params(figsize=(5,5))\n",
    "random_idxs = np.random.choice(np.arange(len(adata)), size=len(adata), replace=False)\n",
    "sc.pl.embedding(adata[random_idxs], basis='X_umap', color='sample', s=3, title='', legend_loc='', return_fig=True)\n",
    "plt.axis('off')\n",
    "figname = f'latent_colored_by_condition_celltype.png'\n",
    "savepath = os.path.join(basepath, figname)\n",
    "plt.savefig(savepath, bbox_inches='tight', transparent=True, dpi=dpi)"
   ]
  },
  {
   "cell_type": "code",
   "execution_count": null,
   "metadata": {},
   "outputs": [],
   "source": [
    "sc.set_figure_params(figsize=(10,10))\n",
    "sc.pl.embedding(adata, basis='X_umap', color='general_annos', palette=ctype_cmap, s=10, title='', legend_loc='on data')"
   ]
  },
  {
   "cell_type": "code",
   "execution_count": null,
   "metadata": {},
   "outputs": [],
   "source": [
    "sc.set_figure_params(figsize=(10,10))\n",
    "sc.pl.embedding(adata, basis='X_umap', color='sample', s=10, title='')"
   ]
  },
  {
   "cell_type": "markdown",
   "metadata": {},
   "source": [
    "## Tissue and latent colored by region"
   ]
  },
  {
   "cell_type": "code",
   "execution_count": null,
   "metadata": {},
   "outputs": [],
   "source": [
    "sc.set_figure_params(figsize=figsize)\n",
    "sc.pl.embedding(adata, basis='spatial', color='region', palette=region_cmap, s=3, title='', legend_loc=None, return_fig=True)\n",
    "plt.axis('off')\n",
    "figname = f'tissue_colored_by_region.png'\n",
    "savepath = os.path.join(basepath, figname)\n",
    "plt.savefig(savepath, bbox_inches='tight', transparent=True, dpi=dpi)"
   ]
  },
  {
   "cell_type": "code",
   "execution_count": null,
   "metadata": {},
   "outputs": [],
   "source": [
    "sc.set_figure_params(figsize=(5,5))\n",
    "sc.pl.embedding(adata, basis='X_umap_spin', color='region', palette=region_cmap, s=3, title='', legend_loc=None, return_fig=True)\n",
    "plt.axis('off')\n",
    "figname = f'latent_colored_by_region.png'\n",
    "savepath = os.path.join(basepath, figname)\n",
    "plt.savefig(savepath, bbox_inches='tight', transparent=True, dpi=dpi)"
   ]
  },
  {
   "cell_type": "code",
   "execution_count": null,
   "metadata": {},
   "outputs": [],
   "source": [
    "sc.set_figure_params(figsize=(5,5))\n",
    "sc.pl.embedding(adata, basis='X_umap_spin', color='sample', s=3, title='', legend_loc=None, return_fig=True)\n",
    "plt.axis('off')\n",
    "figname = f'latent_colored_by_condition.png'\n",
    "savepath = os.path.join(basepath, figname)\n",
    "plt.savefig(savepath, bbox_inches='tight', transparent=True, dpi=dpi)"
   ]
  },
  {
   "cell_type": "code",
   "execution_count": null,
   "metadata": {},
   "outputs": [],
   "source": [
    "sc.set_figure_params(figsize=(5,5))\n",
    "random_idxs = np.random.choice(np.arange(len(adata)), size=len(adata), replace=False)\n",
    "sc.pl.embedding(adata[random_idxs], basis='X_umap_spin', color='sample', s=3, title='', legend_loc=None, return_fig=True)\n",
    "plt.axis('off')\n",
    "figname = f'latent_colored_by_condition.png'\n",
    "savepath = os.path.join(basepath, figname)\n",
    "plt.savefig(savepath, bbox_inches='tight', transparent=True, dpi=dpi)"
   ]
  },
  {
   "cell_type": "markdown",
   "metadata": {},
   "source": [
    "# Zooms"
   ]
  },
  {
   "attachments": {},
   "cell_type": "markdown",
   "metadata": {},
   "source": [
    "## Get zoom regions"
   ]
  },
  {
   "cell_type": "code",
   "execution_count": null,
   "metadata": {},
   "outputs": [],
   "source": [
    "def get_zoom(adata, x, y, width, height, theta):\n",
    "    x1, x2 = x, x+width\n",
    "    y1, y2 = y, y+height\n",
    "    R = np.array([\n",
    "        [np.cos(theta), -np.sin(theta)],\n",
    "        [np.sin(theta), np.cos(theta)]\n",
    "    ])\n",
    "    rdata = adata.copy()\n",
    "    rdata.obsm['spatial'] = rdata.obsm['spatial'] @ R.T\n",
    "    zoomdata = rdata[rdata.obsm['spatial'][:,0]>x1]\n",
    "    zoomdata = zoomdata[zoomdata.obsm['spatial'][:,0]<x2]\n",
    "    zoomdata = zoomdata[zoomdata.obsm['spatial'][:,1]>y1]\n",
    "    zoomdata = zoomdata[zoomdata.obsm['spatial'][:,1]<y2]\n",
    "    return zoomdata"
   ]
  },
  {
   "cell_type": "code",
   "execution_count": null,
   "metadata": {},
   "outputs": [],
   "source": [
    "wti_adata = adata[adata.obs['sample']=='wt']\n",
    "\n",
    "theta = -0.2\n",
    "R = np.array([\n",
    "    [np.cos(theta), -np.sin(theta)],\n",
    "    [np.sin(theta), np.cos(theta)]\n",
    "])\n",
    "rdata = wti_adata.copy()\n",
    "rdata.obsm['spatial'] = rdata.obsm['spatial'] @ R.T\n",
    "wti_box = (6800, 10200, 3000, 1000)\n",
    "c = [region_cmap[region] for region in rdata.obs['region']]\n",
    "plt.figure(figsize=(5,5))\n",
    "plt.scatter(*rdata.obsm['spatial'].T, s=1, c=c)\n",
    "rect = Rectangle(wti_box[:2], wti_box[2], wti_box[3], fill=False, edgecolor='k')\n",
    "plt.gca().add_patch(rect)\n",
    "plt.axis('off')\n",
    "plt.show()"
   ]
  },
  {
   "cell_type": "code",
   "execution_count": null,
   "metadata": {},
   "outputs": [],
   "source": [
    "gfi_adata = adata[adata.obs['sample']=='gf']\n",
    "\n",
    "theta = 0.35\n",
    "R = np.array([\n",
    "    [np.cos(theta), -np.sin(theta)],\n",
    "    [np.sin(theta), np.cos(theta)]\n",
    "])\n",
    "rdata = gfi_adata.copy()\n",
    "rdata.obsm['spatial'] = rdata.obsm['spatial'] @ R.T\n",
    "# gfi_box = (27400, 28500, 3000, 1000)\n",
    "gfi_box = (27400, 27600, 3000, 1000)\n",
    "c = [region_cmap[region] for region in rdata.obs['region']]\n",
    "plt.figure(figsize=(8,10))\n",
    "plt.scatter(*rdata.obsm['spatial'].T, s=1, c=c)\n",
    "rect = Rectangle(gfi_box[:2], gfi_box[2], gfi_box[3], fill=False, edgecolor='k')\n",
    "plt.gca().add_patch(rect)\n",
    "plt.axis('off')\n",
    "plt.show()"
   ]
  },
  {
   "cell_type": "code",
   "execution_count": null,
   "metadata": {},
   "outputs": [],
   "source": [
    "wti_zoom = get_zoom(wti_adata, *wti_box, -0.2)\n",
    "wti_zoom.obsm['spatial'] = wti_zoom.obsm['spatial'][:,::-1]\n",
    "gfi_zoom = get_zoom(gfi_adata, *gfi_box, 0.35)\n",
    "gfi_zoom.obsm['spatial'][:,[0,1]] = gfi_zoom.obsm['spatial'][:,[1,0]]\n",
    "zoomdatas = [wti_zoom, gfi_zoom]\n",
    "conditions = ['WT', 'GF']"
   ]
  },
  {
   "cell_type": "code",
   "execution_count": null,
   "metadata": {},
   "outputs": [],
   "source": [
    "s = 200"
   ]
  },
  {
   "cell_type": "markdown",
   "metadata": {},
   "source": [
    "## Tissue zooms colored by region"
   ]
  },
  {
   "cell_type": "code",
   "execution_count": null,
   "metadata": {},
   "outputs": [],
   "source": [
    "# Color by region\n",
    "sc.set_figure_params(figsize=(2,6))\n",
    "for i in range(len(conditions)):\n",
    "    figname = f'zoom_tissue_{conditions[i]}_colored_by_region'\n",
    "    # savepath = os.path.join(basepath, figname)\n",
    "    # viz.plotHulls(zoomdatas[i], hulls[i], cells[i], color_by='region', cmap=region_cmap, scale=800, scale_bar=True, save_path=savepath)\n",
    "    # plt.show()\n",
    "    # plt.close()\n",
    "    # for region in np.unique(zoomdatas[i].obs['region']):\n",
    "    # for region in ['0']: # only plot the relevant region\n",
    "    # figname = f'zoom_tissue_{conditions[i]}_colored_by_region_{region}'\n",
    "    savepath = os.path.join(basepath, figname)\n",
    "    # viz.plotHulls(zoomdatas[i], hulls[i], cells[i], color_by='region', group=region, cmap=region_cmap, scale=800, save_path=savepath)\n",
    "    # plt.show()\n",
    "    # plt.close()\n",
    "    sc.pl.embedding(zoomdatas[i], basis='spatial', color='region', palette=region_cmap, s=s, title='', legend_loc=None, return_fig=True, edgecolor='k', linewidth=0.05)\n",
    "    plt.axis('off')\n",
    "    plt.savefig(savepath, bbox_inches='tight', transparent=True, dpi=dpi)"
   ]
  },
  {
   "cell_type": "code",
   "execution_count": null,
   "metadata": {},
   "outputs": [],
   "source": [
    "# Color by region\n",
    "sc.set_figure_params(figsize=(2,6))\n",
    "for i in range(len(conditions)):\n",
    "    figname = f'zoom_tissue_{conditions[i]}_colored_by_celltype'\n",
    "    # savepath = os.path.join(basepath, figname)\n",
    "    # viz.plotHulls(zoomdatas[i], hulls[i], cells[i], color_by='region', cmap=region_cmap, scale=800, scale_bar=True, save_path=savepath)\n",
    "    # plt.show()\n",
    "    # plt.close()\n",
    "    # for region in np.unique(zoomdatas[i].obs['region']):\n",
    "    # for region in ['0']: # only plot the relevant region\n",
    "    # figname = f'zoom_tissue_{conditions[i]}_colored_by_region_{region}'\n",
    "    savepath = os.path.join(basepath, figname)\n",
    "    # viz.plotHulls(zoomdatas[i], hulls[i], cells[i], color_by='region', group=region, cmap=region_cmap, scale=800, save_path=savepath)\n",
    "    # plt.show()\n",
    "    # plt.close()\n",
    "    sc.pl.embedding(zoomdatas[i], basis='spatial', color='general_annos', palette=ctype_cmap, s=s, title='', legend_loc=None, return_fig=True, edgecolor='k', linewidth=0.05)\n",
    "    plt.axis('off')\n",
    "    plt.savefig(savepath, bbox_inches='tight', transparent=True, dpi=dpi)"
   ]
  },
  {
   "attachments": {},
   "cell_type": "markdown",
   "metadata": {},
   "source": [
    "# Shared and condition-specific region markers"
   ]
  },
  {
   "cell_type": "code",
   "execution_count": null,
   "metadata": {},
   "outputs": [],
   "source": [
    "# Shared\n",
    "region = '1'\n",
    "sc.tl.rank_genes_groups(adata, groupby='region')#, layer='smooth')\n",
    "marker_df = sc.get.rank_genes_groups_df(adata, group=region)\n",
    "shared_marker = marker_df['names'][0]"
   ]
  },
  {
   "cell_type": "code",
   "execution_count": null,
   "metadata": {},
   "outputs": [],
   "source": [
    "plt.figure(figsize=(5,2))\n",
    "plt.hist(marker_df['scores'], bins=30, color=region_cmap[region], linewidth=1, edgecolor='k')\n",
    "plt.grid(None)\n",
    "plt.axis('off')\n",
    "figname = f'region_deg_score_hist.png'\n",
    "savepath = os.path.join(basepath, figname)\n",
    "plt.savefig(savepath, bbox_inches='tight', transparent=True, dpi=dpi)\n",
    "plt.show()"
   ]
  },
  {
   "cell_type": "code",
   "execution_count": null,
   "metadata": {},
   "outputs": [],
   "source": [
    "plt.figure(figsize=(5,2))\n",
    "plt.hist(marker_df['scores'], bins=30, color=region_cmap[region], linewidth=1, edgecolor='k')\n",
    "plt.grid(None)\n",
    "# plt.axis('off')\n",
    "# figname = f'region_deg_score_hist.png'\n",
    "# savepath = os.path.join(basepath, figname)\n",
    "# plt.savefig(savepath, bbox_inches='tight', transparent=True, dpi=dpi)\n",
    "plt.show()"
   ]
  },
  {
   "cell_type": "code",
   "execution_count": null,
   "metadata": {},
   "outputs": [],
   "source": [
    "marker_df['scores']"
   ]
  },
  {
   "cell_type": "code",
   "execution_count": null,
   "metadata": {},
   "outputs": [],
   "source": [
    "marker_df['names']"
   ]
  },
  {
   "cell_type": "code",
   "execution_count": null,
   "metadata": {},
   "outputs": [],
   "source": [
    "# Unique\n",
    "xdata = adata[adata.obs['region']==region]\n",
    "sc.tl.rank_genes_groups(xdata, groupby='sample')#, layer='smooth')\n",
    "marker_df = sc.get.rank_genes_groups_df(xdata, group='wt')\n",
    "wt_markers = marker_df['names']\n",
    "wt_marker = wt_markers[0]"
   ]
  },
  {
   "cell_type": "code",
   "execution_count": null,
   "metadata": {},
   "outputs": [],
   "source": [
    "plt.figure(figsize=(5,2))\n",
    "plt.hist(marker_df['scores'], bins=30, color=region_cmap[region], linewidth=1, edgecolor='k')\n",
    "plt.grid(None)\n",
    "plt.axis('off')\n",
    "figname = f'condition_vil_deg_score_hist.png'\n",
    "savepath = os.path.join(basepath, figname)\n",
    "plt.savefig(savepath, bbox_inches='tight', transparent=True, dpi=dpi)\n",
    "plt.show()"
   ]
  },
  {
   "cell_type": "code",
   "execution_count": null,
   "metadata": {},
   "outputs": [],
   "source": [
    "plt.figure(figsize=(5,2))\n",
    "plt.hist(marker_df['scores'], bins=30, color=region_cmap[region], linewidth=1, edgecolor='k')\n",
    "plt.grid(None)\n",
    "# plt.axis('off')\n",
    "# figname = f'region_deg_score_hist.png'\n",
    "# savepath = os.path.join(basepath, figname)\n",
    "# plt.savefig(savepath, bbox_inches='tight', transparent=True, dpi=dpi)\n",
    "plt.show()"
   ]
  },
  {
   "cell_type": "code",
   "execution_count": null,
   "metadata": {},
   "outputs": [],
   "source": [
    "marker_df['scores']"
   ]
  },
  {
   "cell_type": "code",
   "execution_count": null,
   "metadata": {},
   "outputs": [],
   "source": [
    "marker_df['names']"
   ]
  },
  {
   "cell_type": "code",
   "execution_count": null,
   "metadata": {},
   "outputs": [],
   "source": [
    "X = sc.concat((zoomdatas[0], zoomdatas[1]))[:,[shared_marker,wt_marker]].X\n",
    "vmax = X.max()\n",
    "vmin = X.min()\n",
    "cmaps = ['Blues', 'Oranges']"
   ]
  },
  {
   "cell_type": "code",
   "execution_count": null,
   "metadata": {},
   "outputs": [],
   "source": [
    "print(shared_marker)\n",
    "sc.set_figure_params(figsize=(2,6))\n",
    "vmin, vmax = getMinMax(adata, shared_marker)\n",
    "\n",
    "# Plot region 1 shared marker for WT and GF\n",
    "for i in range(len(conditions)):\n",
    "    figname = f'zoom_tissue_{conditions[i]}_colored_by_{shared_marker}.png'\n",
    "    savepath = os.path.join(basepath, figname)\n",
    "    sc.pl.embedding(zoomdatas[i], basis='spatial', color=shared_marker, cmap=cmaps[i], s=220,\n",
    "    title='', colorbar_loc=None, return_fig=True, edgecolor='k', linewidth=0.02)\n",
    "    plt.axis('off')\n",
    "    plt.savefig(savepath, bbox_inches='tight', transparent=True, dpi=dpi)"
   ]
  },
  {
   "cell_type": "code",
   "execution_count": null,
   "metadata": {},
   "outputs": [],
   "source": [
    "print(wt_marker)\n",
    "sc.set_figure_params(figsize=(2,6))\n",
    "vmin, vmax = getMinMax(adata, wt_marker)\n",
    "\n",
    "# Plot region 1 shared marker for WT and GF\n",
    "for i in range(len(conditions)):\n",
    "    figname = f'zoom_tissue_{conditions[i]}_colored_by_{wt_marker}.png'\n",
    "    savepath = os.path.join(basepath, figname)\n",
    "    sc.pl.embedding(zoomdatas[i], basis='spatial', color=wt_marker, cmap=cmaps[i], s=220,\n",
    "    title='', colorbar_loc=None, return_fig=True, edgecolor='k', linewidth=0.05)\n",
    "    plt.axis('off')\n",
    "    plt.savefig(savepath, bbox_inches='tight', transparent=True, dpi=dpi)"
   ]
  },
  {
   "attachments": {},
   "cell_type": "markdown",
   "metadata": {},
   "source": [
    "# Tissue zooms and latent colored by DiffMap"
   ]
  },
  {
   "cell_type": "code",
   "execution_count": null,
   "metadata": {},
   "outputs": [],
   "source": [
    "# omit_regions = ['8', '2', '3', '4'] # villi only for demo\n",
    "# omit_regions = ['8']\n",
    "# keep_regions = [region for region in adata.obs['region'].unique() if region not in omit_regions]\n",
    "# adata_all = adata.copy()\n",
    "# adata = adata[np.isin(adata.obs['region'], keep_regions)]"
   ]
  },
  {
   "cell_type": "code",
   "execution_count": null,
   "metadata": {},
   "outputs": [],
   "source": [
    "# redo DiffMap without adipose\n",
    "sc.tl.diffmap(adata, neighbors_key='region')\n",
    "adata.obs['depth'] = adata.obsm['X_diffmap'][:,1]"
   ]
  },
  {
   "cell_type": "code",
   "execution_count": null,
   "metadata": {},
   "outputs": [],
   "source": [
    "sc.set_figure_params(figsize=(5,5))\n",
    "sc.pl.embedding(adata, basis='X_umap_spin', color='depth', s=3, title='', colorbar_loc=None, return_fig=True)\n",
    "plt.axis('off')\n",
    "figname = f'latent_colored_by_depth.png'\n",
    "savepath = os.path.join(basepath, figname)\n",
    "plt.savefig(savepath, bbox_inches='tight', transparent=True, dpi=dpi)"
   ]
  },
  {
   "cell_type": "code",
   "execution_count": null,
   "metadata": {},
   "outputs": [],
   "source": [
    "# vmax = adata.obs['depth'].max()\n",
    "# vmin = adata.obs['depth'].min()\n",
    "\n",
    "# sc.set_figure_params(figsize=(6,6))\n",
    "# plt.scatter(*adata_all.obsm['X_umap_spin'].T, color=[0.7]*3, s=0.2)\n",
    "# plt.scatter(*adata.obsm['X_umap_spin'].T, c=adata.obs['depth'], cmap='viridis_r', vmin=vmin, vmax=vmax, s=0.2)\n",
    "# plt.axis('off')\n",
    "# figname = f'latent_colored_by_depth.png'\n",
    "# savepath = os.path.join(basepath, figname)\n",
    "# plt.savefig(savepath, bbox_inches='tight', transparent=True, dpi=dpi)\n",
    "# plt.show()"
   ]
  },
  {
   "cell_type": "code",
   "execution_count": null,
   "metadata": {},
   "outputs": [],
   "source": [
    "wti_adata = adata[adata.obs['sample']=='wt']\n",
    "gfi_adata = adata[adata.obs['sample']=='gf']\n",
    "wti_zoom = get_zoom(wti_adata, *wti_box, -0.2)\n",
    "wti_zoom.obsm['spatial'] = wti_zoom.obsm['spatial'][:,::-1]\n",
    "gfi_zoom = get_zoom(gfi_adata, *gfi_box, 0.35)\n",
    "gfi_zoom.obsm['spatial'][:,[0,1]] = gfi_zoom.obsm['spatial'][:,[1,0]]\n",
    "zoomdatas = [wti_zoom, gfi_zoom]\n",
    "conditions = ['wt', 'gf']"
   ]
  },
  {
   "cell_type": "code",
   "execution_count": null,
   "metadata": {},
   "outputs": [],
   "source": [
    "vmax = adata.obs['depth'].max()\n",
    "vmin = adata.obs['depth'].min()\n",
    "\n",
    "# Plot region 1 shared marker for WT and GF\n",
    "for i in range(len(conditions)):\n",
    "    figname = f'zoom_tissue_{conditions[i]}_colored_by_depth.png'\n",
    "    savepath = os.path.join(basepath, figname)\n",
    "    sc.set_figure_params(figsize=(2,6))\n",
    "    sc.pl.embedding(zoomdatas[i], basis='spatial', color='depth', cmap='viridis', s=s, title='', colorbar_loc=None, return_fig=True)\n",
    "    plt.axis('off')\n",
    "    plt.savefig(savepath, bbox_inches='tight', transparent=True, dpi=dpi)"
   ]
  },
  {
   "cell_type": "code",
   "execution_count": null,
   "metadata": {},
   "outputs": [],
   "source": [
    "# colorbar only\n",
    "fig = plt.figure()\n",
    "cax = plt.imshow(np.array([[0,1]]), cmap='viridis')\n",
    "plt.gca().set_visible(False)\n",
    "cbar = fig.colorbar(cax, ticks=[0, 1])\n",
    "cbar.ax.set_yticklabels(['', ''])\n",
    "figname = 'cbar_color_by_expr.png'\n",
    "savepath = os.path.join(basepath, figname)\n",
    "plt.savefig(savepath)\n",
    "plt.show()"
   ]
  },
  {
   "cell_type": "code",
   "execution_count": null,
   "metadata": {},
   "outputs": [],
   "source": [
    "# colorbar only\n",
    "fig = plt.figure()\n",
    "cax = plt.imshow(np.array([[0,1]]), cmap='Blues')\n",
    "plt.gca().set_visible(False)\n",
    "cbar = fig.colorbar(cax, ticks=[0, 1])\n",
    "cbar.ax.set_yticklabels(['', ''])\n",
    "figname = 'cbar_Blues.png'\n",
    "savepath = os.path.join(basepath, figname)\n",
    "plt.savefig(savepath)\n",
    "plt.show()"
   ]
  },
  {
   "cell_type": "code",
   "execution_count": null,
   "metadata": {},
   "outputs": [],
   "source": [
    "# colorbar only\n",
    "fig = plt.figure()\n",
    "cax = plt.imshow(np.array([[0,1]]), cmap='Oranges')\n",
    "plt.gca().set_visible(False)\n",
    "cbar = fig.colorbar(cax, ticks=[0, 1])\n",
    "cbar.ax.set_yticklabels(['', ''])\n",
    "figname = 'cbar_Oranges.png'\n",
    "savepath = os.path.join(basepath, figname)\n",
    "plt.savefig(savepath)\n",
    "plt.show()"
   ]
  },
  {
   "attachments": {},
   "cell_type": "markdown",
   "metadata": {},
   "source": [
    "# Continuous depth vs gene"
   ]
  },
  {
   "cell_type": "code",
   "execution_count": null,
   "metadata": {},
   "outputs": [],
   "source": [
    "adata.obs['depth'] *= -1"
   ]
  },
  {
   "cell_type": "code",
   "execution_count": null,
   "metadata": {},
   "outputs": [],
   "source": [
    "# Make bins\n",
    "num_bins = 50\n",
    "max_depth = adata.obs['depth'].max()\n",
    "min_depth = adata.obs['depth'].min()\n",
    "increments = (max_depth-min_depth)/num_bins\n",
    "bins = np.arange(min_depth, max_depth, increments)\n",
    "adata.obs['depth_bin'] = np.digitize(adata.obs['depth'], bins=bins) - 1 # account for idxs\n",
    "\n",
    "# Make expression nonnegative\n",
    "adata.X -= adata.X.min()\n",
    "# adata.layers['smooth'] -= adata.layers['smooth'].min()\n",
    "\n",
    "# Separate species\n",
    "adata_wt = adata[adata.obs['sample']=='wt']\n",
    "adata_gf = adata[adata.obs['sample']=='gf']\n",
    "adatas = [adata_wt, adata_gf]"
   ]
  },
  {
   "cell_type": "code",
   "execution_count": null,
   "metadata": {},
   "outputs": [],
   "source": [
    "def get_hists(adatas, gene, start_bin=None, end_bin=None):\n",
    "\n",
    "    hists = []\n",
    "    for subdata in adatas:\n",
    "\n",
    "        # Initialize a few vars\n",
    "        hist = np.zeros(num_bins)\n",
    "        depth = subdata.obs['depth_bin'].values\n",
    "        expr = subdata[:,gene].X.flatten()\n",
    "        # expr = subdata[:,gene].layers['smooth'].flatten()\n",
    "\n",
    "        # Wanted to just use np.histogram here to get counts, but it has known binning diffs from np.digitize\n",
    "        bin_counts = np.zeros(num_bins)\n",
    "        nonzero_counts = subdata.obs['depth_bin'].value_counts().sort_index()\n",
    "        for i in nonzero_counts.index:\n",
    "            bin_counts[i] = nonzero_counts.loc[i]\n",
    "\n",
    "        # Add each cell's expression into corresponding cell depth bin\n",
    "        for i in range(len(subdata)):\n",
    "            hist[depth[i]] += expr[i] / bin_counts[depth[i]]\n",
    "        \n",
    "        # Omit highest and lowest depths due to noise\n",
    "        if not start_bin and end_bin:\n",
    "            start_bin = num_bins // 10 # omit bottom 10% of depth\n",
    "            end_bin = num_bins // 10 * 9 # omit top 10% of depth\n",
    "        hist = hist[start_bin:end_bin]\n",
    "\n",
    "        # Normalize wrt given dataset\n",
    "        hist /= hist.sum()\n",
    "        hists.append(hist)\n",
    "    \n",
    "    return hists"
   ]
  },
  {
   "cell_type": "code",
   "execution_count": null,
   "metadata": {},
   "outputs": [],
   "source": [
    "start_bin = 15\n",
    "end_bin = 45"
   ]
  },
  {
   "cell_type": "code",
   "execution_count": null,
   "metadata": {},
   "outputs": [],
   "source": [
    "for gene in ['Reg3g', 'Slc10a2', 'Vil1', 'Ano1']:\n",
    "    print(gene)\n",
    "    hists = get_hists(adatas, gene, start_bin=start_bin, end_bin=end_bin)\n",
    "    plt.figure(figsize=(10,3))\n",
    "    for i in range(len(hists)):\n",
    "        plt.plot(hists[i], label=conditions[i], linewidth=5)\n",
    "    plt.axis('off')\n",
    "    figname = f'depth_curve_{gene}.png'\n",
    "    savepath = os.path.join(basepath, figname)\n",
    "    plt.savefig(savepath, bbox_inches='tight', transparent=True, dpi=dpi)\n",
    "    plt.show()"
   ]
  },
  {
   "cell_type": "code",
   "execution_count": null,
   "metadata": {},
   "outputs": [],
   "source": [
    "from tqdm import tqdm\n",
    "n_genes = len(adata.var_names)\n",
    "wt_hists = np.zeros((n_genes, end_bin-start_bin))\n",
    "gf_hists = np.zeros((n_genes, end_bin-start_bin))\n",
    "for i in tqdm(range(n_genes)):\n",
    "    hists = get_hists(adatas, adata.var_names[i], start_bin=start_bin, end_bin=end_bin)\n",
    "    wt_hists[i] = hists[0]\n",
    "    gf_hists[i] = hists[1]"
   ]
  },
  {
   "cell_type": "code",
   "execution_count": null,
   "metadata": {},
   "outputs": [],
   "source": [
    "for gene in ['Reg3g', 'Slc10a2', 'Vil1', 'Ano1']:\n",
    "    print(gene)\n",
    "    plt.figure(figsize=(10,3))\n",
    "    plt.plot(adata[:,gene].varm['wt_depth'].flatten(), linewidth=5)\n",
    "    plt.plot(adata[:,gene].varm['gf_depth'].flatten(), linewidth=5)\n",
    "    plt.axis('off')"
   ]
  },
  {
   "cell_type": "code",
   "execution_count": null,
   "metadata": {},
   "outputs": [],
   "source": [
    "adata.varm['wt_depth'] = wt_hists\n",
    "adata.varm['gf_depth'] = gf_hists"
   ]
  },
  {
   "cell_type": "code",
   "execution_count": null,
   "metadata": {},
   "outputs": [],
   "source": [
    "# adata.write('/stanley/WangLab/kamal/code/remote_notebooks/gut_xcondition/adata_depth_processed.h5ad')\n",
    "adata = sc.read_h5ad('/stanley/WangLab/kamal/code/remote_notebooks/gut_xcondition/adata_depth_processed.h5ad')"
   ]
  },
  {
   "cell_type": "code",
   "execution_count": null,
   "metadata": {},
   "outputs": [],
   "source": [
    "# from tqdm import tqdm\n",
    "# hist_dict = dict()\n",
    "# for gene in tqdm(adata.var_names):\n",
    "#     hist_dict[gene] = get_hists(adatas, gene, start_bin=start_bin, end_bin=end_bin)"
   ]
  },
  {
   "cell_type": "code",
   "execution_count": null,
   "metadata": {},
   "outputs": [],
   "source": [
    "adata.var['cond_expr_diffs'] = np.absolute(adata.varm['wt_depth'] - adata.varm['gf_depth']).sum(axis=1)"
   ]
  },
  {
   "cell_type": "code",
   "execution_count": null,
   "metadata": {},
   "outputs": [],
   "source": [
    "num_top_genes = 5\n",
    "most_similar_genes = adata.var['cond_expr_diffs'].sort_values()[:num_top_genes].index\n",
    "most_different_genes = adata.var['cond_expr_diffs'].sort_values()[-num_top_genes:][::-1].index"
   ]
  },
  {
   "cell_type": "code",
   "execution_count": null,
   "metadata": {},
   "outputs": [],
   "source": [
    "for gene in most_similar_genes[:5]:\n",
    "    print(gene)\n",
    "    plt.figure(figsize=(10,3))\n",
    "    plt.plot(adata[:,gene].varm['wt_depth'].flatten(), linewidth=5)\n",
    "    plt.plot(adata[:,gene].varm['gf_depth'].flatten(), linewidth=5)\n",
    "    plt.axis('off')\n",
    "    figname = f'depth_curve_{gene}.png'\n",
    "    savepath = os.path.join(basepath, figname)\n",
    "    plt.savefig(savepath, bbox_inches='tight', transparent=True, dpi=dpi)\n",
    "    plt.show()"
   ]
  },
  {
   "cell_type": "code",
   "execution_count": null,
   "metadata": {},
   "outputs": [],
   "source": [
    "for gene in most_different_genes[:5]:\n",
    "    print(gene)\n",
    "    plt.figure(figsize=(10,3))\n",
    "    plt.plot(adata[:,gene].varm['wt_depth'].flatten(), linewidth=5)\n",
    "    plt.plot(adata[:,gene].varm['gf_depth'].flatten(), linewidth=5)\n",
    "    plt.axis('off')\n",
    "    figname = f'depth_curve_{gene}.png'\n",
    "    savepath = os.path.join(basepath, figname)\n",
    "    plt.savefig(savepath, bbox_inches='tight', transparent=True, dpi=dpi)\n",
    "    plt.show()"
   ]
  },
  {
   "cell_type": "code",
   "execution_count": null,
   "metadata": {},
   "outputs": [],
   "source": [
    "plt.figure(figsize=(6,2))\n",
    "plt.hist(adata.var['cond_expr_diffs'], bins=30, color='k')\n",
    "plt.xlabel('Condition Difference')\n",
    "plt.ylabel('Count')\n",
    "plt.axis('off')\n",
    "figname = f'gene_depth_diffs_hist.png'\n",
    "savepath = os.path.join(basepath, figname)\n",
    "plt.savefig(savepath, bbox_inches='tight', transparent=True, dpi=dpi)\n",
    "plt.show()"
   ]
  },
  {
   "cell_type": "code",
   "execution_count": null,
   "metadata": {},
   "outputs": [],
   "source": [
    "plt.figure(figsize=(6,2))\n",
    "plt.hist(adata.var['cond_expr_diffs'], bins=30, color='k')\n",
    "plt.xlabel('Condition Difference')\n",
    "plt.ylabel('Count')\n",
    "plt.show()"
   ]
  },
  {
   "cell_type": "code",
   "execution_count": null,
   "metadata": {},
   "outputs": [],
   "source": [
    "for gene in ['Reg3b', 'Slc10a2', 'Vil1']:\n",
    "    print(adata[:,gene].var['cond_expr_diffs'])"
   ]
  },
  {
   "cell_type": "code",
   "execution_count": null,
   "metadata": {},
   "outputs": [],
   "source": [
    "# adata.var['cond_expr_diffs'].loc['Vil1']"
   ]
  },
  {
   "cell_type": "code",
   "execution_count": null,
   "metadata": {},
   "outputs": [],
   "source": [
    "# # Find genes that are closer to the surface in WT than GF\n",
    "# from scipy.stats import wilcoxon\n",
    "\n",
    "# ps = np.zeros(n_genes)\n",
    "\n",
    "# for i in tqdm(range(n_genes)):\n",
    "\n",
    "#     wt = adata.varm['wt_depth'][i]\n",
    "#     gf = adata.varm['gf_depth'][i]\n",
    "#     # ps[i] = wilcoxon(wt, gf, alternative='greater')[1]\n",
    "#     ps[i] = wilcoxon(wt, gf, alternative='two-sided')[1]\n",
    "\n",
    "# adata.var['depth_diff'] = ps"
   ]
  },
  {
   "cell_type": "code",
   "execution_count": null,
   "metadata": {},
   "outputs": [],
   "source": [
    "# adata.var['depth_diff'].sort_values(ascending=True)"
   ]
  },
  {
   "cell_type": "code",
   "execution_count": null,
   "metadata": {},
   "outputs": [],
   "source": [
    "cmaps = ['Blues', 'Oranges']"
   ]
  },
  {
   "cell_type": "code",
   "execution_count": null,
   "metadata": {},
   "outputs": [],
   "source": [
    "gene = 'Slc8a1'\n",
    "sc.set_figure_params(figsize=(2,6))\n",
    "vmin, vmax = getMinMax(adata, gene)\n",
    "\n",
    "# Plot region 1 shared marker for WT and GF\n",
    "for i in range(len(conditions)):\n",
    "    figname = f'zoom_tissue_{conditions[i]}_colored_by_{gene}.png'\n",
    "    savepath = os.path.join(basepath, figname)\n",
    "    sc.pl.embedding(zoomdatas[i], basis='spatial', color=gene, cmap=cmaps[i], s=220,\n",
    "    title='', colorbar_loc=None, return_fig=True, edgecolor='k', linewidth=0.02)\n",
    "    plt.axis('off')\n",
    "    plt.savefig(savepath, bbox_inches='tight', transparent=True, dpi=dpi)"
   ]
  },
  {
   "cell_type": "code",
   "execution_count": null,
   "metadata": {},
   "outputs": [],
   "source": [
    "gene = 'Ano1'\n",
    "sc.set_figure_params(figsize=(2,6))\n",
    "vmin, vmax = getMinMax(adata, gene)\n",
    "\n",
    "# Plot region 1 shared marker for WT and GF\n",
    "for i in range(len(conditions)):\n",
    "    figname = f'zoom_tissue_{conditions[i]}_colored_by_{gene}.png'\n",
    "    savepath = os.path.join(basepath, figname)\n",
    "    sc.pl.embedding(zoomdatas[i], basis='spatial', color=gene, cmap=cmaps[i], s=220,\n",
    "    title='', colorbar_loc=None, return_fig=True, edgecolor='k', linewidth=0.02)\n",
    "    plt.axis('off')\n",
    "    plt.savefig(savepath, bbox_inches='tight', transparent=True, dpi=dpi)"
   ]
  },
  {
   "cell_type": "code",
   "execution_count": null,
   "metadata": {},
   "outputs": [],
   "source": [
    "gene = 'Slc10a2'\n",
    "sc.set_figure_params(figsize=(2,6))\n",
    "vmin, vmax = getMinMax(adata, gene)\n",
    "\n",
    "# Plot region 1 shared marker for WT and GF\n",
    "for i in range(len(conditions)):\n",
    "    figname = f'zoom_tissue_{conditions[i]}_colored_by_{gene}.png'\n",
    "    savepath = os.path.join(basepath, figname)\n",
    "    sc.pl.embedding(zoomdatas[i], basis='spatial', color=gene, cmap=cmaps[i], s=220,\n",
    "    title='', colorbar_loc=None, return_fig=True, edgecolor='k', linewidth=0.02)\n",
    "    plt.axis('off')\n",
    "    plt.savefig(savepath, bbox_inches='tight', transparent=True, dpi=dpi)"
   ]
  },
  {
   "cell_type": "code",
   "execution_count": null,
   "metadata": {},
   "outputs": [],
   "source": [
    "adata.write('/stanley/WangLab/kamal/code/remote_notebooks/gut_xcondition/adata_depth_processed.h5ad')"
   ]
  },
  {
   "attachments": {},
   "cell_type": "markdown",
   "metadata": {},
   "source": [
    "# Cell type vs depth"
   ]
  },
  {
   "cell_type": "code",
   "execution_count": null,
   "metadata": {},
   "outputs": [],
   "source": [
    "# adata = sc.read_h5ad('/stanley/WangLab/kamal/data/mouse/gut/ileum_filtered_genes_spin_50_16_depth.h5ad')\n",
    "adata = sc.read_h5ad('/stanley/WangLab/kamal/code/remote_notebooks/gut_xcondition/adata_depth_processed.h5ad')"
   ]
  },
  {
   "cell_type": "code",
   "execution_count": null,
   "metadata": {},
   "outputs": [],
   "source": [
    "wti_adata = adata[adata.obs['sample']=='wt']\n",
    "gfi_adata = adata[adata.obs['sample']=='gf']"
   ]
  },
  {
   "cell_type": "code",
   "execution_count": null,
   "metadata": {},
   "outputs": [],
   "source": [
    "# Set up variables\n",
    "ctype_key = 'general_annos'\n",
    "ctypes = adata.obs[ctype_key].unique()\n",
    "ns = dict()\n",
    "alphas = dict()\n",
    "significances = dict()\n",
    "\n",
    "# Set up p-values\n",
    "reject_p = 0.01\n",
    "corrected_reject_p = reject_p / len(ctypes) # Bonferroni correction\n",
    "\n",
    "# Get statistics\n",
    "for ctype in ctypes:\n",
    "    wt = wti_adata[wti_adata.obs[ctype_key]==ctype].obs['depth']\n",
    "    gf = gfi_adata[gfi_adata.obs[ctype_key]==ctype].obs['depth']\n",
    "    alpha = mannwhitneyu(wt, gf).pvalue\n",
    "    ns[ctype] = (len(wt), len(gf))\n",
    "    alphas[ctype] = alpha\n",
    "    significances[ctype] = alpha < corrected_reject_p"
   ]
  },
  {
   "cell_type": "code",
   "execution_count": null,
   "metadata": {},
   "outputs": [],
   "source": [
    "conditions_cmap = plt.cm.get_cmap('tab10').colors[:2][::-1]"
   ]
  },
  {
   "cell_type": "code",
   "execution_count": null,
   "metadata": {},
   "outputs": [],
   "source": [
    "print(list(adata.obs['general_annos'].unique()))"
   ]
  },
  {
   "cell_type": "code",
   "execution_count": null,
   "metadata": {},
   "outputs": [],
   "source": [
    "order = list(adata.obs['general_annos'].unique())\n",
    "order.remove('Immune')\n",
    "order.append('Immune')"
   ]
  },
  {
   "cell_type": "code",
   "execution_count": null,
   "metadata": {},
   "outputs": [],
   "source": [
    "order"
   ]
  },
  {
   "cell_type": "code",
   "execution_count": null,
   "metadata": {},
   "outputs": [],
   "source": [
    "# Make main plot\n",
    "plt.figure(figsize=(12,1.7))\n",
    "sns.boxplot(\n",
    "    data=adata.obs,\n",
    "    x=ctype_key,\n",
    "    y='depth',\n",
    "    hue='sample',\n",
    "    palette=conditions_cmap[::-1],\n",
    "    order=order\n",
    ")\n",
    "plt.gca().grid(False)\n",
    "# plt.legend(bbox_to_anchor=(1,1))\n",
    "plt.gca().get_legend().remove()\n",
    "\n",
    "# Add significance indicators\n",
    "max_depth = adata.obs['depth'].max()\n",
    "buffer = 0.001\n",
    "sns.despine()\n",
    "ticks, labels = plt.xticks()\n",
    "for i in range(len(ticks)):\n",
    "    label = labels[i].get_text().split(',')[0]\n",
    "    significant = significances[label]\n",
    "    if significant:\n",
    "        tick = ticks[i]\n",
    "        plt.text(tick, max_depth+buffer, '*', ha='center')\n",
    "        plt.plot([tick-0.3, tick+0.3], [max_depth+buffer, max_depth+buffer], color='k')\n",
    "\n",
    "# Modify xticks\n",
    "new_labels = []\n",
    "for i in range(len(ticks)):\n",
    "    label = labels[i].get_text().split(',')[0]\n",
    "    # new_labels.append(f'{label}, n={ns[label]}')\n",
    "    new_labels.append('')\n",
    "plt.xticks(ticks, new_labels, rotation=90)\n",
    "\n",
    "# Modify yticks\n",
    "vmax = adata.obs['depth'].max()\n",
    "vmin = adata.obs['depth'].min()\n",
    "plt.yticks([vmax, vmin], ['', ''])\n",
    "plt.gca().set_yticklabels('')\n",
    "plt.xlabel('')\n",
    "plt.ylabel('')\n",
    "\n",
    "# plt.axis('off')\n",
    "# plt.title('Ileum', fontsize=18)\n",
    "figname = 'ctype_depth_boxplot.png'\n",
    "savepath = os.path.join(basepath, figname)\n",
    "plt.savefig(savepath, bbox_inches='tight', transparent=True, dpi=dpi)\n",
    "plt.show()"
   ]
  },
  {
   "cell_type": "code",
   "execution_count": null,
   "metadata": {},
   "outputs": [],
   "source": [
    "ctype = 'Immune'\n",
    "sc.set_figure_params(figsize=(2,6))\n",
    "\n",
    "for i in range(len(conditions)):\n",
    "    figname = f'zoom_tissue_{conditions[i]}_colored_by_{ctype}'\n",
    "    savepath = os.path.join(basepath, figname)\n",
    "    sc.pl.embedding(zoomdatas[i], basis='spatial', color='general_annos', groups=[ctype], palette=[conditions_cmap[::-1][i]], s=s, title='', legend_loc=None, return_fig=True)\n",
    "    plt.axis('off')\n",
    "    plt.savefig(savepath, bbox_inches='tight', transparent=True, dpi=dpi)"
   ]
  },
  {
   "attachments": {},
   "cell_type": "markdown",
   "metadata": {},
   "source": [
    "## Plot hist for physical depth in each slice"
   ]
  },
  {
   "cell_type": "code",
   "execution_count": null,
   "metadata": {},
   "outputs": [],
   "source": [
    "# Isolate a given cell type\n",
    "ctype_key = 'general_annos'\n",
    "# ctype = 'Lymphocyte'\n",
    "# ctype = 'Fibroblast'\n",
    "zoomdata_wt_ctype = wti_zoom[wti_zoom.obs[ctype_key]==ctype]\n",
    "zoomdata_gf_ctype = gfi_zoom[gfi_zoom.obs[ctype_key]==ctype]"
   ]
  },
  {
   "cell_type": "code",
   "execution_count": null,
   "metadata": {},
   "outputs": [],
   "source": [
    "physdepth_wt = zoomdata_wt_ctype.obsm['spatial'][:,1].copy().astype(float)\n",
    "physdepth_wt -= physdepth_wt.min()\n",
    "physdepth_wt /= physdepth_wt.ptp()\n",
    "plt.figure(figsize=(10,1))\n",
    "plt.hist(physdepth_wt, color=conditions_cmap[1])\n",
    "plt.axis('off')\n",
    "figname = f'hist_for_zoom_wt_{ctype}.png'\n",
    "savepath = os.path.join(basepath, figname)\n",
    "plt.savefig(savepath, bbox_inches='tight', transparent=True, dpi=dpi)\n",
    "plt.show()"
   ]
  },
  {
   "cell_type": "code",
   "execution_count": null,
   "metadata": {},
   "outputs": [],
   "source": [
    "physdepth_gf = zoomdata_gf_ctype.obsm['spatial'][:,1].copy().astype(float)\n",
    "physdepth_gf -= physdepth_gf.min()\n",
    "physdepth_gf /= physdepth_gf.ptp()\n",
    "plt.figure(figsize=(10,1))\n",
    "plt.hist(physdepth_gf, color=conditions_cmap[0])\n",
    "plt.axis('off')\n",
    "figname = f'hist_for_zoom_gf_{ctype}.png'\n",
    "savepath = os.path.join(basepath, figname)\n",
    "plt.savefig(savepath, bbox_inches='tight', transparent=True, dpi=dpi)\n",
    "plt.show()"
   ]
  }
 ],
 "metadata": {
  "kernelspec": {
   "display_name": "Python 3 (ipykernel)",
   "language": "python",
   "name": "python3"
  },
  "language_info": {
   "codemirror_mode": {
    "name": "ipython",
    "version": 3
   },
   "file_extension": ".py",
   "mimetype": "text/x-python",
   "name": "python",
   "nbconvert_exporter": "python",
   "pygments_lexer": "ipython3",
   "version": "3.9.12"
  },
  "orig_nbformat": 4,
  "vscode": {
   "interpreter": {
    "hash": "aee8b7b246df8f9039afb4144a1f6fd8d2ca17a180786b69acc140d282b71a49"
   }
  }
 },
 "nbformat": 4,
 "nbformat_minor": 2
}
