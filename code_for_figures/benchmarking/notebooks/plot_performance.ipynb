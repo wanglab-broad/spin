{
 "cells": [
  {
   "cell_type": "code",
   "execution_count": 9,
   "metadata": {},
   "outputs": [],
   "source": [
    "import os\n",
    "from glob import glob\n",
    "import pandas as pd\n",
    "import matplotlib.pyplot as plt\n",
    "import seaborn as sns\n",
    "from datetime import datetime"
   ]
  },
  {
   "cell_type": "markdown",
   "metadata": {},
   "source": [
    "# Simulation"
   ]
  },
  {
   "cell_type": "code",
   "execution_count": 78,
   "metadata": {},
   "outputs": [],
   "source": [
    "tissue = 'simulation'\n",
    "figpath = f'/stanley/WangLab/kamal/figures/projects/spin/reviews/{tissue}/'\n",
    "os.makedirs(figpath, exist_ok=True)\n",
    "dpi = 300"
   ]
  },
  {
   "cell_type": "markdown",
   "metadata": {},
   "source": [
    "## Parse outputs"
   ]
  },
  {
   "cell_type": "code",
   "execution_count": 79,
   "metadata": {},
   "outputs": [],
   "source": [
    "performance_files = glob(f'/stanley/WangLab/kamal/data/projects/spin/reviews/results/{tissue}/*/performance_*')"
   ]
  },
  {
   "cell_type": "code",
   "execution_count": 80,
   "metadata": {},
   "outputs": [
    {
     "data": {
      "text/plain": [
       "['/stanley/WangLab/kamal/data/projects/spin/reviews/results/simulation/utag/performance_simulation_utag_42429768.txt',\n",
       " '/stanley/WangLab/kamal/data/projects/spin/reviews/results/simulation/stagate/performance_simulation_stagate_42430818.txt',\n",
       " '/stanley/WangLab/kamal/data/projects/spin/reviews/results/simulation/knn/performance_simulation_knn_42429477.txt',\n",
       " '/stanley/WangLab/kamal/data/projects/spin/reviews/results/simulation/radius/performance_simulation_radius_42429759.txt',\n",
       " '/stanley/WangLab/kamal/data/projects/spin/reviews/results/simulation/graphst/performance_simulation_graphst_42430894.txt']"
      ]
     },
     "execution_count": 80,
     "metadata": {},
     "output_type": "execute_result"
    }
   ],
   "source": [
    "performance_files"
   ]
  },
  {
   "cell_type": "code",
   "execution_count": 81,
   "metadata": {},
   "outputs": [],
   "source": [
    "memusage_dict = dict()\n",
    "runtime_dict = dict()\n",
    "\n",
    "for pfile in performance_files:\n",
    "\n",
    "    method = pfile.split('/')[-2]\n",
    "\n",
    "    with open(pfile) as f:\n",
    "        lines = f.readlines()\n",
    "        memusages = [] # in GBs\n",
    "        runtimes = [] # in mins\n",
    "        for line in lines:\n",
    "            if 'maxvmem' in line:\n",
    "                if 'G' in line:\n",
    "                    vmem = line.split(' ')[-1].split('G')[0]\n",
    "                    vmem = float(vmem)\n",
    "                    memusages.append(vmem)\n",
    "                elif 'M' in line:\n",
    "                    vmem = line.split(' ')[-1].split('M')[0]\n",
    "                    vmem = float(vmem) / 1000\n",
    "                    memusages.append(vmem)\n",
    "            elif 'ru_utime' in line: # only care about utime, which ignores hardware allocation/execution time: https://man7.org/linux/man-pages/man2/getrusage.2.html#:~:text=The%20fields%20are%20interpreted%20as,structure%20(seconds%20plus%20microseconds)., https://www.reddit.com/r/cs50/comments/553okd/difference_between_ru_utime_and_ru_stime/\n",
    "                wallclock = line.split('ru_utime')[-1].strip()\n",
    "                wallclock = float(wallclock) / 60\n",
    "                runtimes.append(wallclock)\n",
    "    \n",
    "    memusage_dict[method] = memusages\n",
    "    runtime_dict[method] = runtimes\n",
    "\n",
    "    memusage_df = pd.DataFrame(memusage_dict)\n",
    "    runtime_df = pd.DataFrame(runtime_dict)"
   ]
  },
  {
   "cell_type": "code",
   "execution_count": 82,
   "metadata": {},
   "outputs": [
    {
     "data": {
      "text/html": [
       "<div>\n",
       "<style scoped>\n",
       "    .dataframe tbody tr th:only-of-type {\n",
       "        vertical-align: middle;\n",
       "    }\n",
       "\n",
       "    .dataframe tbody tr th {\n",
       "        vertical-align: top;\n",
       "    }\n",
       "\n",
       "    .dataframe thead th {\n",
       "        text-align: right;\n",
       "    }\n",
       "</style>\n",
       "<table border=\"1\" class=\"dataframe\">\n",
       "  <thead>\n",
       "    <tr style=\"text-align: right;\">\n",
       "      <th></th>\n",
       "      <th>utag</th>\n",
       "      <th>stagate</th>\n",
       "      <th>knn</th>\n",
       "      <th>radius</th>\n",
       "      <th>graphst</th>\n",
       "    </tr>\n",
       "  </thead>\n",
       "  <tbody>\n",
       "    <tr>\n",
       "      <th>0</th>\n",
       "      <td>1.223000</td>\n",
       "      <td>6.611</td>\n",
       "      <td>0.967355</td>\n",
       "      <td>0.968633</td>\n",
       "      <td>3.408</td>\n",
       "    </tr>\n",
       "    <tr>\n",
       "      <th>1</th>\n",
       "      <td>1.037000</td>\n",
       "      <td>7.046</td>\n",
       "      <td>0.967359</td>\n",
       "      <td>0.968625</td>\n",
       "      <td>3.416</td>\n",
       "    </tr>\n",
       "    <tr>\n",
       "      <th>2</th>\n",
       "      <td>0.911516</td>\n",
       "      <td>6.632</td>\n",
       "      <td>0.967363</td>\n",
       "      <td>0.963680</td>\n",
       "      <td>3.410</td>\n",
       "    </tr>\n",
       "    <tr>\n",
       "      <th>3</th>\n",
       "      <td>1.254000</td>\n",
       "      <td>6.609</td>\n",
       "      <td>0.966785</td>\n",
       "      <td>0.968629</td>\n",
       "      <td>3.595</td>\n",
       "    </tr>\n",
       "    <tr>\n",
       "      <th>4</th>\n",
       "      <td>0.908438</td>\n",
       "      <td>6.583</td>\n",
       "      <td>0.967355</td>\n",
       "      <td>0.970629</td>\n",
       "      <td>3.409</td>\n",
       "    </tr>\n",
       "    <tr>\n",
       "      <th>5</th>\n",
       "      <td>1.037000</td>\n",
       "      <td>7.001</td>\n",
       "      <td>0.967039</td>\n",
       "      <td>0.968629</td>\n",
       "      <td>3.409</td>\n",
       "    </tr>\n",
       "    <tr>\n",
       "      <th>6</th>\n",
       "      <td>0.910184</td>\n",
       "      <td>7.483</td>\n",
       "      <td>0.973859</td>\n",
       "      <td>0.968617</td>\n",
       "      <td>3.417</td>\n",
       "    </tr>\n",
       "    <tr>\n",
       "      <th>7</th>\n",
       "      <td>0.907141</td>\n",
       "      <td>7.125</td>\n",
       "      <td>0.967355</td>\n",
       "      <td>0.961000</td>\n",
       "      <td>3.406</td>\n",
       "    </tr>\n",
       "    <tr>\n",
       "      <th>8</th>\n",
       "      <td>0.908230</td>\n",
       "      <td>6.326</td>\n",
       "      <td>0.967359</td>\n",
       "      <td>0.968613</td>\n",
       "      <td>3.414</td>\n",
       "    </tr>\n",
       "    <tr>\n",
       "      <th>9</th>\n",
       "      <td>1.223000</td>\n",
       "      <td>7.273</td>\n",
       "      <td>0.967359</td>\n",
       "      <td>0.968629</td>\n",
       "      <td>3.586</td>\n",
       "    </tr>\n",
       "  </tbody>\n",
       "</table>\n",
       "</div>"
      ],
      "text/plain": [
       "       utag  stagate       knn    radius  graphst\n",
       "0  1.223000    6.611  0.967355  0.968633    3.408\n",
       "1  1.037000    7.046  0.967359  0.968625    3.416\n",
       "2  0.911516    6.632  0.967363  0.963680    3.410\n",
       "3  1.254000    6.609  0.966785  0.968629    3.595\n",
       "4  0.908438    6.583  0.967355  0.970629    3.409\n",
       "5  1.037000    7.001  0.967039  0.968629    3.409\n",
       "6  0.910184    7.483  0.973859  0.968617    3.417\n",
       "7  0.907141    7.125  0.967355  0.961000    3.406\n",
       "8  0.908230    6.326  0.967359  0.968613    3.414\n",
       "9  1.223000    7.273  0.967359  0.968629    3.586"
      ]
     },
     "execution_count": 82,
     "metadata": {},
     "output_type": "execute_result"
    }
   ],
   "source": [
    "memusage_df"
   ]
  },
  {
   "cell_type": "code",
   "execution_count": 83,
   "metadata": {},
   "outputs": [
    {
     "data": {
      "text/html": [
       "<div>\n",
       "<style scoped>\n",
       "    .dataframe tbody tr th:only-of-type {\n",
       "        vertical-align: middle;\n",
       "    }\n",
       "\n",
       "    .dataframe tbody tr th {\n",
       "        vertical-align: top;\n",
       "    }\n",
       "\n",
       "    .dataframe thead th {\n",
       "        text-align: right;\n",
       "    }\n",
       "</style>\n",
       "<table border=\"1\" class=\"dataframe\">\n",
       "  <thead>\n",
       "    <tr style=\"text-align: right;\">\n",
       "      <th></th>\n",
       "      <th>utag</th>\n",
       "      <th>stagate</th>\n",
       "      <th>knn</th>\n",
       "      <th>radius</th>\n",
       "      <th>graphst</th>\n",
       "    </tr>\n",
       "  </thead>\n",
       "  <tbody>\n",
       "    <tr>\n",
       "      <th>0</th>\n",
       "      <td>0.198233</td>\n",
       "      <td>2.989300</td>\n",
       "      <td>0.227667</td>\n",
       "      <td>0.171350</td>\n",
       "      <td>0.600250</td>\n",
       "    </tr>\n",
       "    <tr>\n",
       "      <th>1</th>\n",
       "      <td>0.194067</td>\n",
       "      <td>3.042667</td>\n",
       "      <td>0.158017</td>\n",
       "      <td>0.201733</td>\n",
       "      <td>0.600033</td>\n",
       "    </tr>\n",
       "    <tr>\n",
       "      <th>2</th>\n",
       "      <td>0.209233</td>\n",
       "      <td>2.892067</td>\n",
       "      <td>0.156950</td>\n",
       "      <td>0.164350</td>\n",
       "      <td>0.553067</td>\n",
       "    </tr>\n",
       "    <tr>\n",
       "      <th>3</th>\n",
       "      <td>0.240717</td>\n",
       "      <td>3.082267</td>\n",
       "      <td>0.178350</td>\n",
       "      <td>0.163033</td>\n",
       "      <td>0.620567</td>\n",
       "    </tr>\n",
       "    <tr>\n",
       "      <th>4</th>\n",
       "      <td>0.231733</td>\n",
       "      <td>2.841050</td>\n",
       "      <td>0.171567</td>\n",
       "      <td>0.140717</td>\n",
       "      <td>0.618950</td>\n",
       "    </tr>\n",
       "    <tr>\n",
       "      <th>5</th>\n",
       "      <td>0.212300</td>\n",
       "      <td>2.968600</td>\n",
       "      <td>0.183667</td>\n",
       "      <td>0.170283</td>\n",
       "      <td>0.577183</td>\n",
       "    </tr>\n",
       "    <tr>\n",
       "      <th>6</th>\n",
       "      <td>0.246533</td>\n",
       "      <td>2.941667</td>\n",
       "      <td>0.232400</td>\n",
       "      <td>0.210250</td>\n",
       "      <td>0.626700</td>\n",
       "    </tr>\n",
       "    <tr>\n",
       "      <th>7</th>\n",
       "      <td>0.223333</td>\n",
       "      <td>3.094950</td>\n",
       "      <td>0.131600</td>\n",
       "      <td>0.172417</td>\n",
       "      <td>0.589617</td>\n",
       "    </tr>\n",
       "    <tr>\n",
       "      <th>8</th>\n",
       "      <td>0.217017</td>\n",
       "      <td>3.016617</td>\n",
       "      <td>0.188033</td>\n",
       "      <td>0.239117</td>\n",
       "      <td>0.970650</td>\n",
       "    </tr>\n",
       "    <tr>\n",
       "      <th>9</th>\n",
       "      <td>0.230950</td>\n",
       "      <td>2.938067</td>\n",
       "      <td>0.202367</td>\n",
       "      <td>0.149917</td>\n",
       "      <td>0.623050</td>\n",
       "    </tr>\n",
       "  </tbody>\n",
       "</table>\n",
       "</div>"
      ],
      "text/plain": [
       "       utag   stagate       knn    radius   graphst\n",
       "0  0.198233  2.989300  0.227667  0.171350  0.600250\n",
       "1  0.194067  3.042667  0.158017  0.201733  0.600033\n",
       "2  0.209233  2.892067  0.156950  0.164350  0.553067\n",
       "3  0.240717  3.082267  0.178350  0.163033  0.620567\n",
       "4  0.231733  2.841050  0.171567  0.140717  0.618950\n",
       "5  0.212300  2.968600  0.183667  0.170283  0.577183\n",
       "6  0.246533  2.941667  0.232400  0.210250  0.626700\n",
       "7  0.223333  3.094950  0.131600  0.172417  0.589617\n",
       "8  0.217017  3.016617  0.188033  0.239117  0.970650\n",
       "9  0.230950  2.938067  0.202367  0.149917  0.623050"
      ]
     },
     "execution_count": 83,
     "metadata": {},
     "output_type": "execute_result"
    }
   ],
   "source": [
    "runtime_df"
   ]
  },
  {
   "cell_type": "markdown",
   "metadata": {},
   "source": [
    "## Runtime from logger"
   ]
  },
  {
   "cell_type": "code",
   "execution_count": 84,
   "metadata": {},
   "outputs": [],
   "source": [
    "methods = ['knn', 'radius', 'utag', 'stagate', 'graphst']\n",
    "jobids = [42429477, 42429759, 42429768, 42430818, 42430894]\n",
    "\n",
    "runtime_dict = dict()\n",
    "for i in range(len(methods)):\n",
    "\n",
    "    method = methods[i]\n",
    "    jobid = jobids[i]\n",
    "\n",
    "    runtimes = []\n",
    "    for taskid in range(11,111,11):\n",
    "\n",
    "        opath = f'/stanley/WangLab/kamal/outputs/spin/reviews/{tissue}/{method}/{tissue}_{method}.sh.o{jobid}.{taskid}'\n",
    "        with open(opath) as f:\n",
    "            lines = f.readlines()\n",
    "            for line in lines:\n",
    "                if 'Smoothing\\n' in line:\n",
    "                    start = line.split(' - ')[0][2:-4]\n",
    "                elif 'Clustering\\n' in line:\n",
    "                    end = line.split(' - ')[0][2:-4]\n",
    "            start = datetime.strptime(start, '%y-%m-%d %H:%M:%S')\n",
    "            end = datetime.strptime(end, '%y-%m-%d %H:%M:%S')\n",
    "            runtimes.append((end-start).seconds / 60)\n",
    "        \n",
    "    runtime_dict[method] = runtimes\n",
    "    runtime_df = pd.DataFrame(runtime_dict)"
   ]
  },
  {
   "cell_type": "code",
   "execution_count": 85,
   "metadata": {},
   "outputs": [
    {
     "data": {
      "text/plain": [
       "{'knn': [0.016666666666666666,\n",
       "  0.016666666666666666,\n",
       "  0.016666666666666666,\n",
       "  0.03333333333333333,\n",
       "  0.03333333333333333,\n",
       "  0.03333333333333333,\n",
       "  0.016666666666666666,\n",
       "  0.016666666666666666,\n",
       "  0.03333333333333333,\n",
       "  0.016666666666666666],\n",
       " 'radius': [0.03333333333333333,\n",
       "  0.016666666666666666,\n",
       "  0.03333333333333333,\n",
       "  0.03333333333333333,\n",
       "  0.016666666666666666,\n",
       "  0.016666666666666666,\n",
       "  0.016666666666666666,\n",
       "  0.03333333333333333,\n",
       "  0.03333333333333333,\n",
       "  0.03333333333333333],\n",
       " 'utag': [0.016666666666666666,\n",
       "  0.016666666666666666,\n",
       "  0.016666666666666666,\n",
       "  0.03333333333333333,\n",
       "  0.016666666666666666,\n",
       "  0.016666666666666666,\n",
       "  0.016666666666666666,\n",
       "  0.016666666666666666,\n",
       "  0.016666666666666666,\n",
       "  0.016666666666666666],\n",
       " 'stagate': [5.183333333333334,\n",
       "  6.116666666666666,\n",
       "  5.25,\n",
       "  5.633333333333334,\n",
       "  6.083333333333333,\n",
       "  6.066666666666666,\n",
       "  5.883333333333334,\n",
       "  6.016666666666667,\n",
       "  6.3,\n",
       "  5.8],\n",
       " 'graphst': [0.6833333333333333,\n",
       "  0.6833333333333333,\n",
       "  0.6333333333333333,\n",
       "  0.6833333333333333,\n",
       "  0.7,\n",
       "  0.65,\n",
       "  0.6833333333333333,\n",
       "  0.6333333333333333,\n",
       "  0.95,\n",
       "  0.7166666666666667]}"
      ]
     },
     "execution_count": 85,
     "metadata": {},
     "output_type": "execute_result"
    }
   ],
   "source": [
    "runtime_dict"
   ]
  },
  {
   "cell_type": "markdown",
   "metadata": {},
   "source": [
    "## Plot performance"
   ]
  },
  {
   "cell_type": "code",
   "execution_count": 86,
   "metadata": {},
   "outputs": [],
   "source": [
    "order = ['knn', 'radius', 'utag', 'stagate', 'graphst']\n",
    "hue_order = order"
   ]
  },
  {
   "cell_type": "code",
   "execution_count": 87,
   "metadata": {},
   "outputs": [
    {
     "data": {
      "image/png": "[encoded data removed]",
      "text/plain": [
       "<Figure size 600x200 with 1 Axes>"
      ]
     },
     "metadata": {},
     "output_type": "display_data"
    }
   ],
   "source": [
    "plt.figure(figsize=(6,2))\n",
    "sns.boxplot(data=memusage_df, log_scale=False, fill=False, order=order, hue_order=hue_order)\n",
    "sns.stripplot(data=memusage_df, log_scale=False, order=order, hue_order=hue_order)\n",
    "plt.ylabel('Memory usage (GB)')\n",
    "plt.xlabel('Method')\n",
    "\n",
    "filename = f'memusage_{tissue}.png'\n",
    "filepath = os.path.join(figpath,filename)\n",
    "plt.savefig(filepath, bbox_inches='tight', dpi=dpi)\n",
    "\n",
    "plt.show()"
   ]
  },
  {
   "cell_type": "code",
   "execution_count": 88,
   "metadata": {},
   "outputs": [
    {
     "data": {
      "image/png": "[encoded data removed]",
      "text/plain": [
       "<Figure size 600x200 with 1 Axes>"
      ]
     },
     "metadata": {},
     "output_type": "display_data"
    }
   ],
   "source": [
    "plt.figure(figsize=(6,2))\n",
    "sns.boxplot(data=runtime_df, log_scale=False, fill=False, order=order, hue_order=hue_order)\n",
    "sns.stripplot(data=runtime_df, log_scale=False, order=order, hue_order=hue_order)\n",
    "plt.ylabel('Runtime (mins)')\n",
    "plt.xlabel('Method')\n",
    "\n",
    "filename = f'runtime_{tissue}.png'\n",
    "filepath = os.path.join(figpath,filename)\n",
    "plt.savefig(filepath, bbox_inches='tight', dpi=dpi)\n",
    "\n",
    "plt.show()"
   ]
  },
  {
   "cell_type": "markdown",
   "metadata": {},
   "source": [
    "# Brain"
   ]
  },
  {
   "cell_type": "code",
   "execution_count": 2,
   "metadata": {},
   "outputs": [],
   "source": [
    "tissue = 'brain'\n",
    "figpath = f'/stanley/WangLab/kamal/figures/projects/spin/reviews/{tissue}/'\n",
    "os.makedirs(figpath, exist_ok=True)\n",
    "dpi = 300"
   ]
  },
  {
   "cell_type": "markdown",
   "metadata": {},
   "source": [
    "## Parse outputs"
   ]
  },
  {
   "cell_type": "code",
   "execution_count": 3,
   "metadata": {},
   "outputs": [],
   "source": [
    "performance_files = glob(f'/stanley/WangLab/kamal/data/projects/spin/reviews/results/{tissue}/*/performance_*')"
   ]
  },
  {
   "cell_type": "code",
   "execution_count": 4,
   "metadata": {},
   "outputs": [
    {
     "data": {
      "text/plain": [
       "['/stanley/WangLab/kamal/data/projects/spin/reviews/results/brain/utag/performance_brain_utag_42435534.txt',\n",
       " '/stanley/WangLab/kamal/data/projects/spin/reviews/results/brain/stagate/performance_brain_stagate_42435535.txt',\n",
       " '/stanley/WangLab/kamal/data/projects/spin/reviews/results/brain/knn/performance_brain_knn_42435516.txt',\n",
       " '/stanley/WangLab/kamal/data/projects/spin/reviews/results/brain/radius/performance_brain_radius_42435533.txt',\n",
       " '/stanley/WangLab/kamal/data/projects/spin/reviews/results/brain/graphst/performance_brain_graphst_42435536.txt']"
      ]
     },
     "execution_count": 4,
     "metadata": {},
     "output_type": "execute_result"
    }
   ],
   "source": [
    "performance_files"
   ]
  },
  {
   "cell_type": "code",
   "execution_count": 5,
   "metadata": {},
   "outputs": [],
   "source": [
    "memusage_dict = dict()\n",
    "runtime_dict = dict()\n",
    "\n",
    "for pfile in performance_files:\n",
    "\n",
    "    method = pfile.split('/')[-2]\n",
    "\n",
    "    with open(pfile) as f:\n",
    "        lines = f.readlines()\n",
    "        memusages = [] # in GBs\n",
    "        runtimes = [] # in mins\n",
    "        for line in lines:\n",
    "            if 'maxvmem' in line:\n",
    "                if 'G' in line:\n",
    "                    vmem = line.split(' ')[-1].split('G')[0]\n",
    "                    vmem = float(vmem)\n",
    "                    memusages.append(vmem)\n",
    "                elif 'M' in line:\n",
    "                    vmem = line.split(' ')[-1].split('M')[0]\n",
    "                    vmem = float(vmem) / 1000\n",
    "                    memusages.append(vmem)\n",
    "            elif 'ru_utime' in line: # only care about utime, which ignores hardware allocation/execution time: https://man7.org/linux/man-pages/man2/getrusage.2.html#:~:text=The%20fields%20are%20interpreted%20as,structure%20(seconds%20plus%20microseconds)., https://www.reddit.com/r/cs50/comments/553okd/difference_between_ru_utime_and_ru_stime/\n",
    "                wallclock = line.split('ru_utime')[-1].strip()\n",
    "                wallclock = float(wallclock) / 60\n",
    "                runtimes.append(wallclock)\n",
    "    \n",
    "    memusage_dict[method] = memusages\n",
    "    runtime_dict[method] = runtimes\n",
    "\n",
    "    memusage_df = pd.DataFrame(memusage_dict)\n",
    "    runtime_df = pd.DataFrame(runtime_dict)"
   ]
  },
  {
   "cell_type": "code",
   "execution_count": 6,
   "metadata": {},
   "outputs": [
    {
     "data": {
      "text/html": [
       "<div>\n",
       "<style scoped>\n",
       "    .dataframe tbody tr th:only-of-type {\n",
       "        vertical-align: middle;\n",
       "    }\n",
       "\n",
       "    .dataframe tbody tr th {\n",
       "        vertical-align: top;\n",
       "    }\n",
       "\n",
       "    .dataframe thead th {\n",
       "        text-align: right;\n",
       "    }\n",
       "</style>\n",
       "<table border=\"1\" class=\"dataframe\">\n",
       "  <thead>\n",
       "    <tr style=\"text-align: right;\">\n",
       "      <th></th>\n",
       "      <th>utag</th>\n",
       "      <th>stagate</th>\n",
       "      <th>knn</th>\n",
       "      <th>radius</th>\n",
       "      <th>graphst</th>\n",
       "    </tr>\n",
       "  </thead>\n",
       "  <tbody>\n",
       "    <tr>\n",
       "      <th>0</th>\n",
       "      <td>44.092</td>\n",
       "      <td>33.000</td>\n",
       "      <td>2.093</td>\n",
       "      <td>2.140</td>\n",
       "      <td>32.935</td>\n",
       "    </tr>\n",
       "    <tr>\n",
       "      <th>1</th>\n",
       "      <td>44.061</td>\n",
       "      <td>32.976</td>\n",
       "      <td>2.093</td>\n",
       "      <td>1.789</td>\n",
       "      <td>32.935</td>\n",
       "    </tr>\n",
       "    <tr>\n",
       "      <th>2</th>\n",
       "      <td>44.061</td>\n",
       "      <td>32.999</td>\n",
       "      <td>1.845</td>\n",
       "      <td>1.871</td>\n",
       "      <td>32.935</td>\n",
       "    </tr>\n",
       "    <tr>\n",
       "      <th>3</th>\n",
       "      <td>44.092</td>\n",
       "      <td>33.007</td>\n",
       "      <td>1.763</td>\n",
       "      <td>2.140</td>\n",
       "      <td>32.935</td>\n",
       "    </tr>\n",
       "    <tr>\n",
       "      <th>4</th>\n",
       "      <td>44.092</td>\n",
       "      <td>32.819</td>\n",
       "      <td>1.845</td>\n",
       "      <td>2.140</td>\n",
       "      <td>32.935</td>\n",
       "    </tr>\n",
       "    <tr>\n",
       "      <th>5</th>\n",
       "      <td>44.092</td>\n",
       "      <td>33.000</td>\n",
       "      <td>1.632</td>\n",
       "      <td>2.140</td>\n",
       "      <td>32.935</td>\n",
       "    </tr>\n",
       "    <tr>\n",
       "      <th>6</th>\n",
       "      <td>44.061</td>\n",
       "      <td>32.811</td>\n",
       "      <td>2.093</td>\n",
       "      <td>2.140</td>\n",
       "      <td>32.935</td>\n",
       "    </tr>\n",
       "    <tr>\n",
       "      <th>7</th>\n",
       "      <td>44.061</td>\n",
       "      <td>32.968</td>\n",
       "      <td>1.884</td>\n",
       "      <td>1.871</td>\n",
       "      <td>32.935</td>\n",
       "    </tr>\n",
       "    <tr>\n",
       "      <th>8</th>\n",
       "      <td>44.061</td>\n",
       "      <td>33.000</td>\n",
       "      <td>1.865</td>\n",
       "      <td>2.140</td>\n",
       "      <td>32.935</td>\n",
       "    </tr>\n",
       "    <tr>\n",
       "      <th>9</th>\n",
       "      <td>44.061</td>\n",
       "      <td>33.007</td>\n",
       "      <td>2.093</td>\n",
       "      <td>1.910</td>\n",
       "      <td>32.935</td>\n",
       "    </tr>\n",
       "  </tbody>\n",
       "</table>\n",
       "</div>"
      ],
      "text/plain": [
       "     utag  stagate    knn  radius  graphst\n",
       "0  44.092   33.000  2.093   2.140   32.935\n",
       "1  44.061   32.976  2.093   1.789   32.935\n",
       "2  44.061   32.999  1.845   1.871   32.935\n",
       "3  44.092   33.007  1.763   2.140   32.935\n",
       "4  44.092   32.819  1.845   2.140   32.935\n",
       "5  44.092   33.000  1.632   2.140   32.935\n",
       "6  44.061   32.811  2.093   2.140   32.935\n",
       "7  44.061   32.968  1.884   1.871   32.935\n",
       "8  44.061   33.000  1.865   2.140   32.935\n",
       "9  44.061   33.007  2.093   1.910   32.935"
      ]
     },
     "execution_count": 6,
     "metadata": {},
     "output_type": "execute_result"
    }
   ],
   "source": [
    "memusage_df"
   ]
  },
  {
   "cell_type": "code",
   "execution_count": 7,
   "metadata": {},
   "outputs": [
    {
     "data": {
      "text/html": [
       "<div>\n",
       "<style scoped>\n",
       "    .dataframe tbody tr th:only-of-type {\n",
       "        vertical-align: middle;\n",
       "    }\n",
       "\n",
       "    .dataframe tbody tr th {\n",
       "        vertical-align: top;\n",
       "    }\n",
       "\n",
       "    .dataframe thead th {\n",
       "        text-align: right;\n",
       "    }\n",
       "</style>\n",
       "<table border=\"1\" class=\"dataframe\">\n",
       "  <thead>\n",
       "    <tr style=\"text-align: right;\">\n",
       "      <th></th>\n",
       "      <th>utag</th>\n",
       "      <th>stagate</th>\n",
       "      <th>knn</th>\n",
       "      <th>radius</th>\n",
       "      <th>graphst</th>\n",
       "    </tr>\n",
       "  </thead>\n",
       "  <tbody>\n",
       "    <tr>\n",
       "      <th>0</th>\n",
       "      <td>0.012533</td>\n",
       "      <td>26.039617</td>\n",
       "      <td>5.912367</td>\n",
       "      <td>6.882800</td>\n",
       "      <td>28.480050</td>\n",
       "    </tr>\n",
       "    <tr>\n",
       "      <th>1</th>\n",
       "      <td>7.004967</td>\n",
       "      <td>28.133950</td>\n",
       "      <td>1.301333</td>\n",
       "      <td>5.807883</td>\n",
       "      <td>28.169017</td>\n",
       "    </tr>\n",
       "    <tr>\n",
       "      <th>2</th>\n",
       "      <td>2.661833</td>\n",
       "      <td>28.776050</td>\n",
       "      <td>1.537150</td>\n",
       "      <td>1.157933</td>\n",
       "      <td>28.467833</td>\n",
       "    </tr>\n",
       "    <tr>\n",
       "      <th>3</th>\n",
       "      <td>5.408267</td>\n",
       "      <td>54.732000</td>\n",
       "      <td>1.126100</td>\n",
       "      <td>3.672050</td>\n",
       "      <td>64.570633</td>\n",
       "    </tr>\n",
       "    <tr>\n",
       "      <th>4</th>\n",
       "      <td>12.752883</td>\n",
       "      <td>28.020383</td>\n",
       "      <td>2.449083</td>\n",
       "      <td>6.398783</td>\n",
       "      <td>28.442833</td>\n",
       "    </tr>\n",
       "    <tr>\n",
       "      <th>5</th>\n",
       "      <td>63.011067</td>\n",
       "      <td>25.569817</td>\n",
       "      <td>5.551533</td>\n",
       "      <td>5.349033</td>\n",
       "      <td>26.620583</td>\n",
       "    </tr>\n",
       "    <tr>\n",
       "      <th>6</th>\n",
       "      <td>2.684200</td>\n",
       "      <td>26.158517</td>\n",
       "      <td>3.324767</td>\n",
       "      <td>2.602667</td>\n",
       "      <td>58.258250</td>\n",
       "    </tr>\n",
       "    <tr>\n",
       "      <th>7</th>\n",
       "      <td>2.883150</td>\n",
       "      <td>27.652283</td>\n",
       "      <td>1.089250</td>\n",
       "      <td>6.583783</td>\n",
       "      <td>64.620867</td>\n",
       "    </tr>\n",
       "    <tr>\n",
       "      <th>8</th>\n",
       "      <td>7.400367</td>\n",
       "      <td>26.066317</td>\n",
       "      <td>3.875417</td>\n",
       "      <td>5.098583</td>\n",
       "      <td>64.660017</td>\n",
       "    </tr>\n",
       "    <tr>\n",
       "      <th>9</th>\n",
       "      <td>7.490983</td>\n",
       "      <td>27.010017</td>\n",
       "      <td>3.670050</td>\n",
       "      <td>6.684150</td>\n",
       "      <td>29.337433</td>\n",
       "    </tr>\n",
       "  </tbody>\n",
       "</table>\n",
       "</div>"
      ],
      "text/plain": [
       "        utag    stagate       knn    radius    graphst\n",
       "0   0.012533  26.039617  5.912367  6.882800  28.480050\n",
       "1   7.004967  28.133950  1.301333  5.807883  28.169017\n",
       "2   2.661833  28.776050  1.537150  1.157933  28.467833\n",
       "3   5.408267  54.732000  1.126100  3.672050  64.570633\n",
       "4  12.752883  28.020383  2.449083  6.398783  28.442833\n",
       "5  63.011067  25.569817  5.551533  5.349033  26.620583\n",
       "6   2.684200  26.158517  3.324767  2.602667  58.258250\n",
       "7   2.883150  27.652283  1.089250  6.583783  64.620867\n",
       "8   7.400367  26.066317  3.875417  5.098583  64.660017\n",
       "9   7.490983  27.010017  3.670050  6.684150  29.337433"
      ]
     },
     "execution_count": 7,
     "metadata": {},
     "output_type": "execute_result"
    }
   ],
   "source": [
    "runtime_df"
   ]
  },
  {
   "cell_type": "markdown",
   "metadata": {},
   "source": [
    "## Runtime from logger"
   ]
  },
  {
   "cell_type": "code",
   "execution_count": 74,
   "metadata": {},
   "outputs": [],
   "source": [
    "methods = ['knn', 'radius', 'utag', 'stagate', 'graphst']\n",
    "jobids = [42435516, 42435533 ,42435534, 42435535, 42435536]\n",
    "\n",
    "runtime_dict = dict()\n",
    "for i in range(len(methods)):\n",
    "\n",
    "    method = methods[i]\n",
    "    jobid = jobids[i]\n",
    "\n",
    "    runtimes = []\n",
    "    for taskid in range(11,111,11):\n",
    "\n",
    "        opath = f'/stanley/WangLab/kamal/outputs/spin/reviews/{tissue}/{method}/{tissue}_{method}.sh.o{jobid}.{taskid}'\n",
    "        with open(opath) as f:\n",
    "            lines = f.readlines()\n",
    "            for line in lines:\n",
    "                if 'Smoothing\\n' in line:\n",
    "                    start = line.split(' - ')[0][2:-4]\n",
    "                elif 'Clustering\\n' in line:\n",
    "                    end = line.split(' - ')[0][2:-4]\n",
    "            start = datetime.strptime(start, '%y-%m-%d %H:%M:%S')\n",
    "            end = datetime.strptime(end, '%y-%m-%d %H:%M:%S')\n",
    "            runtimes.append((end-start).seconds / 60)\n",
    "        \n",
    "    runtime_dict[method] = runtimes\n",
    "    runtime_df = pd.DataFrame(runtime_dict)"
   ]
  },
  {
   "cell_type": "code",
   "execution_count": 75,
   "metadata": {},
   "outputs": [
    {
     "data": {
      "text/plain": [
       "{'knn': [0.23333333333333334,\n",
       "  0.2,\n",
       "  0.2,\n",
       "  0.2,\n",
       "  0.2,\n",
       "  0.2,\n",
       "  0.21666666666666667,\n",
       "  0.21666666666666667,\n",
       "  0.2,\n",
       "  0.2],\n",
       " 'radius': [0.21666666666666667,\n",
       "  0.21666666666666667,\n",
       "  0.18333333333333332,\n",
       "  0.21666666666666667,\n",
       "  0.21666666666666667,\n",
       "  0.21666666666666667,\n",
       "  0.2,\n",
       "  0.2,\n",
       "  0.21666666666666667,\n",
       "  0.2],\n",
       " 'utag': [4.233333333333333,\n",
       "  2.2333333333333334,\n",
       "  2.25,\n",
       "  4.466666666666667,\n",
       "  4.55,\n",
       "  4.25,\n",
       "  2.283333333333333,\n",
       "  2.216666666666667,\n",
       "  2.216666666666667,\n",
       "  2.2],\n",
       " 'stagate': [44.016666666666666,\n",
       "  56.2,\n",
       "  51.56666666666667,\n",
       "  89.6,\n",
       "  50.46666666666667,\n",
       "  49.416666666666664,\n",
       "  39.75,\n",
       "  55.583333333333336,\n",
       "  36.0,\n",
       "  52.75],\n",
       " 'graphst': [26.05,\n",
       "  24.583333333333332,\n",
       "  26.066666666666666,\n",
       "  54.68333333333333,\n",
       "  24.816666666666666,\n",
       "  24.466666666666665,\n",
       "  47.733333333333334,\n",
       "  53.916666666666664,\n",
       "  54.6,\n",
       "  27.183333333333334]}"
      ]
     },
     "execution_count": 75,
     "metadata": {},
     "output_type": "execute_result"
    }
   ],
   "source": [
    "runtime_dict"
   ]
  },
  {
   "cell_type": "markdown",
   "metadata": {},
   "source": [
    "## Plot performance"
   ]
  },
  {
   "cell_type": "code",
   "execution_count": 76,
   "metadata": {},
   "outputs": [],
   "source": [
    "order = ['knn', 'radius', 'utag', 'stagate', 'graphst']\n",
    "hue_order = order"
   ]
  },
  {
   "cell_type": "code",
   "execution_count": 61,
   "metadata": {},
   "outputs": [
    {
     "data": {
      "image/png": "[encoded data removed]",
      "text/plain": [
       "<Figure size 600x200 with 1 Axes>"
      ]
     },
     "metadata": {},
     "output_type": "display_data"
    }
   ],
   "source": [
    "plt.figure(figsize=(6,2))\n",
    "sns.boxplot(data=memusage_df, log_scale=False, fill=False, order=order, hue_order=hue_order)\n",
    "sns.stripplot(data=memusage_df, log_scale=False, order=order, hue_order=hue_order)\n",
    "plt.ylabel('Memory usage (GB)')\n",
    "plt.xlabel('Method')\n",
    "\n",
    "filename = f'memusage_{tissue}.png'\n",
    "filepath = os.path.join(figpath,filename)\n",
    "plt.savefig(filepath, bbox_inches='tight', dpi=dpi)\n",
    "\n",
    "plt.show()"
   ]
  },
  {
   "cell_type": "code",
   "execution_count": 77,
   "metadata": {},
   "outputs": [
    {
     "data": {
      "image/png": "[encoded data removed]",
      "text/plain": [
       "<Figure size 600x200 with 1 Axes>"
      ]
     },
     "metadata": {},
     "output_type": "display_data"
    }
   ],
   "source": [
    "plt.figure(figsize=(6,2))\n",
    "sns.boxplot(data=runtime_df, log_scale=False, fill=False, order=order, hue_order=hue_order)\n",
    "sns.stripplot(data=runtime_df, log_scale=False, order=order, hue_order=hue_order)\n",
    "plt.ylabel('Runtime (mins)')\n",
    "plt.xlabel('Method')\n",
    "\n",
    "filename = f'runtime_{tissue}.png'\n",
    "filepath = os.path.join(figpath,filename)\n",
    "plt.savefig(filepath, bbox_inches='tight', dpi=dpi)\n",
    "\n",
    "plt.show()"
   ]
  },
  {
   "cell_type": "markdown",
   "metadata": {},
   "source": [
    "# Gut"
   ]
  },
  {
   "cell_type": "code",
   "execution_count": 2,
   "metadata": {},
   "outputs": [],
   "source": [
    "tissue = 'gut'\n",
    "figpath = f'/stanley/WangLab/kamal/figures/projects/spin/reviews/{tissue}/'\n",
    "os.makedirs(figpath, exist_ok=True)\n",
    "dpi = 300"
   ]
  },
  {
   "cell_type": "markdown",
   "metadata": {},
   "source": [
    "## Parse outputs"
   ]
  },
  {
   "cell_type": "code",
   "execution_count": 3,
   "metadata": {},
   "outputs": [],
   "source": [
    "performance_files = glob(f'/stanley/WangLab/kamal/data/projects/spin/reviews/results/{tissue}/*/performance_*')"
   ]
  },
  {
   "cell_type": "code",
   "execution_count": 4,
   "metadata": {},
   "outputs": [
    {
     "data": {
      "text/plain": [
       "['/stanley/WangLab/kamal/data/projects/spin/reviews/results/gut/utag/performance_gut_utag_42437788.txt',\n",
       " '/stanley/WangLab/kamal/data/projects/spin/reviews/results/gut/stagate/performance_gut_stagate_42437789.txt',\n",
       " '/stanley/WangLab/kamal/data/projects/spin/reviews/results/gut/knn/performance_gut_knn_42437430.txt',\n",
       " '/stanley/WangLab/kamal/data/projects/spin/reviews/results/gut/radius/performance_gut_radius_42437787.txt',\n",
       " '/stanley/WangLab/kamal/data/projects/spin/reviews/results/gut/graphst/performance_gut_graphst_42437790.txt']"
      ]
     },
     "execution_count": 4,
     "metadata": {},
     "output_type": "execute_result"
    }
   ],
   "source": [
    "performance_files"
   ]
  },
  {
   "cell_type": "code",
   "execution_count": 5,
   "metadata": {},
   "outputs": [],
   "source": [
    "memusage_dict = dict()\n",
    "runtime_dict = dict()\n",
    "\n",
    "for pfile in performance_files:\n",
    "\n",
    "    method = pfile.split('/')[-2]\n",
    "\n",
    "    with open(pfile) as f:\n",
    "        lines = f.readlines()\n",
    "        memusages = [] # in GBs\n",
    "        runtimes = [] # in mins\n",
    "        for line in lines:\n",
    "            if 'maxvmem' in line:\n",
    "                if 'G' in line:\n",
    "                    vmem = line.split(' ')[-1].split('G')[0]\n",
    "                    vmem = float(vmem)\n",
    "                    memusages.append(vmem)\n",
    "                elif 'M' in line:\n",
    "                    vmem = line.split(' ')[-1].split('M')[0]\n",
    "                    vmem = float(vmem) / 1000\n",
    "                    memusages.append(vmem)\n",
    "            elif 'ru_utime' in line: # only care about utime, which ignores hardware allocation/execution time: https://man7.org/linux/man-pages/man2/getrusage.2.html#:~:text=The%20fields%20are%20interpreted%20as,structure%20(seconds%20plus%20microseconds)., https://www.reddit.com/r/cs50/comments/553okd/difference_between_ru_utime_and_ru_stime/\n",
    "                wallclock = line.split('ru_utime')[-1].strip()\n",
    "                wallclock = float(wallclock) / 60\n",
    "                runtimes.append(wallclock)\n",
    "    \n",
    "    memusage_dict[method] = memusages\n",
    "    runtime_dict[method] = runtimes\n",
    "\n",
    "    memusage_df = pd.DataFrame(memusage_dict)\n",
    "    runtime_df = pd.DataFrame(runtime_dict)"
   ]
  },
  {
   "cell_type": "code",
   "execution_count": 6,
   "metadata": {},
   "outputs": [
    {
     "data": {
      "text/html": [
       "<div>\n",
       "<style scoped>\n",
       "    .dataframe tbody tr th:only-of-type {\n",
       "        vertical-align: middle;\n",
       "    }\n",
       "\n",
       "    .dataframe tbody tr th {\n",
       "        vertical-align: top;\n",
       "    }\n",
       "\n",
       "    .dataframe thead th {\n",
       "        text-align: right;\n",
       "    }\n",
       "</style>\n",
       "<table border=\"1\" class=\"dataframe\">\n",
       "  <thead>\n",
       "    <tr style=\"text-align: right;\">\n",
       "      <th></th>\n",
       "      <th>utag</th>\n",
       "      <th>stagate</th>\n",
       "      <th>knn</th>\n",
       "      <th>radius</th>\n",
       "      <th>graphst</th>\n",
       "    </tr>\n",
       "  </thead>\n",
       "  <tbody>\n",
       "    <tr>\n",
       "      <th>0</th>\n",
       "      <td>184.589</td>\n",
       "      <td>63.748</td>\n",
       "      <td>2.854</td>\n",
       "      <td>3.419</td>\n",
       "      <td>127.556</td>\n",
       "    </tr>\n",
       "    <tr>\n",
       "      <th>1</th>\n",
       "      <td>184.589</td>\n",
       "      <td>63.649</td>\n",
       "      <td>2.934</td>\n",
       "      <td>2.957</td>\n",
       "      <td>127.556</td>\n",
       "    </tr>\n",
       "    <tr>\n",
       "      <th>2</th>\n",
       "      <td>184.589</td>\n",
       "      <td>62.811</td>\n",
       "      <td>3.370</td>\n",
       "      <td>3.419</td>\n",
       "      <td>127.556</td>\n",
       "    </tr>\n",
       "    <tr>\n",
       "      <th>3</th>\n",
       "      <td>184.589</td>\n",
       "      <td>63.583</td>\n",
       "      <td>3.370</td>\n",
       "      <td>3.419</td>\n",
       "      <td>127.556</td>\n",
       "    </tr>\n",
       "    <tr>\n",
       "      <th>4</th>\n",
       "      <td>184.589</td>\n",
       "      <td>63.748</td>\n",
       "      <td>2.854</td>\n",
       "      <td>2.917</td>\n",
       "      <td>127.556</td>\n",
       "    </tr>\n",
       "    <tr>\n",
       "      <th>5</th>\n",
       "      <td>184.590</td>\n",
       "      <td>64.175</td>\n",
       "      <td>3.370</td>\n",
       "      <td>3.419</td>\n",
       "      <td>127.556</td>\n",
       "    </tr>\n",
       "    <tr>\n",
       "      <th>6</th>\n",
       "      <td>184.589</td>\n",
       "      <td>63.748</td>\n",
       "      <td>2.854</td>\n",
       "      <td>3.419</td>\n",
       "      <td>127.556</td>\n",
       "    </tr>\n",
       "    <tr>\n",
       "      <th>7</th>\n",
       "      <td>184.589</td>\n",
       "      <td>64.208</td>\n",
       "      <td>2.934</td>\n",
       "      <td>2.917</td>\n",
       "      <td>127.556</td>\n",
       "    </tr>\n",
       "    <tr>\n",
       "      <th>8</th>\n",
       "      <td>184.589</td>\n",
       "      <td>63.945</td>\n",
       "      <td>3.370</td>\n",
       "      <td>3.419</td>\n",
       "      <td>127.556</td>\n",
       "    </tr>\n",
       "    <tr>\n",
       "      <th>9</th>\n",
       "      <td>184.589</td>\n",
       "      <td>63.846</td>\n",
       "      <td>3.370</td>\n",
       "      <td>3.419</td>\n",
       "      <td>127.556</td>\n",
       "    </tr>\n",
       "  </tbody>\n",
       "</table>\n",
       "</div>"
      ],
      "text/plain": [
       "      utag  stagate    knn  radius  graphst\n",
       "0  184.589   63.748  2.854   3.419  127.556\n",
       "1  184.589   63.649  2.934   2.957  127.556\n",
       "2  184.589   62.811  3.370   3.419  127.556\n",
       "3  184.589   63.583  3.370   3.419  127.556\n",
       "4  184.589   63.748  2.854   2.917  127.556\n",
       "5  184.590   64.175  3.370   3.419  127.556\n",
       "6  184.589   63.748  2.854   3.419  127.556\n",
       "7  184.589   64.208  2.934   2.917  127.556\n",
       "8  184.589   63.945  3.370   3.419  127.556\n",
       "9  184.589   63.846  3.370   3.419  127.556"
      ]
     },
     "execution_count": 6,
     "metadata": {},
     "output_type": "execute_result"
    }
   ],
   "source": [
    "memusage_df"
   ]
  },
  {
   "cell_type": "code",
   "execution_count": 7,
   "metadata": {},
   "outputs": [
    {
     "data": {
      "text/html": [
       "<div>\n",
       "<style scoped>\n",
       "    .dataframe tbody tr th:only-of-type {\n",
       "        vertical-align: middle;\n",
       "    }\n",
       "\n",
       "    .dataframe tbody tr th {\n",
       "        vertical-align: top;\n",
       "    }\n",
       "\n",
       "    .dataframe thead th {\n",
       "        text-align: right;\n",
       "    }\n",
       "</style>\n",
       "<table border=\"1\" class=\"dataframe\">\n",
       "  <thead>\n",
       "    <tr style=\"text-align: right;\">\n",
       "      <th></th>\n",
       "      <th>utag</th>\n",
       "      <th>stagate</th>\n",
       "      <th>knn</th>\n",
       "      <th>radius</th>\n",
       "      <th>graphst</th>\n",
       "    </tr>\n",
       "  </thead>\n",
       "  <tbody>\n",
       "    <tr>\n",
       "      <th>0</th>\n",
       "      <td>21.780317</td>\n",
       "      <td>60.858267</td>\n",
       "      <td>8.629300</td>\n",
       "      <td>17.983300</td>\n",
       "      <td>94.930150</td>\n",
       "    </tr>\n",
       "    <tr>\n",
       "      <th>1</th>\n",
       "      <td>26.938633</td>\n",
       "      <td>58.318267</td>\n",
       "      <td>11.992850</td>\n",
       "      <td>8.700550</td>\n",
       "      <td>193.595367</td>\n",
       "    </tr>\n",
       "    <tr>\n",
       "      <th>2</th>\n",
       "      <td>24.431650</td>\n",
       "      <td>79.758683</td>\n",
       "      <td>8.632367</td>\n",
       "      <td>18.871267</td>\n",
       "      <td>99.466617</td>\n",
       "    </tr>\n",
       "    <tr>\n",
       "      <th>3</th>\n",
       "      <td>38.839600</td>\n",
       "      <td>78.191550</td>\n",
       "      <td>14.428450</td>\n",
       "      <td>12.953150</td>\n",
       "      <td>194.284383</td>\n",
       "    </tr>\n",
       "    <tr>\n",
       "      <th>4</th>\n",
       "      <td>27.351250</td>\n",
       "      <td>79.007683</td>\n",
       "      <td>9.089850</td>\n",
       "      <td>11.643417</td>\n",
       "      <td>101.737850</td>\n",
       "    </tr>\n",
       "    <tr>\n",
       "      <th>5</th>\n",
       "      <td>21.674133</td>\n",
       "      <td>59.458417</td>\n",
       "      <td>8.818000</td>\n",
       "      <td>12.566583</td>\n",
       "      <td>101.740033</td>\n",
       "    </tr>\n",
       "    <tr>\n",
       "      <th>6</th>\n",
       "      <td>0.013117</td>\n",
       "      <td>54.620850</td>\n",
       "      <td>8.737700</td>\n",
       "      <td>11.675267</td>\n",
       "      <td>98.041600</td>\n",
       "    </tr>\n",
       "    <tr>\n",
       "      <th>7</th>\n",
       "      <td>25.714000</td>\n",
       "      <td>78.140350</td>\n",
       "      <td>11.819417</td>\n",
       "      <td>107.366017</td>\n",
       "      <td>195.262250</td>\n",
       "    </tr>\n",
       "    <tr>\n",
       "      <th>8</th>\n",
       "      <td>23.638917</td>\n",
       "      <td>59.122583</td>\n",
       "      <td>9.062133</td>\n",
       "      <td>9.559017</td>\n",
       "      <td>194.301200</td>\n",
       "    </tr>\n",
       "    <tr>\n",
       "      <th>9</th>\n",
       "      <td>27.379333</td>\n",
       "      <td>76.755550</td>\n",
       "      <td>10.400650</td>\n",
       "      <td>17.121183</td>\n",
       "      <td>197.445733</td>\n",
       "    </tr>\n",
       "  </tbody>\n",
       "</table>\n",
       "</div>"
      ],
      "text/plain": [
       "        utag    stagate        knn      radius     graphst\n",
       "0  21.780317  60.858267   8.629300   17.983300   94.930150\n",
       "1  26.938633  58.318267  11.992850    8.700550  193.595367\n",
       "2  24.431650  79.758683   8.632367   18.871267   99.466617\n",
       "3  38.839600  78.191550  14.428450   12.953150  194.284383\n",
       "4  27.351250  79.007683   9.089850   11.643417  101.737850\n",
       "5  21.674133  59.458417   8.818000   12.566583  101.740033\n",
       "6   0.013117  54.620850   8.737700   11.675267   98.041600\n",
       "7  25.714000  78.140350  11.819417  107.366017  195.262250\n",
       "8  23.638917  59.122583   9.062133    9.559017  194.301200\n",
       "9  27.379333  76.755550  10.400650   17.121183  197.445733"
      ]
     },
     "execution_count": 7,
     "metadata": {},
     "output_type": "execute_result"
    }
   ],
   "source": [
    "runtime_df"
   ]
  },
  {
   "cell_type": "markdown",
   "metadata": {},
   "source": [
    "## Runtime from logger"
   ]
  },
  {
   "cell_type": "code",
   "execution_count": 10,
   "metadata": {},
   "outputs": [],
   "source": [
    "methods = ['knn', 'radius', 'utag', 'stagate', 'graphst']\n",
    "jobids = [42437430, 42437787, 42437788, 42437789, 42437790]\n",
    "\n",
    "runtime_dict = dict()\n",
    "for i in range(len(methods)):\n",
    "\n",
    "    method = methods[i]\n",
    "    jobid = jobids[i]\n",
    "\n",
    "    runtimes = []\n",
    "    for taskid in range(11,111,11):\n",
    "\n",
    "        opath = f'/stanley/WangLab/kamal/outputs/spin/reviews/{tissue}/{method}/{tissue}_{method}.sh.o{jobid}.{taskid}'\n",
    "        with open(opath) as f:\n",
    "            lines = f.readlines()\n",
    "            for line in lines:\n",
    "                if 'Smoothing\\n' in line:\n",
    "                    start = line.split(' - ')[0][2:-4]\n",
    "                elif 'Clustering\\n' in line:\n",
    "                    end = line.split(' - ')[0][2:-4]\n",
    "            start = datetime.strptime(start, '%y-%m-%d %H:%M:%S')\n",
    "            end = datetime.strptime(end, '%y-%m-%d %H:%M:%S')\n",
    "            runtimes.append((end-start).seconds / 60)\n",
    "        \n",
    "    runtime_dict[method] = runtimes\n",
    "    runtime_df = pd.DataFrame(runtime_dict)"
   ]
  },
  {
   "cell_type": "code",
   "execution_count": 11,
   "metadata": {},
   "outputs": [
    {
     "data": {
      "text/plain": [
       "{'knn': [0.38333333333333336,\n",
       "  0.4166666666666667,\n",
       "  0.4,\n",
       "  0.5833333333333334,\n",
       "  0.43333333333333335,\n",
       "  0.38333333333333336,\n",
       "  0.38333333333333336,\n",
       "  0.5833333333333334,\n",
       "  0.4,\n",
       "  0.4],\n",
       " 'radius': [0.7666666666666667,\n",
       "  0.4166666666666667,\n",
       "  0.7833333333333333,\n",
       "  0.4166666666666667,\n",
       "  0.5,\n",
       "  0.38333333333333336,\n",
       "  0.4166666666666667,\n",
       "  0.4,\n",
       "  0.4166666666666667,\n",
       "  0.7166666666666667],\n",
       " 'utag': [13.933333333333334,\n",
       "  14.85,\n",
       "  13.95,\n",
       "  14.15,\n",
       "  13.95,\n",
       "  14.216666666666667,\n",
       "  13.883333333333333,\n",
       "  14.016666666666667,\n",
       "  14.016666666666667,\n",
       "  14.416666666666666],\n",
       " 'stagate': [110.66666666666667,\n",
       "  107.5,\n",
       "  121.85,\n",
       "  119.56666666666666,\n",
       "  119.13333333333334,\n",
       "  107.15,\n",
       "  100.53333333333333,\n",
       "  117.65,\n",
       "  108.36666666666666,\n",
       "  116.06666666666666],\n",
       " 'graphst': [80.45,\n",
       "  167.46666666666667,\n",
       "  88.43333333333334,\n",
       "  168.05,\n",
       "  89.93333333333334,\n",
       "  89.81666666666666,\n",
       "  82.55,\n",
       "  168.66666666666666,\n",
       "  168.4,\n",
       "  171.0]}"
      ]
     },
     "execution_count": 11,
     "metadata": {},
     "output_type": "execute_result"
    }
   ],
   "source": [
    "runtime_dict"
   ]
  },
  {
   "cell_type": "markdown",
   "metadata": {},
   "source": [
    "## Plot performance"
   ]
  },
  {
   "cell_type": "code",
   "execution_count": 12,
   "metadata": {},
   "outputs": [],
   "source": [
    "order = ['knn', 'radius', 'utag', 'stagate', 'graphst']\n",
    "hue_order = order"
   ]
  },
  {
   "cell_type": "code",
   "execution_count": 13,
   "metadata": {},
   "outputs": [
    {
     "data": {
      "image/png": "[encoded data removed]",
      "text/plain": [
       "<Figure size 600x200 with 1 Axes>"
      ]
     },
     "metadata": {},
     "output_type": "display_data"
    }
   ],
   "source": [
    "plt.figure(figsize=(6,2))\n",
    "sns.boxplot(data=memusage_df, log_scale=False, fill=False, order=order, hue_order=hue_order)\n",
    "sns.stripplot(data=memusage_df, log_scale=False, order=order, hue_order=hue_order)\n",
    "plt.ylabel('Memory usage (GB)')\n",
    "plt.xlabel('Method')\n",
    "\n",
    "filename = f'memusage_{tissue}.png'\n",
    "filepath = os.path.join(figpath,filename)\n",
    "plt.savefig(filepath, bbox_inches='tight', dpi=dpi)\n",
    "\n",
    "plt.show()"
   ]
  },
  {
   "cell_type": "code",
   "execution_count": 14,
   "metadata": {},
   "outputs": [
    {
     "data": {
      "image/png": "[encoded data removed]",
      "text/plain": [
       "<Figure size 600x200 with 1 Axes>"
      ]
     },
     "metadata": {},
     "output_type": "display_data"
    }
   ],
   "source": [
    "plt.figure(figsize=(6,2))\n",
    "sns.boxplot(data=runtime_df, log_scale=False, fill=False, order=order, hue_order=hue_order)\n",
    "sns.stripplot(data=runtime_df, log_scale=False, order=order, hue_order=hue_order)\n",
    "plt.ylabel('Runtime (mins)')\n",
    "plt.xlabel('Method')\n",
    "\n",
    "filename = f'runtime_{tissue}.png'\n",
    "filepath = os.path.join(figpath,filename)\n",
    "plt.savefig(filepath, bbox_inches='tight', dpi=dpi)\n",
    "\n",
    "plt.show()"
   ]
  }
 ],
 "metadata": {
  "kernelspec": {
   "display_name": "Python 3 (ipykernel)",
   "language": "python",
   "name": "python3"
  },
  "language_info": {
   "codemirror_mode": {
    "name": "ipython",
    "version": 3
   },
   "file_extension": ".py",
   "mimetype": "text/x-python",
   "name": "python",
   "nbconvert_exporter": "python",
   "pygments_lexer": "ipython3",
   "version": "3.9.16"
  },
  "orig_nbformat": 4
 },
 "nbformat": 4,
 "nbformat_minor": 2
}
